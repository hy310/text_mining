{
 "cells": [
  {
   "cell_type": "code",
   "execution_count": null,
   "metadata": {},
   "outputs": [],
   "source": [
    "# 필요한 패키지 불러오기 \n",
    "\n",
    "\n",
    "\n",
    "import warnings\n",
    "warnings.filterwarnings('ignore')\n"
   ]
  },
  {
   "cell_type": "code",
   "execution_count": null,
   "metadata": {},
   "outputs": [],
   "source": [
    "# 데이터 화일 읽어 오기 \n",
    "\n",
    "\n",
    "data = pd.read_csv( '화일이름'   )\n"
   ]
  },
  {
   "cell_type": "code",
   "execution_count": null,
   "metadata": {},
   "outputs": [],
   "source": [
    "# shape 함수 : 데이터 크기 (행과 열) 확인 하기 \n",
    "\n",
    "\n",
    "data.\n"
   ]
  },
  {
   "cell_type": "code",
   "execution_count": null,
   "metadata": {},
   "outputs": [],
   "source": [
    "# info() 함수 : 데이터에 대한 전반적인 정보를 표시\n",
    "# Data를 구성하는 행과 열의 크기, 컬럼명, 컬럼을 구성하는 값의 자료형 등을 출력\n",
    "\n",
    "data.info()"
   ]
  },
  {
   "cell_type": "code",
   "execution_count": null,
   "metadata": {},
   "outputs": [],
   "source": [
    "# keys() 함수 : 데이터 칼럼명 확인 하기 \n",
    "\n",
    "\n",
    "data.\n"
   ]
  },
  {
   "cell_type": "code",
   "execution_count": null,
   "metadata": {},
   "outputs": [],
   "source": [
    "# 데이터 앞부분의 내용 확인 하기 \n",
    "\n",
    "\n",
    "data.\n"
   ]
  },
  {
   "cell_type": "code",
   "execution_count": null,
   "metadata": {},
   "outputs": [],
   "source": [
    "# 데이터 뒷부분의 내용 확인 하기 \n",
    "\n",
    "\n",
    "\n",
    "data.\n"
   ]
  },
  {
   "cell_type": "code",
   "execution_count": null,
   "metadata": {},
   "outputs": [],
   "source": [
    "# 데이터 내용 중에 누락된 값 확인하기\n",
    "\n",
    "\n",
    "data.       #checking for total null values, 나이의 경우 누락된 값이 많음 (177)\n"
   ]
  },
  {
   "cell_type": "code",
   "execution_count": null,
   "metadata": {},
   "outputs": [],
   "source": [
    "# 데이터의 column 별 요약 통계량  확인하기 - 숫자형 자료에만 적용\n",
    "# count는 not-null의 데이터 건수\n",
    "# mean은 전체 데이터 평균값 \n",
    "\n",
    "data.\n"
   ]
  },
  {
   "cell_type": "code",
   "execution_count": null,
   "metadata": {},
   "outputs": [],
   "source": [
    "# 데이터의 분포도를 확인하는데 매우 유용한 함수\n",
    "\n",
    "data['Pclass']."
   ]
  },
  {
   "cell_type": "markdown",
   "metadata": {},
   "source": [
    "## ■ 데이터를 그룹별로 분류하기 "
   ]
  },
  {
   "cell_type": "code",
   "execution_count": null,
   "metadata": {},
   "outputs": [],
   "source": [
    "\n",
    "data.groupby(['Sex','Survived']).count()    # Sex : 2개 그룹 , Survived : 2개 그룹\n"
   ]
  },
  {
   "cell_type": "code",
   "execution_count": null,
   "metadata": {},
   "outputs": [],
   "source": [
    "# 각 성별의 생존자 와 사망자 그룹별로 평균값을 계산 (수치 데이터만 계산됨 )\n",
    "\n",
    "\n",
    "data.groupby(['Sex','Survived']).\n"
   ]
  },
  {
   "cell_type": "code",
   "execution_count": null,
   "metadata": {},
   "outputs": [],
   "source": [
    "# 각 성별 그룹으로 생존자 수를 계산하고자 할 때\n",
    "\n",
    "\n",
    "data.groupby(['Sex'])['Survived'].\n"
   ]
  },
  {
   "cell_type": "code",
   "execution_count": null,
   "metadata": {},
   "outputs": [],
   "source": [
    "# 각 성별의 생존자 와 사망자 그룹의 평균 나이를 계산하고자 할 때\n",
    "\n",
    "\n",
    "data.groupby(['Sex','Survived'])[\n"
   ]
  },
  {
   "cell_type": "markdown",
   "metadata": {},
   "source": [
    "## ■ loc 와 iloc 함수 이용"
   ]
  },
  {
   "cell_type": "code",
   "execution_count": null,
   "metadata": {},
   "outputs": [],
   "source": [
    "#  loc method 는 \"이름\" 으로 데이터를 선택함\n",
    "\n",
    "\n",
    "data.loc[ :2 ]   # 처음부터 \"2\" 라는 이름을 가진 행까지 가져옴\n"
   ]
  },
  {
   "cell_type": "code",
   "execution_count": null,
   "metadata": {},
   "outputs": [],
   "source": [
    "#  iloc method 는  integer 수를 이용하여 해당 데이터를 선택함\n",
    "\n",
    "data.iloc[ :2 ]      # 0 ~ n-1 까지 해당, 즉 0~1 까지 \n"
   ]
  },
  {
   "cell_type": "code",
   "execution_count": null,
   "metadata": {},
   "outputs": [],
   "source": [
    "# 확인 하기 \n",
    "\n",
    "\n",
    "data.loc[ :2 , ['Survived', 'Pclass','Name'] ]\n"
   ]
  },
  {
   "cell_type": "code",
   "execution_count": null,
   "metadata": {},
   "outputs": [],
   "source": [
    "# 확인 하기 \n",
    "\n",
    "\n",
    "data.iloc[ :2 ,  1:4  ]\n"
   ]
  },
  {
   "cell_type": "code",
   "execution_count": null,
   "metadata": {},
   "outputs": [],
   "source": [
    "# 확인 하기 \n",
    "\n",
    "\n",
    "data.head(10)\n"
   ]
  },
  {
   "cell_type": "code",
   "execution_count": null,
   "metadata": {},
   "outputs": [],
   "source": [
    "# 확인 하기   - 위 셀의 출력으로 확인 \n",
    "\n",
    "\n",
    "data.iloc[ [ 3, 8 ] ,  :  ]\n"
   ]
  },
  {
   "cell_type": "code",
   "execution_count": null,
   "metadata": {},
   "outputs": [],
   "source": [
    "# 생존한 남자  중에 30세 이상이면서 33세 이하 데이터를 추출하고자 할 때\n",
    "\n",
    "\n",
    "data[  ( data.Sex ==  ) & ( data.Survived == ) & ( ( data.Age ) & ( data.Age ) )  ]\n"
   ]
  },
  {
   "cell_type": "code",
   "execution_count": null,
   "metadata": {},
   "outputs": [],
   "source": []
  },
  {
   "cell_type": "markdown",
   "metadata": {},
   "source": [
    "## 수고하셨습니다.  😀"
   ]
  }
 ],
 "metadata": {
  "kernelspec": {
   "display_name": "Python 3",
   "language": "python",
   "name": "python3"
  },
  "language_info": {
   "codemirror_mode": {
    "name": "ipython",
    "version": 3
   },
   "file_extension": ".py",
   "mimetype": "text/x-python",
   "name": "python",
   "nbconvert_exporter": "python",
   "pygments_lexer": "ipython3",
   "version": "3.7.6"
  }
 },
 "nbformat": 4,
 "nbformat_minor": 4
}
