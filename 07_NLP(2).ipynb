{
 "cells": [
  {
   "cell_type": "markdown",
   "metadata": {},
   "source": [
    "<span style=\"color:blue\">\n",
    "    \n",
    "# konlpy 형태소 분석기 불러오기\n",
    "    \n",
    "</span>"
   ]
  },
  {
   "cell_type": "code",
   "execution_count": 1,
   "metadata": {},
   "outputs": [],
   "source": [
    "# 필요한 패키지 불러오기\n",
    "\n",
    "import warnings\n",
    "warnings.filterwarnings('ignore')\n",
    "\n",
    "\n",
    "from konlpy.tag import Kkma\n",
    "from konlpy.tag import Komoran\n",
    "from konlpy.tag import Hannanum\n",
    "from konlpy.tag import Okt\n"
   ]
  },
  {
   "cell_type": "markdown",
   "metadata": {},
   "source": [
    "## 형태소 마다 제공하는 메소드에 차이가 있음\n",
    "\n",
    "- tagset, morphs, pos, nouns 메소드는 공통으로 제공 \n",
    "\n",
    "참조 사이트: https://konlpy.org/ko/v0.4.3/api/konlpy.tag/\n"
   ]
  },
  {
   "cell_type": "code",
   "execution_count": 3,
   "metadata": {},
   "outputs": [],
   "source": [
    "# 각 형태소 분석기의 object instance 만들기\n",
    "\n",
    "kkma = Kkma() \n",
    "\n",
    "komoran = Komoran() \n",
    "\n",
    "hannanum = Hannanum() \n",
    "\n",
    "okt = Okt() \n"
   ]
  },
  {
   "cell_type": "code",
   "execution_count": 6,
   "metadata": {},
   "outputs": [
    {
     "name": "stdout",
     "output_type": "stream",
     "text": [
      "꼬꼬마 : {'EC': '연결 어미', 'ECD': '의존적 연결 어미', 'ECE': '대등 연결 어미', 'ECS': '보조적 연결 어미', 'EF': '종결 어미', 'EFA': '청유형 종결 어미', 'EFI': '감탄형 종결 어미', 'EFN': '평서형 종결 어미', 'EFO': '명령형 종결 어미', 'EFQ': '의문형 종결 어미', 'EFR': '존칭형 종결 어미', 'EP': '선어말 어미', 'EPH': '존칭 선어말 어미', 'EPP': '공손 선어말 어미', 'EPT': '시제 선어말 어미', 'ET': '전성 어미', 'ETD': '관형형 전성 어미', 'ETN': '명사형 전성 어미', 'IC': '감탄사', 'JC': '접속 조사', 'JK': '조사', 'JKC': '보격 조사', 'JKG': '관형격 조사', 'JKI': '호격 조사', 'JKM': '부사격 조사', 'JKO': '목적격 조사', 'JKQ': '인용격 조사', 'JKS': '주격 조사', 'JX': '보조사', 'MA': '부사', 'MAC': '접속 부사', 'MAG': '일반 부사', 'MD': '관형사', 'MDN': '수 관형사', 'MDT': '일반 관형사', 'NN': '명사', 'NNB': '일반 의존 명사', 'NNG': '보통명사', 'NNM': '단위 의존 명사', 'NNP': '고유명사', 'NP': '대명사', 'NR': '수사', 'OH': '한자', 'OL': '외국어', 'ON': '숫자', 'SE': '줄임표', 'SF': '마침표, 물음표, 느낌표', 'SO': '붙임표(물결,숨김,빠짐)', 'SP': '쉼표,가운뎃점,콜론,빗금', 'SS': '따옴표,괄호표,줄표', 'SW': '기타기호 (논리수학기호,화폐기호)', 'UN': '명사추정범주', 'VA': '형용사', 'VC': '지정사', 'VCN': \"부정 지정사, 형용사 '아니다'\", 'VCP': \"긍정 지정사, 서술격 조사 '이다'\", 'VV': '동사', 'VX': '보조 용언', 'VXA': '보조 형용사', 'VXV': '보조 동사', 'XP': '접두사', 'XPN': '체언 접두사', 'XPV': '용언 접두사', 'XR': '어근', 'XSA': '형용사 파생 접미사', 'XSN': '명사파생 접미사', 'XSV': '동사 파생 접미사'}\n",
      "\n",
      "코모란 : {'EC': '연결 어미', 'EF': '종결 어미', 'EP': '선어말어미', 'ETM': '관형형 전성 어미', 'ETN': '명사형 전성 어미', 'IC': '감탄사', 'JC': '접속 조사', 'JKB': '부사격 조사', 'JKC': '보격 조사', 'JKG': '관형격 조사', 'JKO': '목적격 조사', 'JKQ': '인용격 조사', 'JKS': '주격 조사', 'JKV': '호격 조사', 'JX': '보조사', 'MAG': '일반 부사', 'MAJ': '접속 부사', 'MM': '관형사', 'NA': '분석불능범주', 'NF': '명사추정범주', 'NNB': '의존 명사', 'NNG': '일반 명사', 'NNP': '고유 명사', 'NP': '대명사', 'NR': '수사', 'NV': '용언추정범주', 'SE': '줄임표', 'SF': '마침표, 물음표, 느낌표', 'SH': '한자', 'SL': '외국어', 'SN': '숫자', 'SO': '붙임표(물결,숨김,빠짐)', 'SP': '쉼표,가운뎃점,콜론,빗금', 'SS': '따옴표,괄호표,줄표', 'SW': '기타기호 (논리수학기호,화폐기호)', 'VA': '형용사', 'VCN': '부정 지정사', 'VCP': '긍정 지정사', 'VV': '동사', 'VX': '보조 용언', 'XPN': '체언 접두사', 'XR': '어근', 'XSA': '형용사 파생 접미사', 'XSN': '명사파생 접미사', 'XSV': '동사 파생 접미사'}\n",
      "\n",
      "한나눔 : {'E': '어미', 'EC': '연결 어미', 'EF': '종결 어미', 'EP': '선어말어미', 'ET': '전성 어미', 'F': '외국어', 'I': '독립언', 'II': '감탄사', 'J': '관계언', 'JC': '격조사', 'JP': '서술격 조사', 'JX': '보조사', 'M': '수식언', 'MA': '부사', 'MM': '관형사', 'N': '체언', 'NB': '의존명사', 'NC': '보통명사', 'NN': '수사', 'NP': '대명사', 'NQ': '고유명사', 'P': '용언', 'PA': '형용사', 'PV': '동사', 'PX': '보조 용언', 'S': '기호', 'X': '접사', 'XP': '접두사', 'XS': '접미사'}\n",
      "\n",
      "Okt : {'Adjective': '형용사', 'Adverb': '부사', 'Alpha': '알파벳', 'Conjunction': '접속사', 'Determiner': '관형사', 'Eomi': '어미', 'Exclamation': '감탄사', 'Foreign': '외국어, 한자 및 기타기호', 'Hashtag': '트위터 해쉬태그', 'Josa': '조사', 'KoreanParticle': '(ex: ㅋㅋ)', 'Noun': '명사', 'Number': '숫자', 'PreEomi': '선어말어미', 'Punctuation': '구두점', 'ScreenName': '트위터 아이디', 'Suffix': '접미사', 'Unknown': '미등록어', 'Verb': '동사'}\n",
      "\n"
     ]
    }
   ],
   "source": [
    "# 각 분석기의 tag set을 확인\n",
    "\n",
    "print(\"꼬꼬마 : %s\\n\" % kkma.tagset)\n",
    "print(\"코모란 : %s\\n\" % komoran.tagset)\n",
    "print(\"한나눔 : %s\\n\" % hannanum.tagset)\n",
    "print(\"Okt : %s\\n\" % okt.tagset)\n"
   ]
  },
  {
   "cell_type": "markdown",
   "metadata": {},
   "source": [
    "## 형태소 분석 성능 비교"
   ]
  },
  {
   "cell_type": "code",
   "execution_count": 7,
   "metadata": {},
   "outputs": [
    {
     "name": "stdout",
     "output_type": "stream",
     "text": [
      "꼬꼬마 : ['아버지', '가방', '에', '들어가', '시', 'ㄴ다']\n",
      "\n",
      "코모란 : ['아버지', '가방', '에', '들어가', '시', 'ㄴ다']\n",
      "\n",
      "한나눔 : ['아버지가방에들어가', '이', '시ㄴ다']\n",
      "\n",
      "Okt : ['아버지', '가방', '에', '들어가신다']\n",
      "\n"
     ]
    }
   ],
   "source": [
    "# (경우 1) 띄어쓰기가 올바르지 않은 문장\n",
    "\n",
    "text = \"아버지가방에들어가신다\"\n",
    "\n",
    "# 각 분석기의 형태소 분석 차이 확인 \n",
    "\n",
    "print(\"꼬꼬마 : %s\\n\" % kkma.morphs(text))\n",
    "print(\"코모란 : %s\\n\" % komoran.morphs(text))\n",
    "print(\"한나눔 : %s\\n\" % hannanum.morphs(text))\n",
    "print(\"Okt : %s\\n\" % okt.morphs(text))\n"
   ]
  },
  {
   "cell_type": "code",
   "execution_count": 8,
   "metadata": {},
   "outputs": [
    {
     "name": "stdout",
     "output_type": "stream",
     "text": [
      "꼬꼬마 : [('아버지', 'NNG'), ('가방', 'NNG'), ('에', 'JKM'), ('들어가', 'VV'), ('시', 'EPH'), ('ㄴ다', 'EFN')]\n",
      "\n",
      "코모란 : [('아버지', 'NNG'), ('가방', 'NNP'), ('에', 'JKB'), ('들어가', 'VV'), ('시', 'EP'), ('ㄴ다', 'EC')]\n",
      "\n",
      "한나눔 : [('아버지가방에들어가', 'N'), ('이', 'J'), ('시ㄴ다', 'E')]\n",
      "\n",
      "Okt : [('아버지', 'Noun'), ('가방', 'Noun'), ('에', 'Josa'), ('들어가신다', 'Verb')]\n",
      "\n"
     ]
    }
   ],
   "source": [
    "# 각 분석기의 품사 태깅 차이 확인 \n",
    "\n",
    "print(\"꼬꼬마 : %s\\n\" % kkma.pos(text))\n",
    "print(\"코모란 : %s\\n\" % komoran.pos(text))\n",
    "print(\"한나눔 : %s\\n\" % hannanum.pos(text))\n",
    "print(\"Okt : %s\\n\" % okt.pos(text))\n",
    "\n"
   ]
  },
  {
   "cell_type": "code",
   "execution_count": 9,
   "metadata": {},
   "outputs": [
    {
     "name": "stdout",
     "output_type": "stream",
     "text": [
      "꼬꼬마 : [('안녕ㅎㅏㅅㅔ', 'UN'), ('여', 'JKI'), ('ㅈㅓ', 'UN'), ('는', 'JX'), ('ㄷ', 'NNG'), ('ㅐ', 'UN'), ('학생', 'NNG'), ('이', 'VCP'), ('ㅂ니다', 'EFN'), ('.', 'SF')]\n",
      "\n",
      "코모란 : [('안녕', 'NNP'), ('하', 'NNP'), ('세', 'NNB'), ('이', 'VCP'), ('어', 'EC'), ('저', 'NP'), ('는', 'JX'), ('대학생', 'NNG'), ('이', 'VCP'), ('ㅂ니다', 'EF'), ('.', 'SF')]\n",
      "\n",
      "한나눔 : [('안녕ㅎㅏㅅㅔ', 'N'), ('이', 'J'), ('어', 'E'), ('ㅈㅓ', 'N'), ('는', 'J'), ('ㄷㅐ학생', 'N'), ('일', 'P'), ('ㅂ니다', 'E'), ('.', 'S')]\n",
      "\n",
      "Okt : [('안녕', 'Noun'), ('ㅎㅏㅅㅔ', 'KoreanParticle'), ('여', 'Noun'), ('ㅈㅓ', 'KoreanParticle'), ('는', 'Verb'), ('ㄷㅐ', 'KoreanParticle'), ('학생', 'Noun'), ('입니다', 'Adjective'), ('.', 'Punctuation')]\n",
      "\n"
     ]
    }
   ],
   "source": [
    "# (경우 2) 오타가 있는 문장\n",
    "\n",
    "text2 = \"안녕ㅎㅏㅅㅔ여 ㅈㅓ는 ㄷㅐ학생 입니다. \"\n",
    "\n",
    "print(\"꼬꼬마 : %s\\n\" % kkma.pos(text2))  # 오타가 있더라도 나름 잘 분석\n",
    "print(\"코모란 : %s\\n\" % komoran.pos(text2))\n",
    "print(\"한나눔 : %s\\n\" % hannanum.pos(text2))\n",
    "print(\"Okt : %s\\n\" % okt.pos(text2))\n"
   ]
  },
  {
   "cell_type": "code",
   "execution_count": 10,
   "metadata": {},
   "outputs": [
    {
     "name": "stdout",
     "output_type": "stream",
     "text": [
      "꼬꼬마 : [('도움', 'NNG'), ('이', 'JKC'), ('되', 'VV'), ('시', 'EPH'), ('었', 'EPT'), ('다면', 'ECE'), ('공감', 'NNG'), ('을', 'JKO'), ('꾸욱', 'UN'), ('눌르', 'VV'), ('어', 'ECS'), ('주세', 'NNG'), ('요', 'JX'), ('~~', 'SW'), ('.', 'SF'), ('네이버', 'NNP'), ('블', 'VV'), ('ㄹ', 'ETD'), ('로그', 'NNG'), ('^^;', 'EMO'), ('많이', 'MAG'), ('놀', 'VV'), ('러', 'ECD'), ('오', 'VV'), ('아', 'ECS'), ('주세', 'NNG'), ('용', 'XSN'), ('ㅋㅋㅋ', 'EMO')]\n",
      "\n",
      "코모란 : [('도움', 'NNG'), ('이', 'JKS'), ('되', 'VV'), ('시', 'EP'), ('었', 'EP'), ('다면', 'EC'), ('공감', 'NNG'), ('을', 'JKO'), ('꾸욱', 'NA'), ('누르', 'VV'), ('어', 'EC'), ('주', 'VX'), ('시', 'EP'), ('어요', 'EC'), ('~', 'SO'), ('~', 'SO'), ('.', 'SF'), ('네이버', 'NNP'), ('블로그', 'NNP'), ('^', 'SW'), ('^', 'SW'), (';', 'SP'), ('많이', 'MAG'), ('놀', 'VV'), ('러', 'EC'), ('오', 'VV'), ('아', 'EC'), ('주세', 'NNG'), ('용', 'XSN'), ('ㅋㅋㅋ', 'NA')]\n",
      "\n",
      "한나눔 : [('도움', 'N'), ('이', 'J'), ('되', 'P'), ('셨다면', 'E'), ('공감', 'N'), ('을', 'J'), ('꾸욱', 'N'), ('누르', 'P'), ('어', 'E'), ('주', 'P'), ('세', 'E'), ('요', 'J'), ('~~', 'S'), ('.', 'S'), ('네이버', 'N'), ('블로그', 'N'), ('^^;', 'S'), ('많', 'P'), ('이', 'X'), ('놀', 'P'), ('러', 'E'), ('오', 'P'), ('아', 'E'), ('주세용', 'N'), ('ㅋㅋㅋ', 'N')]\n",
      "\n",
      "Okt : [('도움', 'Noun'), ('이', 'Josa'), ('되셨다면', 'Verb'), ('공감', 'Noun'), ('을', 'Josa'), ('꾸욱', 'Noun'), ('눌러', 'Verb'), ('주세요', 'Verb'), ('~~.', 'Punctuation'), ('네이버', 'Noun'), ('블로그', 'Noun'), ('^^;', 'Punctuation'), ('많이', 'Adverb'), ('놀러', 'Verb'), ('와', 'Verb'), ('주', 'Modifier'), ('세용', 'Noun'), ('ㅋㅋㅋ', 'KoreanParticle')]\n",
      "\n"
     ]
    }
   ],
   "source": [
    "# (경우 3) 블로그 문장 분석 비교 \n",
    "\n",
    "\n",
    "text3 ='도움이 되셨다면 공감을 꾸욱 눌러 주세요~~. 네이버 블로그 ^^; 많이 놀러 와 주세용 ㅋㅋㅋ'\n",
    "\n",
    "print(\"꼬꼬마 : %s\\n\" % kkma.pos(text3))\n",
    "print(\"코모란 : %s\\n\" % komoran.pos(text3))\n",
    "print(\"한나눔 : %s\\n\" % hannanum.pos(text3))\n",
    "print(\"Okt : %s\\n\" % okt.pos(text3))\n"
   ]
  },
  {
   "cell_type": "markdown",
   "metadata": {},
   "source": [
    "## KoNLPy에서는 대한민국 헌법 말뭉치인 'kolaw'와 국회법안 말뭉치인 'kobill'을 제공하고 있음\n"
   ]
  },
  {
   "cell_type": "code",
   "execution_count": 11,
   "metadata": {},
   "outputs": [
    {
     "data": {
      "text/plain": [
       "['constitution.txt']"
      ]
     },
     "execution_count": 11,
     "metadata": {},
     "output_type": "execute_result"
    }
   ],
   "source": [
    "# 헌법 말뭉치 가져오기 \n",
    "\n",
    "from konlpy.corpus import kolaw\n",
    "\n",
    "kolaw.fileids()\n"
   ]
  },
  {
   "cell_type": "code",
   "execution_count": 12,
   "metadata": {},
   "outputs": [
    {
     "name": "stdout",
     "output_type": "stream",
     "text": [
      "대한민국헌법\n",
      "\n",
      "유구한 역사와 전통에 빛나는 우리 대한국민은 3·1운동으로 건립된 대한민국임시정부의 법통과 불의에 항거한 4·19민주이념을 계승하고, 조국의 민주개혁과 평화적 통일의 사명에 입각하여 정의·인도와 동포애로써 민족의 단결을 공고히 하고, 모든 사회적 폐습과 불의를 타파하며, 자율과 조화를 바탕으로 자유민주적 기본질서를 더욱 확고히 하여 정치·경제·사회·문화의 모든 영역에 있어서 각인의 기회를 균등히 하고, 능력을 최고도로 발휘하게 하며, 자유와 권리에 따르는 책임과 의무를 완수하게 하여, 안으로는 국민생활의 균등한 향상을 기하고 밖으로는 항구적인 세계평화와 인류공영에 이바지함으로써 우리들과 우리들의 자손의 안전과 자유와 행복을 영원히 확보할 것을 다짐하면서 1948년 7월 12일에 제정되고 8차에 걸쳐 개정된 헌법을 이제 국회의 의결을 거쳐 국민투표에 의하여 개정한다.\n",
      "\n",
      "       제1장 총강\n",
      "  제1조 ① 대한민국은 민주공화국이다.\n",
      "②대한민국의 주권은 국민에게 있고, \n"
     ]
    }
   ],
   "source": [
    "# 헌법 file 읽어 오기 \n",
    "\n",
    "\n",
    "cons = kolaw.open('constitution.txt').read()\n",
    "\n",
    "print(cons[:500])\n"
   ]
  },
  {
   "cell_type": "code",
   "execution_count": 13,
   "metadata": {},
   "outputs": [
    {
     "data": {
      "text/plain": [
       "['1809890.txt',\n",
       " '1809891.txt',\n",
       " '1809892.txt',\n",
       " '1809893.txt',\n",
       " '1809894.txt',\n",
       " '1809895.txt',\n",
       " '1809896.txt',\n",
       " '1809897.txt',\n",
       " '1809898.txt',\n",
       " '1809899.txt']"
      ]
     },
     "execution_count": 13,
     "metadata": {},
     "output_type": "execute_result"
    }
   ],
   "source": [
    "# 국회법안 말뭉치 가져오기 \n",
    "\n",
    "from konlpy.corpus import kobill\n",
    "\n",
    "kobill.fileids()\n"
   ]
  },
  {
   "cell_type": "code",
   "execution_count": 14,
   "metadata": {},
   "outputs": [
    {
     "name": "stdout",
     "output_type": "stream",
     "text": [
      "지방공무원법 일부개정법률안\n",
      "\n",
      "(정의화의원 대표발의 )\n",
      "\n",
      " 의 안\n",
      " 번 호\n",
      "\n",
      "9890\n",
      "\n",
      "발의연월일 : 2010.  11.  12.  \n",
      "\n",
      "발  의  자 : 정의화․이명수․김을동 \n",
      "\n",
      "이사철․여상규․안규백\n",
      "\n",
      "황영철․박영아․김정훈\n",
      "\n",
      "김학송 의원(10인)\n",
      "\n",
      "제안이유 및 주요내용\n",
      "\n",
      "  초등학교 저학년의 경우에도 부모의 따뜻한 사랑과 보살핌이 필요\n",
      "\n",
      "한 나이이나, 현재 공무원이 자녀를 양육하기 위하여 육아휴직을 할 \n",
      "\n",
      "수 있는 자녀의 나이는 만 6세 이하로 되어 있어 초등학교 저학년인 \n",
      "\n",
      "자녀를 돌보기 위해서는 해당 부모님은 일자리를 그만 두어야\n"
     ]
    }
   ],
   "source": [
    "# 국회법안 file 읽어 오기 \n",
    "\n",
    "kob = kobill.open('1809890.txt').read()\n",
    "\n",
    "print(kob[:300])\n"
   ]
  },
  {
   "cell_type": "code",
   "execution_count": 15,
   "metadata": {},
   "outputs": [
    {
     "name": "stdout",
     "output_type": "stream",
     "text": [
      "['대한민국 헌법 유구한 역사와 전통에 빛나는 우리 대한 국민은 3·1 운동으로 건립된 대한민국 임시정부의 법통과 불의에 항거한 4·19 민주이념을 계승하고, 조국의 민주개혁과 평화적 통일의 사명에 입각하여 정의· 인도와 동포애로써 민족의 단결을 공고히 하고, 모든 사회적 폐습과 불의를 타파하며, 자율과 조화를 바탕으로 자유 민주적 기본질서를 더욱 확고히 하여 정치· 경제· 사회· 문화의 모든 영역에 있어서 각인의 기회를 균등 히 하고, 능력을 최고도로 발휘하게 하며, 자유와 권리에 따르는 책임과 의무를 완수하게 하여, 안으로는 국민생활의 균등한 향상을 기하고 밖으로는 항구적인 세계평화와 인류 공영에 이바지함으로써 우리들과 우리들의 자손의 안전과 자유와 행복을 영원히 확보할 것을 다짐하면서 1948년 7월 12일에 제정되고 8차에 걸쳐 개정된 헌법을 이제 국회의 의결을 거쳐 국민투표에 의하여 개정한다.', '제 1장 총 강 제 1조 ① 대한민국은 민주 공화국이다.', '② 대한민국의 주권은 국민에게 있고, 모든 권력은 국민으로부터 나온다.', '제 2조 ① 대한민국의 국민이 되는 요건은 법률로 정한다.', '② 국가는 법률이 정하는 바에 의하여 재외 국민을 보호할 의무를 진다.', '제 3조 대한민국의 영토는 한반도와 그 부속도 서로 한다.', '제 4조 대한민국은 통일을 지향하며, 자유 민주적 기본질서에 입각한 평화적 통일 정책을 수립하고 이를 추진한다.', '제 5조 ① 대한민국은 국제평화의 유지에 노력하고 침략적 전쟁을 부인한다.', '② 국 군은 국가의 안전보장과 국토 방위의 신성한 의무를 수행함을 사명으로 하며, 그 정치적 중립성은 준수된다.', '제 6조 ① 헌법에 의하여 체결· 공포된 조약과 일반적으로 승인된 국제 법규는 국내 법과 같은 효력을 가진다.', '② 외국인은 국제법과 조약이 정하는 바에 의하여 그 지위가 보장된다.', '제 7조 ① 공무원은 국민 전체에 대한 봉사자이며, 국민에 대하여 책임을 진다.', '② 공무원의 신분과 정치적 중립성은 법률이 정하는 바에 의하여 보장된다.', '제 8조 ① 정당의 설립은 자유이며, 복수정당 제']\n"
     ]
    }
   ],
   "source": [
    "# sentences method 는 kkma 만 제공 \n",
    "\n",
    "print(kkma.sentences(cons[:1000]))\n"
   ]
  },
  {
   "cell_type": "code",
   "execution_count": 16,
   "metadata": {},
   "outputs": [
    {
     "name": "stdout",
     "output_type": "stream",
     "text": [
      "['대한민국헌법', '유구', '역사', '역사와 전통', '우리', '우리 대한국민', '1운동', '건립', '건립된 대한민국임시정부', '건립된 대한민국임시정부의 법통과', '건립된 대한민국임시정부의 법통과 불의', '항거', '19민주이념', '계승', '조국', '조국의 민주개혁', '조국의 민주개혁과 평화적 통일', '조국의 민주개혁과 평화적 통일의 사명', '입각하', '정의', '인도', '인도와 동포애로써', '인도와 동포애로써 민족', '인도와 동포애로써 민족의 단결', '공고', '모든', '모든 사회적 폐습', '모든 사회적 폐습과 불의', '타파', '자율', '자율과 조화', '바탕', '자유민주적 기본질서', '더욱', '정치', '경제', '대한민국', '헌법', '전통', '대한국민', '운동', '임시정부', '통과', '불의', '19', '민주', '이념', '개혁', '통일', '사명', '각하', '동포', '로써', '민족', '단결', '폐습', '조화', '기본질서']\n"
     ]
    }
   ],
   "source": [
    "# phrases method 는 okt 만 제공 \n",
    "\n",
    "print(okt.phrases(cons[:200]))\n"
   ]
  },
  {
   "cell_type": "code",
   "execution_count": 17,
   "metadata": {},
   "outputs": [
    {
     "name": "stdout",
     "output_type": "stream",
     "text": [
      "꼬꼬마 : ['대한', '대한민국', '대한민국헌법', '민국', '헌법', '유구', '역사', '전통', '우리', '국민', '3', '1', '1운동', '운동', '건립', '대한민국임시정부', '임시', '정부', '법통', '불의', '항거', '4', '19', '19민주이념', '민주', '이념', '계승', '조국', '민주개혁', '개혁', '평화적', '통일']\n",
      "\n",
      "코모란 : ['대한민국', '헌법', '역사', '전통', '국민', '운동', '건립', '대한민국', '임시', '정부', '법통', '불의', '항거', '민주', '이념', '계승', '조국', '민주개혁', '평화', '통일']\n",
      "\n",
      "한나눔 : ['대한민국헌법', '유구', '역사', '전통', '빛', '우리', '대한국민', '3·1운동', '건립', '대한민국임시정부', '법통', '불의', '항거', '4·19민주이념', '계승', '조국', '민주개혁', '평화적', '통일']\n",
      "\n",
      "Okt : ['대한민국', '헌법', '유구', '역사', '전통', '우리', '국민', '운동', '건립', '대한민국', '임시정부', '법', '통과', '불의', '항거', '민주', '이념', '계승', '조국', '민주', '개혁', '평화', '통일']\n",
      "\n"
     ]
    }
   ],
   "source": [
    "# nouns 메서드: 명사만 추출\n",
    "# 4개 형태소 분석기에서 공통으로 제공 \n",
    "\n",
    "print(\"꼬꼬마 : %s\\n\" % kkma.nouns(cons[:100]))\n",
    "print(\"코모란 : %s\\n\" % komoran.nouns(cons[:100]))\n",
    "print(\"한나눔 : %s\\n\" % hannanum.nouns(cons[:100]))\n",
    "print(\"Okt : %s\\n\" % okt.nouns(cons[:100]))\n"
   ]
  },
  {
   "cell_type": "markdown",
   "metadata": {},
   "source": [
    "## NLTK 패키지 사용하기 "
   ]
  },
  {
   "cell_type": "code",
   "execution_count": 18,
   "metadata": {},
   "outputs": [
    {
     "data": {
      "text/plain": [
       "<Text: 대한민국헌법>"
      ]
     },
     "execution_count": 18,
     "metadata": {},
     "output_type": "execute_result"
    }
   ],
   "source": [
    "# 필요한 패키지 불러오기 \n",
    "\n",
    "import nltk\n",
    "import matplotlib.pyplot as plt \n",
    "\n",
    "cons_word = okt.morphs(cons)   # 헌법 내용 형태소 분석 \n",
    "\n",
    "cons_nltk = nltk.Text(cons_word, name = \"대한민국헌법\")  # 문자열을 입력받아 토큰열을 생성함\n",
    "\n",
    "cons_nltk\n"
   ]
  },
  {
   "cell_type": "code",
   "execution_count": 19,
   "metadata": {},
   "outputs": [
    {
     "name": "stdout",
     "output_type": "stream",
     "text": [
      "8796\n",
      "1364\n"
     ]
    }
   ],
   "source": [
    "# 모든 단어의 수\n",
    "\n",
    "print(len(cons_nltk.tokens))\n",
    "\n",
    "# 서로 다른 단어의 수\n",
    "\n",
    "print(len(set(cons_nltk.tokens)))"
   ]
  },
  {
   "cell_type": "code",
   "execution_count": 20,
   "metadata": {},
   "outputs": [
    {
     "data": {
      "text/plain": [
       "FreqDist({'의': 380, '.': 357, '에': 282, '을': 211, '\\n': 195, '은': 179, '제': 178, '이': 176, '한다': 155, '·': 145, ...})"
      ]
     },
     "execution_count": 20,
     "metadata": {},
     "output_type": "execute_result"
    }
   ],
   "source": [
    "#단어와 단어의 빈도를 dictionary 형태로 표현 \n",
    "\n",
    "cons_nltk.vocab()\n"
   ]
  },
  {
   "cell_type": "code",
   "execution_count": 21,
   "metadata": {},
   "outputs": [
    {
     "name": "stdout",
     "output_type": "stream",
     "text": [
      "[('의', 380), ('.', 357), ('에', 282), ('을', 211), ('\\n', 195), ('은', 179), ('제', 178), ('이', 176), ('한다', 155), ('·', 145)]\n",
      "\n",
      "\n"
     ]
    },
    {
     "data": {
      "text/plain": [
       "(8796, 380)"
      ]
     },
     "execution_count": 21,
     "metadata": {},
     "output_type": "execute_result"
    }
   ],
   "source": [
    "# FreqDist 클래스의 most_common 메소드를 이용해서 단어와 단어 빈도수를 확인하기\n",
    "# 결과는 list 형태로\n",
    "\n",
    "from nltk import FreqDist\n",
    "\n",
    "cons_fdist = FreqDist(cons_nltk)\n",
    "\n",
    "print(cons_fdist.most_common(10))\n",
    "print('\\n')\n",
    "\n",
    "cons_fdist.N(), cons_fdist['의']    # 8796 개의 단어 중 '의' 는 380번"
   ]
  },
  {
   "cell_type": "code",
   "execution_count": 22,
   "metadata": {},
   "outputs": [
    {
     "name": "stdout",
     "output_type": "stream",
     "text": [
      "▶ 설정되어있는 폰트 사이즈 : 10.0\n",
      "▶ 설정되어있는 폰트 글꼴 :  ['sans-serif']\n",
      "\n",
      "\n"
     ]
    },
    {
     "data": {
      "image/png": "[encoded data removed]",
      "text/plain": [
       "<Figure size 432x288 with 1 Axes>"
      ]
     },
     "metadata": {
      "needs_background": "light"
     },
     "output_type": "display_data"
    }
   ],
   "source": [
    "# NLTK 사용시 한글 폰트 사용하기 \n",
    "# 폰트 미제공시 한글 표시가 안됨 - 아래 그림에서 확인  \n",
    "\n",
    "# 폰트 size, 기본 폰트 확인  \n",
    "# rcParams 참조 사이트:  https://matplotlib.org/stable/api/matplotlib_configuration_api.html\n",
    "\n",
    "print('▶ 설정되어있는 폰트 사이즈 :', plt.rcParams['font.size'] )\n",
    "print('▶ 설정되어있는 폰트 글꼴 : ', plt.rcParams['font.family'])\n",
    "print ('\\n' )\n",
    "\n",
    "# 그림 그리기 \n",
    "\n",
    "cons_nltk.plot(20)   \n"
   ]
  },
  {
   "cell_type": "code",
   "execution_count": 23,
   "metadata": {},
   "outputs": [
    {
     "data": {
      "image/png": "[encoded data removed]",
      "text/plain": [
       "<Figure size 432x288 with 1 Axes>"
      ]
     },
     "metadata": {
      "needs_background": "light"
     },
     "output_type": "display_data"
    }
   ],
   "source": [
    "# 필요한 한글 폰트를 불러오기 \n",
    "\n",
    "from matplotlib import font_manager, rc\n",
    "\n",
    "\n",
    "font_name = font_manager.FontProperties(fname=\"c:/Windows/Fonts/malgun.ttf\", size = 14).get_name()\n",
    "\n",
    "rc('font', family=font_name)\n",
    "\n",
    "# 출현 빈도수 높은 20개 단어 그래프 그리기\n",
    "\n",
    "cons_nltk.plot(20)\n"
   ]
  },
  {
   "cell_type": "code",
   "execution_count": 24,
   "metadata": {},
   "outputs": [
    {
     "data": {
      "image/png": "[encoded data removed]",
      "text/plain": [
       "<Figure size 432x288 with 1 Axes>"
      ]
     },
     "metadata": {
      "needs_background": "light"
     },
     "output_type": "display_data"
    }
   ],
   "source": [
    "# dispersion_plot 메소드는 단어가 사용된 위치를 시각화함\n",
    "\n",
    "cons_nltk.dispersion_plot(['대한민국', '민주', '헌법', '자유', '국민', '권리'])\n",
    "\n"
   ]
  },
  {
   "cell_type": "markdown",
   "metadata": {},
   "source": [
    "## 한글 워드 클라우드 만들기"
   ]
  },
  {
   "cell_type": "markdown",
   "metadata": {},
   "source": [
    "#####  일반적으로 1~6 과정으로 이루어짐\n",
    "\n",
    "1. 데이터 불러오기\n",
    "2. 형태소 분석\n",
    "3. 명사만 불러오기\n",
    "4. 두 음절 이상 단어만 추출하기\n",
    "5. 최빈 단어 확인하기\n",
    "6. word cloud 그리기"
   ]
  },
  {
   "cell_type": "markdown",
   "metadata": {},
   "source": [
    "### 데이터 불러오기"
   ]
  },
  {
   "cell_type": "code",
   "execution_count": 25,
   "metadata": {},
   "outputs": [
    {
     "data": {
      "text/plain": [
       "['인공지능은 최근 5년간 매우 빠른 속도로 진화하고 있다. 과거 이론에 머물거나 제한된 기능만을 수행했던 인공지능은 이제 실제 구현을 통해 그 성능을 증명해내고 다양한 현실 세계의 문제에 하나씩 적용되기 시작했다. 2010년을 전후해 혁신적으로 발전한 알고리즘, 컴퓨팅, 빅데이터 기술이 서로 융복합되며 이런 성과를 이루어 내고 있다. 인공지능 분야의 혁신적인 논문, 이러한 논문들을 실제 구현 가능하게 하는 컴퓨팅 인프라(클라우드 및 GPU), 인공지능을 학습 시킬 수 있는 충분한 데이터가 확보되면서 이론에서 현실로 잘 나오지 못했던 인공지능이 우리의 곁으로 다가오게 된 것이다.\\n',\n",
       " '빠르게 발전하고 있는 인공지능은 이제 여러 분야에서 사람의 능력을 넘어서는 수준으로 구현되고 있다. 광범위한 분야에 걸쳐 인간처럼 외부의 정보를 인식하고, 학습하며, 추론하고, 행동하는 인공지능에 대한 연구가 활발히 진행되고 있다. 특히 시각, 청각지능 분야의 발전으로 인해 인공지능은 이제 사람 보다 더 높은 정확도로 사물을 인식할 수 있고, 사람과 비슷한 수준으로 언어를 이해할 수도 있게 되었다. 이러한 인식분야의 발전으로 인공지능은 이제 외부의 수 많은 데이터를 스스로 인식하고 이해해 지식화할 수 있는 ‘정보’로 받아드릴 수 있게 되었다. 그 동안 축적되어 온 엄청난 빅데이터를 기계가 스스로 학습할 수 있게 되면서 인공지능의 지능이 혁신적으로 발전하고 있는 것이다.\\n',\n",
       " '특히 최근 2년 간은 강화학습 및 관계형 추론, 예측 기반의 행동 분야 연구가 활발히 진행되며 인공지능이 인간의 사고 영역에 한걸음 더 다가 섰다. 알파고의 핵심 기술 중 하나인 강화학습(Reinforcement Learning)에 대한 연구가 2016년 이후 빠르게 발전하고 있다. 강화학습 분야의 발달로 인해 인공지능은 이제 목적 달성을 위한 방법을 시행착오를 통해 스스로 깨우치며 알아간다. 수 십만 번 이상의 반복 학습을 통해 터득하게 된 인공지능의 방법은 때로는 사람들이 전혀 생각해 내지 못했던 방식으로 문제를 해결해 내기도 한다. 게임과 같은 가상의 환경을 중심으로 연구되어 온 강화학습은 최근에는 3차원 환경, 현실 세계를 반영한 환경에서 연구가 진행되고 있다. 특히 일부 기업들의 연구소에서는 향후 제품, 서비스 탑재를 목적으로 강화학습 기반의 인공지능을 연구, 개발하기 시작하고 있다.\\n',\n",
       " '한 걸음 더 나아가 인공지능은 이제 다양한 정보들을 조합해 자신의 관점으로 새로운 명제를 추론(Inference/Reasoning)하거나 미래를 예측하고 행동하기도 한다. 인간의 고유 영역이라고 여겨져 온 추론/행동 분야의 연구는 2017년을 전후해 빠르게 발전해오고 있다. 특히 알파고를 구현한 딥마인드는 인공지능이 마치 인간처럼 추론하고 행동하는 논문을 잇따라 발표하며 인간처럼 유연한 사고가 가능한 인공지능 구현의 가능성을 보였다. 영상 혹은 텍스트로 주어진 정보를 개별적으로 인식하는 수준을 넘어 다양한 정보 간의 상대적인 관계를 직관적으로 파악해 추론해 내거나, 어떤 행동을 실행할 때 단순히 현재 상황에서 최선을 선택하는 것이 아니라 미래에 일어날 일들을 예측해서 행동하기도 한다. 불가능 할 것 같았던 관계형 추론, 예측 기반의 행동 분야의 인공지능 연구가 그 가능성을 보이면서 향후 인공지능의 발전은 한 단계 더 진화할 것으로 전망된다.\\n',\n",
       " '아직 한계는 많다. 막대한 양의 데이터와 컴퓨팅 파워가 필요하다. 알파고의 구현을 위해서만 3000만개의 착점 정보가 필요했고 약 1200개에 달하는 CPU가 동시에 활용되었다.  이러한 한계 극복을 위한 노력들 또한 현재 진행 중이다. 데이터를 인위적으로 생성해 인공지능의 학습 과정에 활용하거나 현실을 정교하게 반영한 시뮬레이터를 구현해 반복학습이 가능한 환경을 가상으로 만들어 내기도 한다. 혹은 구현된 인공지능을 매우 단순화 시키거나 이미 학습된 지능을 다른 인공지능에 이식하여 새로운 지능 구현에 활용함으로써 학습 과정에 필요한 데이터나 컴퓨팅 파워를 최소화하기도 한다.\\n',\n",
       " '기존 인공지능과는 다른 전혀 새로운 방식으로 인공지능을 구현하려는 시도들도 시작되고 있다. 최근 5년간 인공지능이 엄청난 발전을 이루었지만 자율적인 판단과 능동적인 행동에 기반하는 인간의 지능과는 큰 차이가 있는 것이 현실이다. ‘인간처럼 계산(Computing like Human)’하는 지능을 넘어 ‘인간처럼 생각(Thinking like Human)’하는 지능을 구현하기 위한 노력들이 요구되고 있는 것이다. 이러한 노력들 중 하나로 신경과학(Neuroscience), 뇌과학(Brain Science) 분야에서의 인간 뇌에 대한 근본적인 연구를 컴퓨터 과학 분야의 연구에 접목 시켜 전혀 새로운 방식으로 인공지능을 구현하려는 시도도 시작되고 있다.\\n',\n",
       " '이렇듯 인간의 고유 영역이라고 생각되었던 분야에서 하루가 다르게 인공지능이 구현되고 있으며 그 성능 또한 인간의 수준을 빠르게 따라잡고 있다. DeepMind, OpenAI 등을 중심으로 혁신적인 논문이 연이어 발표되며 새로운 연구분야가 개척되고 다양한 연구 기관, 기업들이 후속 연구를 통해 단지 몇 달 만에 높은 완성도의 인공지능으로 구현해 내고 있는 상황이다. 주요 기업들은 이러한 연구 결과들을 자신들의 제품과 서비스에 빠르게 적용해 상용화하고 있다.\\n',\n",
       " '반면, 선도 연구기관 및 주요 기업들과 우리나라의 격차는 더욱 심화되고 있는 상황이다. 국내 기업들은 실리콘밸리의 기업들에 비해 상대적으로 소프트웨어 역량과 축적된 데이터 측면에서 상당히 열위에 있다. 단기적으로는 Tensorflow 등과 같은 오픈소스 기반의 개발 및 참여를 통한 역량 축적이 시급하며 보다 근본적으로는 중장기적인 관점의 양질의 데이터 확보, 경쟁력있는 인공지능의 개발 역량을 높이기 위한 노력이 병행되어야 할 것이다.\\n',\n",
       " '\\n']"
      ]
     },
     "execution_count": 25,
     "metadata": {},
     "output_type": "execute_result"
    }
   ],
   "source": [
    "\n",
    "from collections import Counter\n",
    "\n",
    "\n",
    "# 해당 화일 불러오기 \n",
    "\n",
    "f = open('인공지능의 진화방향.txt', 'r', encoding='utf-8')\n",
    "\n",
    "\n",
    "lists = f.readlines()   # readlines() 로 파일을 읽으면 한줄씩(혹은 한 문단 씩) 각각 리스트의 원소로 들어옴\n",
    "\n",
    "f.close()\n",
    "\n",
    "# print(lists)\n",
    "\n",
    "lists\n"
   ]
  },
  {
   "cell_type": "code",
   "execution_count": 28,
   "metadata": {},
   "outputs": [
    {
     "data": {
      "text/plain": [
       "list"
      ]
     },
     "execution_count": 28,
     "metadata": {},
     "output_type": "execute_result"
    }
   ],
   "source": [
    "# 읽어 들인 화일의 데이터 타입을 확인 \n",
    "\n",
    "type(lists)"
   ]
  },
  {
   "cell_type": "markdown",
   "metadata": {},
   "source": [
    "### 형태소 분석"
   ]
  },
  {
   "cell_type": "code",
   "execution_count": 29,
   "metadata": {},
   "outputs": [
    {
     "name": "stdout",
     "output_type": "stream",
     "text": [
      "[[('인공', 'Noun'), ('지능', 'Noun'), ('은', 'Josa'), ('최근', 'Noun'), ('5년', 'Number'), ('간', 'Foreign'), ('매우', 'Noun'), ('빠른', 'Adjective'), ('속도', 'Noun'), ('로', 'Josa'), ('진화', 'Noun'), ('하고', 'Josa'), ('있다', 'Adjective'), ('.', 'Punctuation'), ('과거', 'Noun'), ('이론', 'Noun'), ('에', 'Josa'), ('머물거나', 'Verb'), ('제한', 'Noun'), ('된', 'Verb'), ('기능', 'Noun'), ('만을', 'Josa'), ('수행', 'Noun'), ('했던', 'Verb'), ('인공', 'Noun'), ('지능', 'Noun'), ('은', 'Josa'), ('이제', 'Noun'), ('실제', 'Noun'), ('구현', 'Noun'), ('을', 'Josa'), ('통해', 'Noun'), ('그', 'Noun'), ('성능', 'Noun'), ('을', 'Josa'), ('증명', 'Noun'), ('해내고', 'Verb'), ('다양한', 'Adjective'), ('현실', 'Noun'), ('세계', 'Noun'), ('의', 'Josa'), ('문제', 'Noun'), ('에', 'Josa'), ('하나', 'Noun'), ('씩', 'Suffix'), ('적용', 'Noun'), ('되기', 'Verb'), ('시작', 'Noun'), ('했다', 'Verb'), ('.', 'Punctuation'), ('2010년', 'Number'), ('을', 'Foreign'), ('전후', 'Noun'), ('해', 'Verb'), ('혁신', 'Noun'), ('적', 'Suffix'), ('으로', 'Josa'), ('발전', 'Noun'), ('한', 'Josa'), ('알고리즘', 'Noun'), (',', 'Punctuation'), ('컴퓨팅', 'Noun'), (',', 'Punctuation'), ('빅데이터', 'Noun'), ('기술', 'Noun'), ('이', 'Josa'), ('서로', 'Noun'), ('융', 'Noun'), ('복합', 'Noun'), ('되며', 'Verb'), ('이런', 'Adjective'), ('성과', 'Noun'), ('를', 'Josa'), ('이루어', 'Verb'), ('내고', 'Verb'), ('있다', 'Adjective'), ('.', 'Punctuation'), ('인공', 'Noun'), ('지능', 'Noun'), ('분야', 'Noun'), ('의', 'Josa'), ('혁신', 'Noun'), ('적', 'Suffix'), ('인', 'Josa'), ('논문', 'Noun'), (',', 'Punctuation'), ('이러한', 'Adjective'), ('논문', 'Noun'), ('들', 'Suffix'), ('을', 'Josa'), ('실제', 'Noun'), ('구현', 'Noun'), ('가능하게', 'Adjective'), ('하는', 'Verb'), ('컴퓨팅', 'Noun'), ('인프라', 'Noun'), ('(', 'Punctuation'), ('클라우드', 'Noun'), ('및', 'Noun'), ('GPU', 'Alpha'), ('),', 'Punctuation'), ('인공', 'Noun'), ('지능', 'Noun'), ('을', 'Josa'), ('학습', 'Noun'), ('시킬', 'Verb'), ('수', 'Noun'), ('있는', 'Adjective'), ('충분한', 'Adjective'), ('데이터', 'Noun'), ('가', 'Josa'), ('확보', 'Noun'), ('되면서', 'Verb'), ('이론', 'Noun'), ('에서', 'Josa'), ('현실', 'Noun'), ('로', 'Josa'), ('잘', 'Verb'), ('나오지', 'Verb'), ('못', 'VerbPrefix'), ('했던', 'Verb'), ('인공', 'Noun'), ('지능', 'Noun'), ('이', 'Josa'), ('우리', 'Noun'), ('의', 'Josa'), ('곁', 'Noun'), ('으로', 'Josa'), ('다가오게', 'Verb'), ('된', 'Verb'), ('것', 'Noun'), ('이다', 'Josa'), ('.', 'Punctuation'), ('\\n', 'Foreign')], [('빠르게', 'Adjective'), ('발전', 'Noun'), ('하고', 'Josa'), ('있는', 'Adjective'), ('인공', 'Noun'), ('지능', 'Noun'), ('은', 'Josa'), ('이제', 'Noun'), ('여러', 'Noun'), ('분야', 'Noun'), ('에서', 'Josa'), ('사람', 'Noun'), ('의', 'Josa'), ('능력', 'Noun'), ('을', 'Josa'), ('넘어서는', 'Verb'), ('수준', 'Noun'), ('으로', 'Josa'), ('구현', 'Noun'), ('되고', 'Verb'), ('있다', 'Adjective'), ('.', 'Punctuation'), ('광범위한', 'Adjective'), ('분야', 'Noun'), ('에', 'Josa'), ('걸쳐', 'Verb'), ('인간', 'Noun'), ('처럼', 'Josa'), ('외부', 'Noun'), ('의', 'Josa'), ('정보', 'Noun'), ('를', 'Josa'), ('인식', 'Noun'), ('하고', 'Josa'), (',', 'Punctuation'), ('학습', 'Noun'), ('하며', 'Verb'), (',', 'Punctuation'), ('추론', 'Noun'), ('하고', 'Josa'), (',', 'Punctuation'), ('행동', 'Noun'), ('하는', 'Verb'), ('인공', 'Noun'), ('지능', 'Noun'), ('에', 'Josa'), ('대한', 'Noun'), ('연구', 'Noun'), ('가', 'Josa'), ('활발히', 'Adjective'), ('진행', 'Noun'), ('되고', 'Verb'), ('있다', 'Adjective'), ('.', 'Punctuation'), ('특히', 'Adverb'), ('시각', 'Noun'), (',', 'Punctuation'), ('청각', 'Noun'), ('지능', 'Noun'), ('분야', 'Noun'), ('의', 'Josa'), ('발전', 'Noun'), ('으로', 'Josa'), ('인해', 'Adjective'), ('인공', 'Noun'), ('지능', 'Noun'), ('은', 'Josa'), ('이제', 'Noun'), ('사람', 'Noun'), ('보다', 'Verb'), ('더', 'Noun'), ('높은', 'Adjective'), ('정확도', 'Noun'), ('로', 'Josa'), ('사물', 'Noun'), ('을', 'Josa'), ('인식', 'Noun'), ('할', 'Verb'), ('수', 'Noun'), ('있고', 'Adjective'), (',', 'Punctuation'), ('사람과', 'Noun'), ('비슷한', 'Adjective'), ('수준', 'Noun'), ('으로', 'Josa'), ('언어', 'Noun'), ('를', 'Josa'), ('이해', 'Noun'), ('할', 'Verb'), ('수도', 'Noun'), ('있게', 'Adjective'), ('되었다', 'Verb'), ('.', 'Punctuation'), ('이러한', 'Adjective'), ('인식', 'Noun'), ('분야', 'Noun'), ('의', 'Josa'), ('발전', 'Noun'), ('으로', 'Josa'), ('인공', 'Noun'), ('지능', 'Noun'), ('은', 'Josa'), ('이제', 'Noun'), ('외부', 'Noun'), ('의', 'Josa'), ('수', 'Noun'), ('많은', 'Adjective'), ('데이터', 'Noun'), ('를', 'Josa'), ('스스로', 'Noun'), ('인식', 'Noun'), ('하고', 'Josa'), ('이해해', 'Noun'), ('지식', 'Noun'), ('화할', 'Adjective'), ('수', 'Noun'), ('있는', 'Adjective'), ('‘', 'Foreign'), ('정보', 'Noun'), ('’', 'Punctuation'), ('로', 'Noun'), ('받아', 'Verb'), ('드릴', 'Noun'), ('수', 'Noun'), ('있게', 'Adjective'), ('되었다', 'Verb'), ('.', 'Punctuation'), ('그', 'Noun'), ('동안', 'Noun'), ('축적', 'Noun'), ('되어', 'Verb'), ('온', 'Noun'), ('엄청난', 'Adjective'), ('빅데이터', 'Noun'), ('를', 'Josa'), ('기계', 'Noun'), ('가', 'Josa'), ('스스로', 'Noun'), ('학습', 'Noun'), ('할', 'Verb'), ('수', 'Noun'), ('있게', 'Adjective'), ('되면서', 'Verb'), ('인공', 'Noun'), ('지능', 'Noun'), ('의', 'Josa'), ('지능', 'Noun'), ('이', 'Josa'), ('혁신', 'Noun'), ('적', 'Suffix'), ('으로', 'Josa'), ('발전', 'Noun'), ('하고', 'Josa'), ('있는', 'Adjective'), ('것', 'Noun'), ('이다', 'Josa'), ('.', 'Punctuation'), ('\\n', 'Foreign')], [('특히', 'Adverb'), ('최근', 'Noun'), ('2년', 'Number'), ('간', 'Noun'), ('은', 'Josa'), ('강화', 'Noun'), ('학습', 'Noun'), ('및', 'Noun'), ('관계', 'Noun'), ('형', 'Suffix'), ('추론', 'Noun'), (',', 'Punctuation'), ('예측', 'Noun'), ('기반', 'Noun'), ('의', 'Josa'), ('행동', 'Noun'), ('분야', 'Noun'), ('연구', 'Noun'), ('가', 'Josa'), ('활발히', 'Adjective'), ('진행', 'Noun'), ('되며', 'Verb'), ('인공', 'Noun'), ('지능', 'Noun'), ('이', 'Josa'), ('인간', 'Noun'), ('의', 'Josa'), ('사고', 'Noun'), ('영역', 'Noun'), ('에', 'Josa'), ('한', 'Determiner'), ('걸음', 'Noun'), ('더', 'Noun'), ('다가', 'Noun'), ('섰다', 'Verb'), ('.', 'Punctuation'), ('알파', 'Noun'), ('고의', 'Noun'), ('핵심', 'Noun'), ('기술', 'Noun'), ('중', 'Noun'), ('하나', 'Noun'), ('인', 'Josa'), ('강화', 'Noun'), ('학습', 'Noun'), ('(', 'Punctuation'), ('Reinforcement', 'Alpha'), ('Learning', 'Alpha'), (')', 'Punctuation'), ('에', 'Josa'), ('대한', 'Noun'), ('연구', 'Noun'), ('가', 'Josa'), ('2016년', 'Number'), ('이후', 'Noun'), ('빠르게', 'Adjective'), ('발전', 'Noun'), ('하고', 'Josa'), ('있다', 'Adjective'), ('.', 'Punctuation'), ('강화', 'Noun'), ('학습', 'Noun'), ('분야', 'Noun'), ('의', 'Josa'), ('발달', 'Noun'), ('로', 'Josa'), ('인해', 'Adjective'), ('인공', 'Noun'), ('지능', 'Noun'), ('은', 'Josa'), ('이제', 'Noun'), ('목적', 'Noun'), ('달성', 'Noun'), ('을', 'Josa'), ('위', 'Noun'), ('한', 'Josa'), ('방법', 'Noun'), ('을', 'Josa'), ('시행착오', 'Noun'), ('를', 'Josa'), ('통해', 'Noun'), ('스스로', 'Noun'), ('깨우치며', 'Verb'), ('알', 'Noun'), ('아', 'Josa'), ('간다', 'Noun'), ('.', 'Punctuation'), ('수', 'Noun'), ('십만', 'Noun'), ('번', 'Noun'), ('이상', 'Noun'), ('의', 'Josa'), ('반복', 'Noun'), ('학습', 'Noun'), ('을', 'Josa'), ('통해', 'Noun'), ('터득', 'Noun'), ('하게', 'Verb'), ('된', 'Verb'), ('인공', 'Noun'), ('지능', 'Noun'), ('의', 'Josa'), ('방법', 'Noun'), ('은', 'Josa'), ('때로는', 'Noun'), ('사람', 'Noun'), ('들', 'Suffix'), ('이', 'Josa'), ('전혀', 'Noun'), ('생각', 'Noun'), ('해', 'Verb'), ('내지', 'Noun'), ('못', 'VerbPrefix'), ('했던', 'Verb'), ('방식', 'Noun'), ('으로', 'Josa'), ('문제', 'Noun'), ('를', 'Josa'), ('해결', 'Noun'), ('해', 'Verb'), ('내기', 'Noun'), ('도', 'Josa'), ('한다', 'Verb'), ('.', 'Punctuation'), ('게임', 'Noun'), ('과', 'Josa'), ('같은', 'Adjective'), ('가상', 'Noun'), ('의', 'Josa'), ('환경', 'Noun'), ('을', 'Josa'), ('중심', 'Noun'), ('으로', 'Josa'), ('연구', 'Noun'), ('되어', 'Verb'), ('온', 'Noun'), ('강화', 'Noun'), ('학습', 'Noun'), ('은', 'Josa'), ('최근', 'Noun'), ('에는', 'Josa'), ('3', 'Number'), ('차원', 'Noun'), ('환경', 'Noun'), (',', 'Punctuation'), ('현실', 'Noun'), ('세계', 'Noun'), ('를', 'Josa'), ('반영', 'Noun'), ('한', 'Josa'), ('환경', 'Noun'), ('에서', 'Josa'), ('연구', 'Noun'), ('가', 'Josa'), ('진행', 'Noun'), ('되고', 'Verb'), ('있다', 'Adjective'), ('.', 'Punctuation'), ('특히', 'Adverb'), ('일부', 'Noun'), ('기업', 'Noun'), ('들', 'Suffix'), ('의', 'Josa'), ('연구소', 'Noun'), ('에서는', 'Josa'), ('향후', 'Noun'), ('제품', 'Noun'), (',', 'Punctuation'), ('서비스', 'Noun'), ('탑재', 'Noun'), ('를', 'Josa'), ('목적', 'Noun'), ('으로', 'Josa'), ('강화', 'Noun'), ('학습', 'Noun'), ('기반', 'Noun'), ('의', 'Josa'), ('인공', 'Noun'), ('지능', 'Noun'), ('을', 'Josa'), ('연구', 'Noun'), (',', 'Punctuation'), ('개발', 'Noun'), ('하기', 'Verb'), ('시작', 'Noun'), ('하고', 'Josa'), ('있다', 'Adjective'), ('.', 'Punctuation'), ('\\n', 'Foreign')], [('한', 'Verb'), ('걸음', 'Noun'), ('더', 'Noun'), ('나아가', 'Verb'), ('인공', 'Noun'), ('지능', 'Noun'), ('은', 'Josa'), ('이제', 'Noun'), ('다양한', 'Adjective'), ('정보', 'Noun'), ('들', 'Suffix'), ('을', 'Josa'), ('조합', 'Noun'), ('해', 'Verb'), ('자신', 'Noun'), ('의', 'Josa'), ('관점', 'Noun'), ('으로', 'Josa'), ('새로운', 'Adjective'), ('명제', 'Noun'), ('를', 'Josa'), ('추론', 'Noun'), ('(', 'Punctuation'), ('Inference', 'Alpha'), ('/', 'Punctuation'), ('Reasoning', 'Alpha'), (')', 'Punctuation'), ('하', 'Exclamation'), ('거나', 'Noun'), ('미래', 'Noun'), ('를', 'Josa'), ('예측', 'Noun'), ('하고', 'Josa'), ('행동', 'Noun'), ('하기도', 'Verb'), ('한다', 'Verb'), ('.', 'Punctuation'), ('인간', 'Noun'), ('의', 'Josa'), ('고유', 'Noun'), ('영역', 'Noun'), ('이라고', 'Josa'), ('여겨져', 'Verb'), ('온', 'Noun'), ('추론', 'Noun'), ('/', 'Punctuation'), ('행동', 'Noun'), ('분야', 'Noun'), ('의', 'Josa'), ('연구', 'Noun'), ('는', 'Josa'), ('2017년', 'Number'), ('을', 'Foreign'), ('전후', 'Noun'), ('해', 'Verb'), ('빠르게', 'Adjective'), ('발전', 'Noun'), ('해오고', 'Verb'), ('있다', 'Adjective'), ('.', 'Punctuation'), ('특히', 'Adverb'), ('알파', 'Noun'), ('고를', 'Verb'), ('구현', 'Noun'), ('한', 'Josa'), ('딥', 'Noun'), ('마인드', 'Noun'), ('는', 'Josa'), ('인공', 'Noun'), ('지능', 'Noun'), ('이', 'Josa'), ('마치', 'Noun'), ('인간', 'Noun'), ('처럼', 'Josa'), ('추론', 'Noun'), ('하고', 'Josa'), ('행동', 'Noun'), ('하는', 'Verb'), ('논문', 'Noun'), ('을', 'Josa'), ('잇따라', 'Verb'), ('발표', 'Noun'), ('하며', 'Verb'), ('인간', 'Noun'), ('처럼', 'Josa'), ('유연한', 'Adjective'), ('사고', 'Noun'), ('가', 'Josa'), ('가능한', 'Adjective'), ('인공', 'Noun'), ('지능', 'Noun'), ('구현', 'Noun'), ('의', 'Josa'), ('가능성', 'Noun'), ('을', 'Josa'), ('보였다', 'Verb'), ('.', 'Punctuation'), ('영상', 'Noun'), ('혹은', 'Adverb'), ('텍스트', 'Noun'), ('로', 'Josa'), ('주어진', 'Verb'), ('정보', 'Noun'), ('를', 'Josa'), ('개별', 'Noun'), ('적', 'Suffix'), ('으로', 'Josa'), ('인식', 'Noun'), ('하는', 'Verb'), ('수준', 'Noun'), ('을', 'Josa'), ('넘어', 'Verb'), ('다양한', 'Adjective'), ('정보', 'Noun'), ('간의', 'Noun'), ('상대', 'Noun'), ('적', 'Suffix'), ('인', 'Josa'), ('관계', 'Noun'), ('를', 'Josa'), ('직관', 'Noun'), ('적', 'Suffix'), ('으로', 'Josa'), ('파악', 'Noun'), ('해', 'Verb'), ('추론', 'Noun'), ('해', 'Verb'), ('내', 'Determiner'), ('거나', 'Noun'), (',', 'Punctuation'), ('어떤', 'Adjective'), ('행동', 'Noun'), ('을', 'Josa'), ('실행', 'Noun'), ('할', 'Verb'), ('때', 'Noun'), ('단순히', 'Adjective'), ('현재', 'Noun'), ('상황', 'Noun'), ('에서', 'Josa'), ('최선', 'Noun'), ('을', 'Josa'), ('선택', 'Noun'), ('하는', 'Verb'), ('것', 'Noun'), ('이', 'Josa'), ('아니라', 'Adjective'), ('미래', 'Noun'), ('에', 'Josa'), ('일어날', 'Verb'), ('일', 'Noun'), ('들', 'Suffix'), ('을', 'Josa'), ('예측', 'Noun'), ('해서', 'Verb'), ('행동', 'Noun'), ('하기도', 'Verb'), ('한다', 'Verb'), ('.', 'Punctuation'), ('불가능', 'Noun'), ('할', 'Verb'), ('것', 'Noun'), ('같았던', 'Adjective'), ('관계', 'Noun'), ('형', 'Suffix'), ('추론', 'Noun'), (',', 'Punctuation'), ('예측', 'Noun'), ('기반', 'Noun'), ('의', 'Josa'), ('행동', 'Noun'), ('분야', 'Noun'), ('의', 'Josa'), ('인공', 'Noun'), ('지능', 'Noun'), ('연구', 'Noun'), ('가', 'Josa'), ('그', 'Noun'), ('가능성', 'Noun'), ('을', 'Josa'), ('보이면서', 'Verb'), ('향후', 'Noun'), ('인공', 'Noun'), ('지능', 'Noun'), ('의', 'Josa'), ('발전', 'Noun'), ('은', 'Josa'), ('한', 'Verb'), ('단계', 'Noun'), ('더', 'Noun'), ('진화', 'Noun'), ('할', 'Verb'), ('것', 'Noun'), ('으로', 'Josa'), ('전망', 'Noun'), ('된다', 'Verb'), ('.', 'Punctuation'), ('\\n', 'Foreign')], [('아직', 'Adverb'), ('한계', 'Noun'), ('는', 'Josa'), ('많다', 'Adjective'), ('.', 'Punctuation'), ('막대', 'Noun'), ('한', 'Josa'), ('양', 'Noun'), ('의', 'Josa'), ('데이터', 'Noun'), ('와', 'Josa'), ('컴퓨팅', 'Noun'), ('파워', 'Noun'), ('가', 'Josa'), ('필요하다', 'Adjective'), ('.', 'Punctuation'), ('알파', 'Noun'), ('고의', 'Noun'), ('구현', 'Noun'), ('을', 'Josa'), ('위', 'Noun'), ('해서만', 'Verb'), ('3000만', 'Number'), ('개의', 'Foreign'), ('착점', 'Noun'), ('정보', 'Noun'), ('가', 'Josa'), ('필요했고', 'Adjective'), ('약', 'Noun'), ('1200', 'Number'), ('개', 'Noun'), ('에', 'Josa'), ('달', 'Noun'), ('하는', 'Verb'), ('CPU', 'Alpha'), ('가', 'Verb'), ('동시', 'Noun'), ('에', 'Josa'), ('활용', 'Noun'), ('되었다', 'Verb'), ('.', 'Punctuation'), ('이러한', 'Adjective'), ('한계', 'Noun'), ('극복', 'Noun'), ('을', 'Josa'), ('위', 'Noun'), ('한', 'Josa'), ('노력', 'Noun'), ('들', 'Suffix'), ('또한', 'Noun'), ('현재', 'Noun'), ('진행', 'Noun'), ('중이', 'Noun'), ('다', 'Josa'), ('.', 'Punctuation'), ('데이터', 'Noun'), ('를', 'Josa'), ('인위', 'Noun'), ('적', 'Suffix'), ('으로', 'Josa'), ('생', 'Noun'), ('성해', 'Noun'), ('인공', 'Noun'), ('지능', 'Noun'), ('의', 'Josa'), ('학습', 'Noun'), ('과정', 'Noun'), ('에', 'Josa'), ('활용', 'Noun'), ('하', 'Suffix'), ('거나', 'Noun'), ('현실', 'Noun'), ('을', 'Josa'), ('정교하게', 'Adjective'), ('반영', 'Noun'), ('한', 'Josa'), ('시뮬레이터', 'Noun'), ('를', 'Josa'), ('구현', 'Noun'), ('해', 'Verb'), ('반복', 'Noun'), ('학습', 'Noun'), ('이', 'Josa'), ('가능한', 'Adjective'), ('환경', 'Noun'), ('을', 'Josa'), ('가상', 'Noun'), ('으로', 'Josa'), ('만들어', 'Verb'), ('내기', 'Noun'), ('도', 'Josa'), ('한다', 'Verb'), ('.', 'Punctuation'), ('혹은', 'Adverb'), ('구현', 'Noun'), ('된', 'Verb'), ('인공', 'Noun'), ('지능', 'Noun'), ('을', 'Josa'), ('매우', 'Noun'), ('단순화', 'Noun'), ('시키거나', 'Verb'), ('이미', 'Adverb'), ('학습', 'Noun'), ('된', 'Verb'), ('지능', 'Noun'), ('을', 'Josa'), ('다른', 'Noun'), ('인공', 'Noun'), ('지능', 'Noun'), ('에', 'Josa'), ('이식', 'Noun'), ('하여', 'Verb'), ('새로운', 'Adjective'), ('지능', 'Noun'), ('구현', 'Noun'), ('에', 'Josa'), ('활용', 'Noun'), ('함', 'Noun'), ('으로써', 'Josa'), ('학습', 'Noun'), ('과정', 'Noun'), ('에', 'Josa'), ('필요한', 'Adjective'), ('데이터', 'Noun'), ('나', 'Josa'), ('컴퓨팅', 'Noun'), ('파워', 'Noun'), ('를', 'Josa'), ('최소', 'Noun'), ('화하기도', 'Adjective'), ('한다', 'Verb'), ('.', 'Punctuation'), ('\\n', 'Foreign')], [('기존', 'Noun'), ('인공', 'Noun'), ('지능', 'Noun'), ('과는', 'Josa'), ('다른', 'Noun'), ('전혀', 'Noun'), ('새로운', 'Adjective'), ('방식', 'Noun'), ('으로', 'Josa'), ('인공', 'Noun'), ('지능', 'Noun'), ('을', 'Josa'), ('구현', 'Noun'), ('하려는', 'Verb'), ('시도', 'Noun'), ('들', 'Suffix'), ('도', 'Josa'), ('시작', 'Noun'), ('되고', 'Verb'), ('있다', 'Adjective'), ('.', 'Punctuation'), ('최근', 'Noun'), ('5년', 'Number'), ('간', 'Foreign'), ('인공', 'Noun'), ('지능', 'Noun'), ('이', 'Josa'), ('엄청난', 'Adjective'), ('발전', 'Noun'), ('을', 'Josa'), ('이루었지만', 'Verb'), ('자율', 'Noun'), ('적', 'Suffix'), ('인', 'Josa'), ('판단', 'Noun'), ('과', 'Josa'), ('능동', 'Noun'), ('적', 'Suffix'), ('인', 'Josa'), ('행동', 'Noun'), ('에', 'Josa'), ('기반', 'Noun'), ('하는', 'Verb'), ('인간', 'Noun'), ('의', 'Josa'), ('지능', 'Noun'), ('과는', 'Josa'), ('큰', 'Verb'), ('차이', 'Noun'), ('가', 'Josa'), ('있는', 'Adjective'), ('것', 'Noun'), ('이', 'Josa'), ('현실', 'Noun'), ('이다', 'Josa'), ('.', 'Punctuation'), ('‘', 'Foreign'), ('인간', 'Noun'), ('처럼', 'Josa'), ('계산', 'Noun'), ('(', 'Punctuation'), ('Computing', 'Alpha'), ('like', 'Alpha'), ('Human', 'Alpha'), (')’', 'Punctuation'), ('하는', 'Verb'), ('지능', 'Noun'), ('을', 'Josa'), ('넘어', 'Verb'), ('‘', 'Foreign'), ('인간', 'Noun'), ('처럼', 'Josa'), ('생각', 'Noun'), ('(', 'Punctuation'), ('Thinking', 'Alpha'), ('like', 'Alpha'), ('Human', 'Alpha'), (')’', 'Punctuation'), ('하는', 'Verb'), ('지능', 'Noun'), ('을', 'Josa'), ('구현', 'Noun'), ('하기', 'Verb'), ('위', 'Noun'), ('한', 'Josa'), ('노력', 'Noun'), ('들', 'Suffix'), ('이', 'Josa'), ('요구', 'Noun'), ('되고', 'Verb'), ('있는', 'Adjective'), ('것', 'Noun'), ('이다', 'Josa'), ('.', 'Punctuation'), ('이러한', 'Adjective'), ('노력', 'Noun'), ('들', 'Suffix'), ('중', 'Noun'), ('하나로', 'Noun'), ('신경과학', 'Noun'), ('(', 'Punctuation'), ('Neuroscience', 'Alpha'), ('),', 'Punctuation'), ('뇌', 'Noun'), ('과학', 'Noun'), ('(', 'Punctuation'), ('Brain', 'Alpha'), ('Science', 'Alpha'), (')', 'Punctuation'), ('분야', 'Noun'), ('에서의', 'Josa'), ('인간', 'Noun'), ('뇌', 'Noun'), ('에', 'Josa'), ('대한', 'Noun'), ('근본', 'Noun'), ('적', 'Suffix'), ('인', 'Josa'), ('연구', 'Noun'), ('를', 'Josa'), ('컴퓨터', 'Noun'), ('과학', 'Noun'), ('분야', 'Noun'), ('의', 'Josa'), ('연구', 'Noun'), ('에', 'Josa'), ('접목', 'Noun'), ('시켜', 'Verb'), ('전혀', 'Noun'), ('새로운', 'Adjective'), ('방식', 'Noun'), ('으로', 'Josa'), ('인공', 'Noun'), ('지능', 'Noun'), ('을', 'Josa'), ('구현', 'Noun'), ('하려는', 'Verb'), ('시도', 'Noun'), ('도', 'Josa'), ('시작', 'Noun'), ('되고', 'Verb'), ('있다', 'Adjective'), ('.', 'Punctuation'), ('\\n', 'Foreign')], [('이렇듯', 'Adjective'), ('인간', 'Noun'), ('의', 'Josa'), ('고유', 'Noun'), ('영역', 'Noun'), ('이라고', 'Josa'), ('생각', 'Noun'), ('되었던', 'Verb'), ('분야', 'Noun'), ('에서', 'Josa'), ('하루', 'Noun'), ('가', 'Josa'), ('다르게', 'Adjective'), ('인공', 'Noun'), ('지능', 'Noun'), ('이', 'Josa'), ('구현', 'Noun'), ('되고', 'Verb'), ('있으며', 'Adjective'), ('그', 'Noun'), ('성능', 'Noun'), ('또한', 'Noun'), ('인간', 'Noun'), ('의', 'Josa'), ('수준', 'Noun'), ('을', 'Josa'), ('빠르게', 'Adjective'), ('따라잡고', 'Verb'), ('있다', 'Adjective'), ('.', 'Punctuation'), ('DeepMind', 'Alpha'), (',', 'Punctuation'), ('OpenAI', 'Alpha'), ('등', 'Noun'), ('을', 'Josa'), ('중심', 'Noun'), ('으로', 'Josa'), ('혁신', 'Noun'), ('적', 'Suffix'), ('인', 'Josa'), ('논문', 'Noun'), ('이', 'Josa'), ('연', 'Modifier'), ('이', 'Noun'), ('어', 'Suffix'), ('발표', 'Noun'), ('되며', 'Verb'), ('새로운', 'Adjective'), ('연', 'Modifier'), ('구', 'Modifier'), ('분야', 'Noun'), ('가', 'Josa'), ('개척', 'Noun'), ('되고', 'Verb'), ('다양한', 'Adjective'), ('연구', 'Noun'), ('기관', 'Noun'), (',', 'Punctuation'), ('기업', 'Noun'), ('들', 'Suffix'), ('이', 'Josa'), ('후속', 'Noun'), ('연구', 'Noun'), ('를', 'Josa'), ('통해', 'Noun'), ('단지', 'Noun'), ('몇', 'Noun'), ('달', 'Noun'), ('만에', 'Josa'), ('높은', 'Adjective'), ('완성', 'Noun'), ('도의', 'Noun'), ('인공', 'Noun'), ('지능', 'Noun'), ('으로', 'Josa'), ('구현', 'Noun'), ('해', 'Verb'), ('내고', 'Verb'), ('있는', 'Adjective'), ('상황', 'Noun'), ('이다', 'Josa'), ('.', 'Punctuation'), ('주요', 'Noun'), ('기업', 'Noun'), ('들', 'Suffix'), ('은', 'Josa'), ('이러한', 'Adjective'), ('연구', 'Noun'), ('결과', 'Noun'), ('들', 'Suffix'), ('을', 'Josa'), ('자신', 'Noun'), ('들', 'Suffix'), ('의', 'Josa'), ('제품', 'Noun'), ('과', 'Josa'), ('서비스', 'Noun'), ('에', 'Josa'), ('빠르게', 'Adjective'), ('적용', 'Noun'), ('해', 'Verb'), ('상용', 'Noun'), ('화', 'Suffix'), ('하고', 'Josa'), ('있다', 'Adjective'), ('.', 'Punctuation'), ('\\n', 'Foreign')], [('반면', 'Noun'), (',', 'Punctuation'), ('선도', 'Noun'), ('연구기관', 'Noun'), ('및', 'Noun'), ('주요', 'Noun'), ('기업', 'Noun'), ('들', 'Suffix'), ('과', 'Josa'), ('우리나라', 'Noun'), ('의', 'Josa'), ('격차', 'Noun'), ('는', 'Josa'), ('더욱', 'Noun'), ('심화', 'Noun'), ('되고', 'Verb'), ('있는', 'Adjective'), ('상황', 'Noun'), ('이다', 'Josa'), ('.', 'Punctuation'), ('국내', 'Noun'), ('기업', 'Noun'), ('들', 'Suffix'), ('은', 'Josa'), ('실리콘밸리', 'Noun'), ('의', 'Josa'), ('기업', 'Noun'), ('들', 'Suffix'), ('에', 'Josa'), ('비해', 'Verb'), ('상대', 'Noun'), ('적', 'Suffix'), ('으로', 'Josa'), ('소프트웨어', 'Noun'), ('역량', 'Noun'), ('과', 'Josa'), ('축적', 'Noun'), ('된', 'Verb'), ('데이터', 'Noun'), ('측면', 'Noun'), ('에서', 'Josa'), ('상당히', 'Adjective'), ('열', 'Modifier'), ('위', 'Noun'), ('에', 'Josa'), ('있다', 'Adjective'), ('.', 'Punctuation'), ('단', 'Modifier'), ('기적', 'Noun'), ('으로는', 'Josa'), ('Tensorflow', 'Alpha'), ('등', 'Noun'), ('과', 'Josa'), ('같은', 'Adjective'), ('오픈소스', 'Noun'), ('기반', 'Noun'), ('의', 'Josa'), ('개발', 'Noun'), ('및', 'Noun'), ('참여', 'Noun'), ('를', 'Josa'), ('통한', 'Noun'), ('역량', 'Noun'), ('축적', 'Noun'), ('이', 'Josa'), ('시급하며', 'Adjective'), ('보다', 'Verb'), ('근본', 'Noun'), ('적', 'Suffix'), ('으로는', 'Josa'), ('중장', 'Noun'), ('기적', 'Noun'), ('인', 'Josa'), ('관점', 'Noun'), ('의', 'Josa'), ('양질', 'Noun'), ('의', 'Josa'), ('데이터', 'Noun'), ('확보', 'Noun'), (',', 'Punctuation'), ('경쟁력', 'Noun'), ('있는', 'Adjective'), ('인공', 'Noun'), ('지능', 'Noun'), ('의', 'Josa'), ('개발', 'Noun'), ('역량', 'Noun'), ('을', 'Josa'), ('높이기', 'Verb'), ('위', 'Noun'), ('한', 'Josa'), ('노력', 'Noun'), ('이', 'Josa'), ('병행', 'Noun'), ('되어야', 'Verb'), ('할', 'Verb'), ('것', 'Noun'), ('이다', 'Josa'), ('.', 'Punctuation'), ('\\n', 'Foreign')], [('\\n', 'Foreign')]]\n"
     ]
    }
   ],
   "source": [
    "# sentences_tag 리스트에 단어와 품사태깅 튜플 리스트 만들기 \n",
    "\n",
    "sentences_tag = []   # 초기화 \n",
    "\n",
    "for sentence in lists:\n",
    "    word_tag = okt.pos(sentence)   # 품사 태깅 (단어 + 품사) \n",
    "    sentences_tag.append(word_tag)\n",
    "\n",
    "print(sentences_tag)\n"
   ]
  },
  {
   "cell_type": "markdown",
   "metadata": {},
   "source": [
    "### 명사만 불러오기"
   ]
  },
  {
   "cell_type": "code",
   "execution_count": 31,
   "metadata": {},
   "outputs": [
    {
     "name": "stdout",
     "output_type": "stream",
     "text": [
      "549\n",
      "\n",
      "['인공', '지능', '최근', '매우', '속도', '진화', '과거', '이론', '제한', '기능', '수행', '인공', '지능', '이제', '실제', '구현', '통해', '그', '성능', '증명', '현실', '세계', '문제', '하나', '적용', '시작', '전후', '혁신', '발전', '알고리즘', '컴퓨팅', '빅데이터', '기술', '서로', '융', '복합', '성과', '인공', '지능', '분야', '혁신', '논문', '논문', '실제', '구현', '컴퓨팅', '인프라', '클라우드', '및', '인공', '지능', '학습', '수', '데이터', '확보', '이론', '현실', '인공', '지능', '우리', '곁', '것', '발전', '인공', '지능', '이제', '여러', '분야', '사람', '능력', '수준', '구현', '분야', '인간', '외부', '정보', '인식', '학습', '추론', '행동', '인공', '지능', '대한', '연구', '진행', '시각', '청각', '지능', '분야', '발전', '인공', '지능', '이제', '사람', '더', '정확도', '사물', '인식', '수', '사람과', '수준', '언어', '이해', '수도', '인식', '분야', '발전', '인공', '지능', '이제', '외부', '수', '데이터', '스스로', '인식', '이해해', '지식', '수', '정보', '로', '드릴', '수', '그', '동안', '축적', '온', '빅데이터', '기계', '스스로', '학습', '수', '인공', '지능', '지능', '혁신', '발전', '것', '최근', '간', '강화', '학습', '및', '관계', '추론', '예측', '기반', '행동', '분야', '연구', '진행', '인공', '지능', '인간', '사고', '영역', '걸음', '더', '다가', '알파', '고의', '핵심', '기술', '중', '하나', '강화', '학습', '대한', '연구', '이후', '발전', '강화', '학습', '분야', '발달', '인공', '지능', '이제', '목적', '달성', '위', '방법', '시행착오', '통해', '스스로', '알', '간다', '수', '십만', '번', '이상', '반복', '학습', '통해', '터득', '인공', '지능', '방법', '때로는', '사람', '전혀', '생각', '내지', '방식', '문제', '해결', '내기', '게임', '가상', '환경', '중심', '연구', '온', '강화', '학습', '최근', '차원', '환경', '현실', '세계', '반영', '환경', '연구', '진행', '일부', '기업', '연구소', '향후', '제품', '서비스', '탑재', '목적', '강화', '학습', '기반', '인공', '지능', '연구', '개발', '시작', '걸음', '더', '인공', '지능', '이제', '정보', '조합', '자신', '관점', '명제', '추론', '거나', '미래', '예측', '행동', '인간', '고유', '영역', '온', '추론', '행동', '분야', '연구', '전후', '발전', '알파', '구현', '딥', '마인드', '인공', '지능', '마치', '인간', '추론', '행동', '논문', '발표', '인간', '사고', '인공', '지능', '구현', '가능성', '영상', '텍스트', '정보', '개별', '인식', '수준', '정보', '간의', '상대', '관계', '직관', '파악', '추론', '거나', '행동', '실행', '때', '현재', '상황', '최선', '선택', '것', '미래', '일', '예측', '행동', '불가능', '것', '관계', '추론', '예측', '기반', '행동', '분야', '인공', '지능', '연구', '그', '가능성', '향후', '인공', '지능', '발전', '단계', '더', '진화', '것', '전망', '한계', '막대', '양', '데이터', '컴퓨팅', '파워', '알파', '고의', '구현', '위', '착점', '정보', '약', '개', '달', '동시', '활용', '한계', '극복', '위', '노력', '또한', '현재', '진행', '중이', '데이터', '인위', '생', '성해', '인공', '지능', '학습', '과정', '활용', '거나', '현실', '반영', '시뮬레이터', '구현', '반복', '학습', '환경', '가상', '내기', '구현', '인공', '지능', '매우', '단순화', '학습', '지능', '다른', '인공', '지능', '이식', '지능', '구현', '활용', '함', '학습', '과정', '데이터', '컴퓨팅', '파워', '최소', '기존', '인공', '지능', '다른', '전혀', '방식', '인공', '지능', '구현', '시도', '시작', '최근', '인공', '지능', '발전', '자율', '판단', '능동', '행동', '기반', '인간', '지능', '차이', '것', '현실', '인간', '계산', '지능', '인간', '생각', '지능', '구현', '위', '노력', '요구', '것', '노력', '중', '하나로', '신경과학', '뇌', '과학', '분야', '인간', '뇌', '대한', '근본', '연구', '컴퓨터', '과학', '분야', '연구', '접목', '전혀', '방식', '인공', '지능', '구현', '시도', '시작', '인간', '고유', '영역', '생각', '분야', '하루', '인공', '지능', '구현', '그', '성능', '또한', '인간', '수준', '등', '중심', '혁신', '논문', '이', '발표', '분야', '개척', '연구', '기관', '기업', '후속', '연구', '통해', '단지', '몇', '달', '완성', '도의', '인공', '지능', '구현', '상황', '주요', '기업', '연구', '결과', '자신', '제품', '서비스', '적용', '상용', '반면', '선도', '연구기관', '및', '주요', '기업', '우리나라', '격차', '더욱', '심화', '상황', '국내', '기업', '실리콘밸리', '기업', '상대', '소프트웨어', '역량', '축적', '데이터', '측면', '위', '기적', '등', '오픈소스', '기반', '개발', '및', '참여', '통한', '역량', '축적', '근본', '중장', '기적', '관점', '양질', '데이터', '확보', '경쟁력', '인공', '지능', '개발', '역량', '위', '노력', '병행', '것']\n"
     ]
    }
   ],
   "source": [
    "# sentences_tag 리스트에서 명사만 추출\n",
    "\n",
    "noun_list = []    # 명사 리스트를 준비 \n",
    "\n",
    "for sentence in sentences_tag:\n",
    "    for word, tag in sentence:\n",
    "        if tag in ['Noun']:             # if tag == 'Noun' :   와 동일    \n",
    "            noun_list.append(word)\n",
    "\n",
    "print(len(noun_list))\n",
    "print()\n",
    "\n",
    "print(noun_list)\n"
   ]
  },
  {
   "cell_type": "markdown",
   "metadata": {},
   "source": [
    "### 두 음절 이상 단어만 추출하기"
   ]
  },
  {
   "cell_type": "code",
   "execution_count": 32,
   "metadata": {},
   "outputs": [
    {
     "name": "stdout",
     "output_type": "stream",
     "text": [
      "['인공', '지능', '최근', '매우', '속도', '진화', '과거', '이론', '제한', '기능', '수행', '인공', '지능', '이제', '실제', '구현', '통해', '성능', '증명', '현실', '세계', '문제', '하나', '적용', '시작', '전후', '혁신', '발전', '알고리즘', '컴퓨팅', '빅데이터', '기술', '서로', '복합', '성과', '인공', '지능', '분야', '혁신', '논문', '논문', '실제', '구현', '컴퓨팅', '인프라', '클라우드', '인공', '지능', '학습', '데이터']\n"
     ]
    }
   ],
   "source": [
    "# 한 음절 단어는 제외 \n",
    "\n",
    "\n",
    "noun_list = [word for word in noun_list if len(word) > 1]\n",
    "\n",
    "print(noun_list[:50])\n"
   ]
  },
  {
   "cell_type": "markdown",
   "metadata": {},
   "source": [
    "### 최빈 단어 확인하기"
   ]
  },
  {
   "cell_type": "code",
   "execution_count": 34,
   "metadata": {},
   "outputs": [
    {
     "name": "stdout",
     "output_type": "stream",
     "text": [
      "[('지능', 36), ('인공', 29), ('구현', 14), ('분야', 13), ('학습', 13), ('연구', 13), ('인간', 11), ('발전', 9), ('행동', 9), ('데이터', 7), ('추론', 7), ('이제', 6), ('정보', 6), ('기업', 6), ('현실', 5), ('인식', 5), ('강화', 5), ('기반', 5), ('최근', 4), ('통해', 4), ('시작', 4), ('혁신', 4), ('컴퓨팅', 4), ('논문', 4), ('수준', 4), ('진행', 4), ('예측', 4), ('환경', 4), ('노력', 4), ('사람', 3)]\n",
      "\n",
      "{'지능': 36, '인공': 29, '구현': 14, '분야': 13, '학습': 13, '연구': 13, '인간': 11, '발전': 9, '행동': 9, '데이터': 7, '추론': 7, '이제': 6, '정보': 6, '기업': 6, '현실': 5, '인식': 5, '강화': 5, '기반': 5, '최근': 4, '통해': 4, '시작': 4, '혁신': 4, '컴퓨팅': 4, '논문': 4, '수준': 4, '진행': 4, '예측': 4, '환경': 4, '노력': 4, '사람': 3}\n"
     ]
    }
   ],
   "source": [
    "counts = Counter(noun_list)\n",
    "\n",
    "words = counts.most_common(30)    # 최빈 단어 30개를 추출 \n",
    "\n",
    "print(words)\n",
    "print()\n",
    "\n",
    "print(dict(words))     # wordcloud 의 generate_from_frequencies 메소드의 입력은 dict 타입임"
   ]
  },
  {
   "cell_type": "markdown",
   "metadata": {},
   "source": [
    "### WordCloud 그리기"
   ]
  },
  {
   "cell_type": "markdown",
   "metadata": {},
   "source": [
    "WordCloud(font_path='C:/Windows/Fonts/malgun.ttf', \\\n",
    "background_color=\"white\", width=800, height=600, max_words=100, \\\n",
    "max_font_size=300)\n",
    "\n",
    "- font_path : 사용할 글꼴의 글꼴 경로\n",
    "- width : 캔버스의 너비. 기본값은 400\n",
    "- height : 캔버스의 높이. 기본값은 200\n",
    "- max_words : 허용되는 최대 단어. 기본값은 200\n",
    "- background_color : 단어 구름 이미지의 배경색. 기본값은 black\n",
    "- max_font_size : 이미지에 넣을 최대 폰트 크기를 지정. 기본값은 None\n",
    "- mask : 마스크로 사용할 이미지 입력"
   ]
  },
  {
   "cell_type": "code",
   "execution_count": 35,
   "metadata": {},
   "outputs": [
    {
     "name": "stdout",
     "output_type": "stream",
     "text": [
      "{'지능': 36, '인공': 29, '구현': 14, '분야': 13, '학습': 13, '연구': 13, '인간': 11, '발전': 9, '행동': 9, '데이터': 7, '추론': 7, '이제': 6, '정보': 6, '기업': 6, '현실': 5, '인식': 5, '강화': 5, '기반': 5, '최근': 4, '통해': 4, '시작': 4, '혁신': 4, '컴퓨팅': 4, '논문': 4, '수준': 4, '진행': 4, '예측': 4, '환경': 4, '노력': 4, '사람': 3}\n",
      "\n",
      "\n"
     ]
    },
    {
     "data": {
      "image/png": "[encoded data removed]",
      "text/plain": [
       "<PIL.Image.Image image mode=RGB size=800x600 at 0x26D478CD088>"
      ]
     },
     "execution_count": 35,
     "metadata": {},
     "output_type": "execute_result"
    }
   ],
   "source": [
    "# 필요한 패키지 불러오기\n",
    "\n",
    "from wordcloud import WordCloud\n",
    "\n",
    "\n",
    "wordcloud = WordCloud(font_path='C:/Windows/Fonts/malgun.ttf',\n",
    "                      background_color='white',\n",
    "                      colormap = 'Accent_r',\n",
    "                      width=800,\n",
    "                      height=600)\n",
    "\n",
    "print(dict(words))\n",
    "print('\\n')\n",
    "\n",
    "cloud = wordcloud.generate_from_frequencies(dict(words))\n",
    "\n",
    "wordcloud.to_image()\n"
   ]
  },
  {
   "cell_type": "code",
   "execution_count": 36,
   "metadata": {},
   "outputs": [
    {
     "name": "stdout",
     "output_type": "stream",
     "text": [
      "{'지능': 36, '인공': 29, '구현': 14, '분야': 13, '학습': 13, '연구': 13, '인간': 11, '발전': 9, '행동': 9, '데이터': 7, '추론': 7, '이제': 6, '정보': 6, '기업': 6, '현실': 5, '인식': 5, '강화': 5, '기반': 5, '최근': 4, '통해': 4, '시작': 4, '혁신': 4, '컴퓨팅': 4, '논문': 4, '수준': 4, '진행': 4, '예측': 4, '환경': 4, '노력': 4, '사람': 3}\n",
      "\n",
      "\n"
     ]
    },
    {
     "data": {
      "image/png": "[encoded data removed]",
      "text/plain": [
       "<Figure size 720x576 with 1 Axes>"
      ]
     },
     "metadata": {
      "needs_background": "light"
     },
     "output_type": "display_data"
    }
   ],
   "source": [
    "wordcloud = WordCloud(font_path='C:/Windows/Fonts/malgun.ttf',\n",
    "                      background_color='white',\n",
    "                      colormap = 'Accent_r',\n",
    "                      width=800,\n",
    "                      height=600)\n",
    "\n",
    "print(dict(words))\n",
    "print('\\n')\n",
    "\n",
    "cloud = wordcloud.generate_from_frequencies(dict(words))  # 여기까지 위에서 복사후 붙여넣기\n",
    "                                                          # 이제부터 이런 방식으로 사용\n",
    "\n",
    "fig = plt.figure(figsize=(10, 8))    #  가상의 도화지를 정의하고 크기를 지정해 줌\n",
    "\n",
    "plt.axis('off')                  # x, y축 선을 그리지 않게 세팅\n",
    "\n",
    "plt.imshow(cloud)                # 가상의 도화지에 cloud 그림을 그림\n",
    "\n",
    "plt.show()                       # 가상의 그림을 화면에 출력 \n",
    "\n",
    "fig.savefig('worldcloud.png')    # 워드 클라우드를 화일로 저장\n"
   ]
  },
  {
   "cell_type": "markdown",
   "metadata": {},
   "source": [
    "\n",
    "## Color Map 참조 사이트 \n",
    "#### - https://matplotlib.org/stable/tutorials/colors/colormaps.html   \n"
   ]
  },
  {
   "cell_type": "code",
   "execution_count": 37,
   "metadata": {},
   "outputs": [
    {
     "name": "stdout",
     "output_type": "stream",
     "text": [
      "Accent\n",
      "Accent_r\n",
      "Blues\n",
      "Blues_r\n",
      "BrBG\n",
      "BrBG_r\n",
      "BuGn\n",
      "BuGn_r\n",
      "BuPu\n",
      "BuPu_r\n",
      "CMRmap\n",
      "CMRmap_r\n",
      "Dark2\n",
      "Dark2_r\n",
      "GnBu\n",
      "GnBu_r\n",
      "Greens\n",
      "Greens_r\n",
      "Greys\n",
      "Greys_r\n",
      "OrRd\n",
      "OrRd_r\n",
      "Oranges\n",
      "Oranges_r\n",
      "PRGn\n",
      "PRGn_r\n",
      "Paired\n",
      "Paired_r\n",
      "Pastel1\n",
      "Pastel1_r\n",
      "Pastel2\n",
      "Pastel2_r\n",
      "PiYG\n",
      "PiYG_r\n",
      "PuBu\n",
      "PuBuGn\n",
      "PuBuGn_r\n",
      "PuBu_r\n",
      "PuOr\n",
      "PuOr_r\n",
      "PuRd\n",
      "PuRd_r\n",
      "Purples\n",
      "Purples_r\n",
      "RdBu\n",
      "RdBu_r\n",
      "RdGy\n",
      "RdGy_r\n",
      "RdPu\n",
      "RdPu_r\n",
      "RdYlBu\n",
      "RdYlBu_r\n",
      "RdYlGn\n",
      "RdYlGn_r\n",
      "Reds\n",
      "Reds_r\n",
      "Set1\n",
      "Set1_r\n",
      "Set2\n",
      "Set2_r\n",
      "Set3\n",
      "Set3_r\n",
      "Spectral\n",
      "Spectral_r\n",
      "Wistia\n",
      "Wistia_r\n",
      "YlGn\n",
      "YlGnBu\n",
      "YlGnBu_r\n",
      "YlGn_r\n",
      "YlOrBr\n",
      "YlOrBr_r\n",
      "YlOrRd\n",
      "YlOrRd_r\n",
      "afmhot\n",
      "afmhot_r\n",
      "autumn\n",
      "autumn_r\n",
      "binary\n",
      "binary_r\n",
      "bone\n",
      "bone_r\n",
      "brg\n",
      "brg_r\n",
      "bwr\n",
      "bwr_r\n",
      "cividis\n",
      "cividis_r\n",
      "cool\n",
      "cool_r\n",
      "coolwarm\n",
      "coolwarm_r\n",
      "copper\n",
      "copper_r\n",
      "cubehelix\n",
      "cubehelix_r\n",
      "flag\n",
      "flag_r\n",
      "gist_earth\n",
      "gist_earth_r\n",
      "gist_gray\n",
      "gist_gray_r\n",
      "gist_heat\n",
      "gist_heat_r\n",
      "gist_ncar\n",
      "gist_ncar_r\n",
      "gist_rainbow\n",
      "gist_rainbow_r\n",
      "gist_stern\n",
      "gist_stern_r\n",
      "gist_yarg\n",
      "gist_yarg_r\n",
      "gnuplot\n",
      "gnuplot2\n",
      "gnuplot2_r\n",
      "gnuplot_r\n",
      "gray\n",
      "gray_r\n",
      "hot\n",
      "hot_r\n",
      "hsv\n",
      "hsv_r\n",
      "inferno\n",
      "inferno_r\n",
      "jet\n",
      "jet_r\n",
      "magma\n",
      "magma_r\n",
      "nipy_spectral\n",
      "nipy_spectral_r\n",
      "ocean\n",
      "ocean_r\n",
      "pink\n",
      "pink_r\n",
      "plasma\n",
      "plasma_r\n",
      "prism\n",
      "prism_r\n",
      "rainbow\n",
      "rainbow_r\n",
      "seismic\n",
      "seismic_r\n",
      "spring\n",
      "spring_r\n",
      "summer\n",
      "summer_r\n",
      "tab10\n",
      "tab10_r\n",
      "tab20\n",
      "tab20_r\n",
      "tab20b\n",
      "tab20b_r\n",
      "tab20c\n",
      "tab20c_r\n",
      "terrain\n",
      "terrain_r\n",
      "twilight\n",
      "twilight_r\n",
      "twilight_shifted\n",
      "twilight_shifted_r\n",
      "viridis\n",
      "viridis_r\n",
      "winter\n",
      "winter_r\n"
     ]
    }
   ],
   "source": [
    "# pyplot 클래스의 colormaps() 메소드를 사용해서 Matplotlib에서 사용할 수 있는 모든 컬러맵의 이름을 얻을 수 있음\n",
    "# Accent_r 은 Accent 칼라맵의 reverse type 을 말함 \n",
    "\n",
    "cmaps = plt.colormaps()\n",
    "\n",
    "for cm in cmaps:\n",
    "    print(cm)\n"
   ]
  },
  {
   "cell_type": "code",
   "execution_count": null,
   "metadata": {},
   "outputs": [],
   "source": []
  }
 ],
 "metadata": {
  "kernelspec": {
   "display_name": "Python 3",
   "language": "python",
   "name": "python3"
  },
  "language_info": {
   "codemirror_mode": {
    "name": "ipython",
    "version": 3
   },
   "file_extension": ".py",
   "mimetype": "text/x-python",
   "name": "python",
   "nbconvert_exporter": "python",
   "pygments_lexer": "ipython3",
   "version": "3.7.4"
  }
 },
 "nbformat": 4,
 "nbformat_minor": 4
}
