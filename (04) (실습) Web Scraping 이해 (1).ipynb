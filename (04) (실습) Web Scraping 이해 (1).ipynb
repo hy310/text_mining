{
 "cells": [
  {
   "cell_type": "markdown",
   "metadata": {},
   "source": [
    "<span style=\"color:blue\">   \n",
    "\n",
    "# Web Scraping 기초\n",
    "\n",
    "#### ■ 필요한 패키지 설치\n",
    "#### - pip install requests \n",
    "    \n",
    " </span>"
   ]
  },
  {
   "cell_type": "markdown",
   "metadata": {},
   "source": [
    "## 0. 기본 package 설정\n",
    "\n"
   ]
  },
  {
   "cell_type": "code",
   "execution_count": null,
   "metadata": {},
   "outputs": [],
   "source": [
    "# (실습) \n",
    "\n",
    "## 기본 패키지 불러오기\n",
    "import numpy as np                      # numpy 패키지 가져오기\n",
    "import pandas as pd                     # pandas 패키지 가져오기\n",
    "\n",
    "\n",
    "                      # requests 패키지 가져오기 \n",
    "\n",
    "import warnings\n",
    "warnings.filterwarnings('ignore')\n"
   ]
  },
  {
   "cell_type": "markdown",
   "metadata": {},
   "source": [
    "## 1. Web Scraping\n",
    "\n",
    "###  - requests 모듈 이용 방법\n",
    "####     ▶ requests 는 지정된 웹사이트의 정보를 가져옴\n",
    "####     ▶ res = requests.get(url) : url주소에 데이터 요청\n",
    "####     ▶ res.text  : 응답 데이터는 텍스트형식\n",
    "####     ▶ res.content  : 응답 데이터는 binary 형식\n",
    "####     ▶ res.json  : 응답 데이터는 JSON형태\n",
    "####     ▶ res.url : 해당 url 을 반환\n",
    "####     ▶ res.status_code : 응답 상태코드 (200 이면 성공)\n"
   ]
  },
  {
   "cell_type": "code",
   "execution_count": null,
   "metadata": {},
   "outputs": [],
   "source": [
    "# (실습) \n",
    "\n",
    "# res = requests.get('http://naver.com', headers={'USER-AGENT' : 'myBot'} )\n",
    "# requests 를 이용하여 웹 정보를 가져오기\n",
    "\n",
    "\n",
    "# requests 에서 웹 호출을 진행한 후 결과는 Response 객체에 담기게 됨\n",
    "\n",
    "res =    # requests의 get 메소드를 이용하여 instance 를 생성 \n",
    "\n",
    "\n",
    "print(\"응답 코드: \", )  # 응답코드가 200 이면 정상,  그렇지 않으면 에러가 발생한 경우 (400번대 코드)\n",
    "print('\\n')\n",
    "\n",
    "if res.status_code ==  :\n",
    "    print(\"정상입니다\")\n",
    "else:\n",
    "    print(\"에러가 발생했습니다. [에러코드 \", res.status_code, \"]\")\n"
   ]
  },
  {
   "cell_type": "markdown",
   "metadata": {},
   "source": [
    "### 2. 웹 서버의 응답 결과가 에러인 경우"
   ]
  },
  {
   "cell_type": "code",
   "execution_count": null,
   "metadata": {},
   "outputs": [],
   "source": [
    "# (실습) \n",
    "\n",
    "# 상태 코드 속성을 이용하여 확인\n",
    "# 방법 1 \n",
    "\n",
    "\n",
    "\n",
    "url = 'https://en.wikipedia.org/wiki/this_is_error'\n",
    "\n",
    "res = \n",
    "\n",
    "if  == requests.codes.ok :\n",
    "    print(\"정상입니다\")\n",
    "else:\n",
    "    print(\"에러가 발생했습니다. [에러코드 \", res.status_code, \"]\")\n",
    "    "
   ]
  },
  {
   "cell_type": "code",
   "execution_count": null,
   "metadata": {},
   "outputs": [],
   "source": [
    "# (실습) \n",
    "\n",
    "# 방법 2 : raise_for_status method 이용하기 \n",
    "\n",
    "res.        # 위의 if~ else 문장 기능과 동일한 기능을 제공하는 request 내 함수, 에러발생시 에러메시지를 출력\n",
    "\n",
    "print(\"웹 스크래핑을 진행합니다\")\n",
    "\n"
   ]
  },
  {
   "cell_type": "code",
   "execution_count": null,
   "metadata": {},
   "outputs": [],
   "source": [
    "# (실습) \n",
    "\n",
    "# 수신한 웹 페이지 정보의 크기를 확인\n",
    "\n",
    "\n",
    "print( )       # 스크래핑한 문서의 크기를 반환  \n"
   ]
  },
  {
   "cell_type": "markdown",
   "metadata": {},
   "source": [
    "### 3. 스크래핑한 자료를 화일로 저장하기"
   ]
  },
  {
   "cell_type": "code",
   "execution_count": null,
   "metadata": {
    "jupyter": {
     "outputs_hidden": true
    },
    "scrolled": true
   },
   "outputs": [],
   "source": [
    "# (실습) \n",
    "\n",
    "res = requests.get( )\n",
    "\n",
    "res.raise_for_status() \n",
    "\n",
    "print(len(  ))   # 수집된 데이타 크기를 확인하고 \n",
    "\n",
    "print( )      # 수집된 내용을 확인 한 후 \n"
   ]
  },
  {
   "cell_type": "code",
   "execution_count": null,
   "metadata": {},
   "outputs": [],
   "source": [
    "# (실습) \n",
    "\n",
    "# 스크래핑한 자료를 화일로 저장하기\n",
    "# with open 문 이용 \n",
    "# 화일 저장 후 현 디렉토리에 저장이 되었는지 확인\n",
    "\n",
    "\n",
    "('mygoogle.html',  , encoding= )\n",
    "    \n",
    "    "
   ]
  },
  {
   "cell_type": "markdown",
   "metadata": {},
   "source": [
    "### 4. requests.text 와  requests.content\n",
    "\n",
    "#### ▶ requests.text : 해당 URL 의 내용을 readable한 내용으로 디코딩 \n",
    "#### ▶ requests.content: Binary 형식으로 반환, 이미지 등의 미디어 파일을 받고자 할 때 사용\n"
   ]
  },
  {
   "cell_type": "code",
   "execution_count": null,
   "metadata": {
    "jupyter": {
     "outputs_hidden": true
    }
   },
   "outputs": [],
   "source": [
    "# (실습) \n",
    "\n",
    "# 구글에서 '자연어 처리' 입력 후 위키피디아 페이지로 이동\n",
    "\n",
    "# url = 'https://ko.wikipedia.org/wiki/%EC%9E%90%EC%97%B0%EC%96%B4_%EC%B2%98%EB%A6%AC'\n",
    "\n",
    "url = \n",
    "\n",
    "res = requests.\n",
    "\n",
    "res.text\n"
   ]
  },
  {
   "cell_type": "code",
   "execution_count": null,
   "metadata": {},
   "outputs": [],
   "source": [
    "# (실습) \n",
    "\n",
    "# 해당 페이지의 인코딩 방식을 확인\n",
    "\n",
    "\n"
   ]
  },
  {
   "cell_type": "code",
   "execution_count": null,
   "metadata": {
    "jupyter": {
     "outputs_hidden": true
    }
   },
   "outputs": [],
   "source": [
    "# (실습) \n",
    "\n",
    "# content 메소드를 이용하여 내용 확인하기 \n",
    "# res = requests.get(url)\n",
    "\n",
    "\n"
   ]
  },
  {
   "cell_type": "markdown",
   "metadata": {},
   "source": [
    "### 5. \"params\" option 사용하기 (1)"
   ]
  },
  {
   "cell_type": "code",
   "execution_count": null,
   "metadata": {
    "jupyter": {
     "outputs_hidden": true
    }
   },
   "outputs": [],
   "source": [
    "# (실습) \n",
    "\n",
    "# 아래 url 문자열 중에서 \"?\" 이하가 parameter 에 해당 - 중요 (!!!!)\n",
    "\n",
    "# 전자신문 홈페이지에서 '인공지능' 을 검색했을 경우\n",
    "\n",
    "url = \n",
    "\n",
    "res = requests.get(url)\n",
    "\n",
    "res.text\n"
   ]
  },
  {
   "cell_type": "code",
   "execution_count": null,
   "metadata": {
    "jupyter": {
     "outputs_hidden": true
    }
   },
   "outputs": [],
   "source": [
    "# (실습) \n",
    "\n",
    "# 위의 url 문자열 중에서 \"?\" 이하를  parameter 로 변수화 \n",
    "# 위와 같은 결과를 얻을 수 있음 \n",
    "\n",
    "\n",
    "url = 'https://search.etnews.com/etnews/search.php'\n",
    "\n",
    "param = \n",
    "\n",
    "\n",
    "res = requests.   # (주의) \"params\" option 은 복수형 \n",
    "\n",
    "res.text\n"
   ]
  },
  {
   "cell_type": "markdown",
   "metadata": {},
   "source": [
    "### 5. \"params\" option 사용하기 (2)"
   ]
  },
  {
   "cell_type": "code",
   "execution_count": null,
   "metadata": {
    "jupyter": {
     "outputs_hidden": true
    }
   },
   "outputs": [],
   "source": [
    "# (실습) \n",
    "\n",
    "# 매일경제신문 사이트에서 '반도체' 를 검색하면 아래와 같은 url을 얻을 수 있음\n",
    "\n",
    "\n",
    "url = \n",
    "\n",
    "res = requests.    # get 메소드와  text 속성을 동시 사용 \n",
    "\n",
    "res\n",
    "\n"
   ]
  },
  {
   "cell_type": "code",
   "execution_count": null,
   "metadata": {
    "jupyter": {
     "outputs_hidden": true
    }
   },
   "outputs": [],
   "source": [
    "# (실습) \n",
    "\n",
    "# url 주소 중에 '?' 이하에서 parameter 를 추출\n",
    "# 검색어 : \" 반도체\"\n",
    "# url = \"https://find.mk.co.kr/new/search.php?s_kwd=%B9%DD%B5%B5%C3%BC&page=total&ADSTK=&ADSTL=&s_keyword=%B9%DD%B5%B5%C3%BC\"\n",
    "\n",
    "url = \n",
    "\n",
    "params = { \n",
    "    \"s_kwd\": ,\n",
    "    \"page\" : ,\n",
    "    \"ADSTK\": \"\",\n",
    "    \"ADSTL\": \"\",\n",
    "    \"s_keyword\": \"반도체\"\n",
    "    \n",
    "}\n",
    "\n",
    "\n",
    "res = requests.\n",
    "\n",
    "res       # 위 셀과 같은 결과인지 확인 \n"
   ]
  },
  {
   "cell_type": "markdown",
   "metadata": {},
   "source": [
    "### 6. 검색시 한글 코드 확인 및 해결\n",
    "\n",
    "- Response(웹 호출 결과)의 text 속성은 str 클래스 타입으로서, requests 모듈에서 자동으로 데이타 인코딩을 수행\n",
    "\n",
    "- 즉, requests는 HTTP 헤더 정보를 통해 데이타의 인코딩을 수행한 후 \n",
    "\n",
    "- Response 객체의 encoding 속성에 그 값을 지정하고, text 속성을 엑세스할 때 이 encoding 속성을 사용\n"
   ]
  },
  {
   "cell_type": "code",
   "execution_count": null,
   "metadata": {},
   "outputs": [],
   "source": [
    "# (실습) \n",
    "\n",
    "# 위 매일경제 사이트의 경우 (검색어 : \" 반도체\") \n",
    "\n",
    "url = \"https://find.mk.co.kr/new/search.php?s_kwd=%B9%DD%B5%B5%C3%BC&page=total&ADSTK=&ADSTL=&s_keyword=%B9%DD%B5%B5%C3%BC\"\n",
    "\n",
    "res = requests.get(url)\n",
    "\n",
    "# 수집된 내용의 인코딩 방식을 확인하기 \n",
    "\n",
    "     # 현재 코딩은'ISO-8859-1' 인코딩 방식을 사용하므로  한글이 깨져 보임\n",
    "\n"
   ]
  },
  {
   "cell_type": "code",
   "execution_count": null,
   "metadata": {
    "jupyter": {
     "outputs_hidden": true,
     "source_hidden": true
    }
   },
   "outputs": [],
   "source": [
    "# 내용을 확인\n",
    "\n",
    "\n",
    "res.text\n"
   ]
  },
  {
   "cell_type": "code",
   "execution_count": null,
   "metadata": {
    "jupyter": {
     "outputs_hidden": true
    }
   },
   "outputs": [],
   "source": [
    "# (실습) \n",
    "\n",
    "# 방법 1 : 인코딩 방식을 'euc-kr' 로 수정하기\n",
    "\n",
    "\n",
    "res.\n",
    "\n",
    "# 수정된 내용을 확인 \n",
    "\n",
    "res.text\n"
   ]
  },
  {
   "cell_type": "code",
   "execution_count": null,
   "metadata": {
    "jupyter": {
     "outputs_hidden": true
    }
   },
   "outputs": [],
   "source": [
    "# (실습) \n",
    "\n",
    "# 방법 2  : requests 모듈의 자동 인코딩을 하지 않도록 option 을 지정 \n",
    "\n",
    "url = \"https://find.mk.co.kr/new/search.php?s_kwd=%B9%DD%B5%B5%C3%BC&page=total&ADSTK=&ADSTL=&s_keyword=%B9%DD%B5%B5%C3%BC\"\n",
    "\n",
    "res = requests.get(url)\n",
    "\n",
    "res.\n",
    "\n",
    "# 수정된 내용을 확인 \n",
    "\n",
    "res.text\n"
   ]
  },
  {
   "cell_type": "code",
   "execution_count": null,
   "metadata": {
    "jupyter": {
     "outputs_hidden": true
    }
   },
   "outputs": [],
   "source": [
    "# (실습) \n",
    "\n",
    "# 방법 3  : content.decode method 이용하기 \n",
    "\n",
    "url = \"https://find.mk.co.kr/new/search.php?s_kwd=%B9%DD%B5%B5%C3%BC&page=total&ADSTK=&ADSTL=&s_keyword=%B9%DD%B5%B5%C3%BC\"\n",
    "\n",
    "res = requests.get(url)\n",
    "\n",
    "\n",
    "res.\n",
    "\n"
   ]
  },
  {
   "cell_type": "code",
   "execution_count": null,
   "metadata": {
    "jupyter": {
     "outputs_hidden": true
    }
   },
   "outputs": [],
   "source": [
    "# (실습) \n",
    "\n",
    "# 위 (방법 1)에서 만약 euc-kr 대신 UTF-8 로 인코딩 하면.......결과는 어떻게 ???\n",
    "# 내용 확인 하기 \n",
    "\n",
    "url = \"https://find.mk.co.kr/new/search.php?s_kwd=%B9%DD%B5%B5%C3%BC&page=total&ADSTK=&ADSTL=&s_keyword=%B9%DD%B5%B5%C3%BC\"\n",
    "\n",
    "res = requests.get(url)\n",
    "\n",
    "res.\n",
    "\n",
    "# 수정된 내용을 확인 \n",
    "\n",
    "res.text\n",
    " "
   ]
  },
  {
   "cell_type": "markdown",
   "metadata": {},
   "source": [
    "### 7. 이미지 저장하기"
   ]
  },
  {
   "cell_type": "code",
   "execution_count": null,
   "metadata": {},
   "outputs": [],
   "source": [
    "# (실습)\n",
    "\n",
    "# 사진 이미지 저장하기 \n",
    "# 구글에서 원하는 이미지를 검색 한 후 마우스 오른쪽 버튼 클릭 - 이미지 주소 복사 - 아래 url에 복사\n",
    "\n",
    "\n",
    "img_url = \n",
    "\n",
    "download_img = requests.get(img_url)\n",
    "\n",
    "with open( 'img_save.jpg',  ) as photo:\n",
    "    \n",
    "    \n",
    "    "
   ]
  },
  {
   "cell_type": "code",
   "execution_count": null,
   "metadata": {},
   "outputs": [],
   "source": []
  },
  {
   "cell_type": "code",
   "execution_count": null,
   "metadata": {},
   "outputs": [],
   "source": []
  },
  {
   "cell_type": "code",
   "execution_count": null,
   "metadata": {},
   "outputs": [],
   "source": []
  },
  {
   "cell_type": "markdown",
   "metadata": {},
   "source": [
    "## 수고하셨습니다.  😀"
   ]
  }
 ],
 "metadata": {
  "kernelspec": {
   "display_name": "Python 3",
   "language": "python",
   "name": "python3"
  },
  "language_info": {
   "codemirror_mode": {
    "name": "ipython",
    "version": 3
   },
   "file_extension": ".py",
   "mimetype": "text/x-python",
   "name": "python",
   "nbconvert_exporter": "python",
   "pygments_lexer": "ipython3",
   "version": "3.7.6"
  }
 },
 "nbformat": 4,
 "nbformat_minor": 4
}
