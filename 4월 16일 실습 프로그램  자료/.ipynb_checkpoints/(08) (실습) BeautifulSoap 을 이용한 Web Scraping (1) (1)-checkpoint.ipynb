{
 "cells": [
  {
   "cell_type": "markdown",
   "metadata": {},
   "source": [
    "<span style=\"color:blue\">\n",
    "    \n",
    "# BeautifulSoap 을 이용한 Web Scraping (1)\n",
    "    \n",
    "### ■ BeautifulSoap Library\n",
    "####  - HTML tag를 파싱하여 해당 페이지에서 text, image data를 편리하게 추출할 수 있도록 도와주는 Python Library\n",
    "    \n",
    "### ■ 필요한 Library를 설치해야 함\n",
    "###    - pip show bs4\n",
    "###    - pip install beautifulsoup4\n",
    "    \n",
    "###    - pip show lxml\n",
    "###    - pip install lxml           /* optional */\n",
    "    \n",
    "</span>"
   ]
  },
  {
   "cell_type": "code",
   "execution_count": null,
   "metadata": {},
   "outputs": [],
   "source": [
    "# 필요한 package 를 import\n",
    "\n",
    "\n",
    "import requests\n",
    "from bs4 import @@@\n",
    "\n",
    "\n",
    "import warnings\n",
    "warnings.filterwarnings('ignore')\n"
   ]
  },
  {
   "cell_type": "markdown",
   "metadata": {},
   "source": [
    "## ▶Requests class 와 BeautifulSoap class 사용 예 \n",
    "\n",
    "### - (e.g.) \n",
    "https://en.wikipedia.org/wiki/Natural_language_processing\n"
   ]
  },
  {
   "cell_type": "code",
   "execution_count": null,
   "metadata": {
    "jupyter": {
     "outputs_hidden": true
    }
   },
   "outputs": [],
   "source": [
    "# 위 url 을 클락하여 크롬 브라우저에서 \"natural language processing\" 을 검색 \n",
    "# 검색 후 브라우저에서 url 을 복사하여 아래 해당 변수에 입력  \n",
    "# requests.text : 해당 URL 의 내용을 readable한 내용으로 디코딩 \n",
    "# requests.content: Binary 형식으로 반환, 이미지 등의 미디어 파일을 받고자 할 때 사용\n",
    "\n",
    "url = \"@@@\" \n",
    "\n",
    "nlp = requests.@@@(url)    # 해당 페이지를 가져옴\n",
    "\n",
    "nlp.@@@       # 해당 페이지의 내용을 확인 \n"
   ]
  },
  {
   "cell_type": "code",
   "execution_count": null,
   "metadata": {
    "jupyter": {
     "outputs_hidden": true
    }
   },
   "outputs": [],
   "source": [
    "# BeautifulSoup 을 이용하여 내용을 파싱 (html 을 해석)\n",
    "\n",
    "soup = @@@(nlp.text)\n",
    "\n",
    "soup     # 파싱 후 해당 페이지의 내용을 확인"
   ]
  },
  {
   "cell_type": "markdown",
   "metadata": {},
   "source": [
    "## ▶ beautifulsoup 메소드들 (1)"
   ]
  },
  {
   "cell_type": "code",
   "execution_count": null,
   "metadata": {
    "jupyter": {
     "outputs_hidden": true
    }
   },
   "outputs": [],
   "source": [
    "# 파싱 후 텍스트 만을 추출\n",
    "\n",
    "soup.@@@()\n"
   ]
  },
  {
   "cell_type": "code",
   "execution_count": null,
   "metadata": {
    "scrolled": true
   },
   "outputs": [],
   "source": [
    "\n",
    "@@@(soup)   # soup 의 type을 확인해 보면 BeautifulSoup의 객체임을 확인할 수 있음\n"
   ]
  },
  {
   "cell_type": "code",
   "execution_count": null,
   "metadata": {
    "jupyter": {
     "outputs_hidden": true
    }
   },
   "outputs": [],
   "source": [
    "# prettify 매소드는 BeautifulSoup 에서 파싱 처리한 구조를 보기 좋도록 재정렬 함 \n",
    "\n",
    "\n",
    "print(soup.@@@())    \n"
   ]
  },
  {
   "cell_type": "markdown",
   "metadata": {},
   "source": [
    "## ▶ beautifulsoup 메소드들 (2)\n",
    "\n",
    "#### - soup.태그이름.name : 특정 태그의 이름을 반환 \n",
    "\n",
    "#### - soup.태그이름.string : 특정 태그로 감싸져있는 string을 추출 "
   ]
  },
  {
   "cell_type": "code",
   "execution_count": null,
   "metadata": {},
   "outputs": [],
   "source": [
    "# 문서에서 title 태그 값을 확인 \n",
    "\n",
    "\n",
    "soup.@@@\n"
   ]
  },
  {
   "cell_type": "code",
   "execution_count": null,
   "metadata": {},
   "outputs": [],
   "source": [
    "# title 태그로 감싸져있는 string을 추출\n",
    "\n",
    "\n",
    "soup.@@@\n"
   ]
  },
  {
   "cell_type": "code",
   "execution_count": null,
   "metadata": {},
   "outputs": [],
   "source": [
    "# 전체 데이터 중에서 <title> </title> 태그로 둘러싸인 전체 데이터를 가져옴\n",
    "# \n",
    "# soup.find(\"title\") 와 동일함\n",
    "\n",
    "soup.@@@       \n",
    "\n"
   ]
  },
  {
   "cell_type": "code",
   "execution_count": null,
   "metadata": {},
   "outputs": [],
   "source": [
    "# 내용 중에 첫번째 a 태그 값을 리턴 \n",
    "\n",
    "soup.@@@ \n"
   ]
  },
  {
   "cell_type": "code",
   "execution_count": null,
   "metadata": {},
   "outputs": [],
   "source": [
    "# 내용 중에 첫번째 p 태그값을 리턴 \n",
    "\n",
    "soup.@@@ \n"
   ]
  },
  {
   "cell_type": "markdown",
   "metadata": {},
   "source": [
    "## ▶ beautifulsoup 메소드들 (3)\n",
    "\n",
    "### - 해당 페이지에서 태그 내의 내용을 가져오고자 할 때"
   ]
  },
  {
   "cell_type": "code",
   "execution_count": null,
   "metadata": {},
   "outputs": [],
   "source": [
    "#  아래의 경우는 첫번째 div tag 내용만 가져옴.  해당 페이지에는 많은 div tage가 존재\n",
    "\n",
    "soup.@@@(\"div\")\n",
    " "
   ]
  },
  {
   "cell_type": "code",
   "execution_count": null,
   "metadata": {},
   "outputs": [],
   "source": [
    "# find 메소드와 같은 기능을 수행\n",
    "\n",
    "soup.@@@(\"div\")\n"
   ]
  },
  {
   "cell_type": "code",
   "execution_count": null,
   "metadata": {},
   "outputs": [],
   "source": [
    "# find 와 select 의 차이 \n",
    "# head 태그 아래있는 title태그를 찾고자 할 때 \n",
    "# find 의 경우 \n",
    "\n",
    "\n",
    "soup.find(\"@@@\").title\n"
   ]
  },
  {
   "cell_type": "code",
   "execution_count": null,
   "metadata": {},
   "outputs": [],
   "source": [
    "# find 와 select 의 차이 \n",
    "# head 태그 아래있는 title태그를 찾고자 할 때 \n",
    "# select 의 경우 \n",
    "\n",
    "soup.select_one(\"@@@\")   # path 를 지정해 주어야 함 \n"
   ]
  },
  {
   "cell_type": "code",
   "execution_count": null,
   "metadata": {
    "jupyter": {
     "outputs_hidden": true
    },
    "scrolled": true
   },
   "outputs": [],
   "source": [
    "# attrs 매개변수를 이용하여 추가적인 정보를 지정할 수 있음 \n",
    "# div 의 id 를 지정해야....\n",
    "# id 속성은 전체 문서에서 유일함 \n",
    "\n",
    "soup.find(\"div\", @@@={\"@@@\":\"@@@\"})\n"
   ]
  },
  {
   "cell_type": "code",
   "execution_count": null,
   "metadata": {
    "jupyter": {
     "outputs_hidden": true
    }
   },
   "outputs": [],
   "source": [
    "# text 만을 출력하고자 할 때\n",
    "\n",
    "print(soup.find(\"div\", @@@={\"id\":\"toc\"}).@@@)\n"
   ]
  },
  {
   "cell_type": "code",
   "execution_count": null,
   "metadata": {
    "jupyter": {
     "outputs_hidden": true
    }
   },
   "outputs": [],
   "source": [
    "# 페이지내 동일한 태그가 다수 존재 할 때 find_all 이용하여 검색 가능\n",
    "\n",
    "soup.@@@('b')\n"
   ]
  },
  {
   "cell_type": "code",
   "execution_count": null,
   "metadata": {
    "jupyter": {
     "outputs_hidden": true
    },
    "scrolled": true
   },
   "outputs": [],
   "source": [
    "# select 메소드는 find_all 과 같은 기능을 수행\n",
    "\n",
    "\n",
    "soup.@@@('b')\n"
   ]
  },
  {
   "cell_type": "code",
   "execution_count": null,
   "metadata": {
    "jupyter": {
     "outputs_hidden": true
    }
   },
   "outputs": [],
   "source": [
    "# 페이지 내에서 link 가 연결된 태그를 검색하고자 할 때\n",
    "\n",
    "soup.@@@('a')\n"
   ]
  },
  {
   "cell_type": "code",
   "execution_count": null,
   "metadata": {},
   "outputs": [],
   "source": [
    "# 여러 elements 중에서 특정 element 를 지정헤서 가져 올 때 \n",
    "\n",
    "\n",
    "print(soup.find_all('a')[10].@@@()) \n",
    "print()\n",
    "\n",
    "print(soup.find_all('a')[15].@@@()) \n",
    "\n"
   ]
  },
  {
   "cell_type": "code",
   "execution_count": null,
   "metadata": {
    "jupyter": {
     "outputs_hidden": true
    }
   },
   "outputs": [],
   "source": [
    "# 위 내용 중에서 href 의 내용만을 추출하고자 할 때\n",
    "\n",
    "\n",
    "for contents in soup.@@@('a'):\n",
    "    if 'href' in contents.@@@ :\n",
    "        print(contents.attrs[@@@])  # 출력 내용 중 #으로 시작되는 것은 페이지내로 이동하는 경우를 말함 \n",
    "        "
   ]
  },
  {
   "cell_type": "code",
   "execution_count": null,
   "metadata": {
    "jupyter": {
     "outputs_hidden": true
    }
   },
   "outputs": [],
   "source": [
    "# get 메소드를 이용하여 href 의 내용만을 추출할 수도 있음 \n",
    "# \n",
    "# 위와 동일 결과를 얻을 수 있음 \n",
    "\n",
    "for contents in soup.find_all('a'):\n",
    "    print(contents.@@@('href'))\n",
    "    \n",
    "    "
   ]
  },
  {
   "cell_type": "code",
   "execution_count": null,
   "metadata": {
    "jupyter": {
     "outputs_hidden": true
    }
   },
   "outputs": [],
   "source": [
    "# 페이지 내 이동이 아닌, 순수 다른 페이지로 이동하는 경우만을 추출할 때\n",
    "\n",
    "\n",
    "for contents in soup.find_all('a'):\n",
    "    if '@@@' in contents.@@@ :\n",
    "        if '@@@' not in contents.attrs['@@@'] :\n",
    "            print(contents.attrs['href'])\n",
    "            "
   ]
  },
  {
   "cell_type": "code",
   "execution_count": null,
   "metadata": {},
   "outputs": [],
   "source": []
  },
  {
   "cell_type": "code",
   "execution_count": null,
   "metadata": {},
   "outputs": [],
   "source": []
  },
  {
   "cell_type": "markdown",
   "metadata": {},
   "source": [
    "## 수고하셨습니다.  😀"
   ]
  }
 ],
 "metadata": {
  "kernelspec": {
   "display_name": "Python 3",
   "language": "python",
   "name": "python3"
  },
  "language_info": {
   "codemirror_mode": {
    "name": "ipython",
    "version": 3
   },
   "file_extension": ".py",
   "mimetype": "text/x-python",
   "name": "python",
   "nbconvert_exporter": "python",
   "pygments_lexer": "ipython3",
   "version": "3.7.4"
  }
 },
 "nbformat": 4,
 "nbformat_minor": 4
}
