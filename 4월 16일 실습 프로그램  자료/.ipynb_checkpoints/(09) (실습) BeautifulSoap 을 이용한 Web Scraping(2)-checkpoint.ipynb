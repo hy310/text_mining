{
 "cells": [
  {
   "cell_type": "markdown",
   "metadata": {},
   "source": [
    "<span style=\"color:blue\">   \n",
    "\n",
    "# 네이버 뉴스 페이지에서 News Data Scraping 하기 \n",
    "\n",
    "</span>"
   ]
  },
  {
   "cell_type": "code",
   "execution_count": null,
   "metadata": {},
   "outputs": [],
   "source": [
    "## 기본\n",
    "import numpy as np                    # numpy 패키지 가져오기\n",
    "import pandas as pd                   # pandas 패키지 가져오기\n",
    "import matplotlib.pyplot as plt       # 시각화 패키지 가져오기\n",
    "\n",
    "## Text 데이터 처리\n",
    "from konlpy.tag import Okt\n",
    "from collections import Counter\n",
    "from wordcloud import WordCloud\n",
    "\n",
    "from bs4 import BeautifulSoup as bs \n",
    "import requests\n",
    "\n",
    "import warnings\n",
    "warnings.filterwarnings('ignore')\n"
   ]
  },
  {
   "cell_type": "markdown",
   "metadata": {},
   "source": [
    "### ▶ 네이버에서 '빅데이터' 검색 후 뉴스 페이지로 이동"
   ]
  },
  {
   "cell_type": "code",
   "execution_count": null,
   "metadata": {
    "jupyter": {
     "outputs_hidden": true
    }
   },
   "outputs": [],
   "source": [
    "# 해당 url 을 복사해서 url 변수에 insert\n",
    "\n",
    "url ='@@@'\n",
    "\n",
    "req = @@@.get(url)    # 해당 페이지를 가져옴\n",
    "\n",
    "soup = @@@(@@@ , 'html.parser')\n",
    "\n",
    "print(soup)"
   ]
  },
  {
   "cell_type": "markdown",
   "metadata": {},
   "source": [
    "### ▶ 뉴스 타이틀을 가져오기"
   ]
  },
  {
   "cell_type": "code",
   "execution_count": null,
   "metadata": {
    "jupyter": {
     "outputs_hidden": true
    }
   },
   "outputs": [],
   "source": [
    "# F12 키를 이용하여 필요한 속성을 확인 \n",
    "\n",
    "\n",
    "news_titles = soup.find_all(attrs='@@@')\n",
    "\n",
    "print(news_titles)\n"
   ]
  },
  {
   "cell_type": "markdown",
   "metadata": {},
   "source": [
    "### ▶ 뉴스 타이틀의 갯수 확인"
   ]
  },
  {
   "cell_type": "code",
   "execution_count": null,
   "metadata": {},
   "outputs": [],
   "source": [
    "# 해당 페이지 제목 갯수\n",
    "\n",
    "print(len(news_titles))\n"
   ]
  },
  {
   "cell_type": "markdown",
   "metadata": {},
   "source": [
    "### ▶페이지 내에서 큰 제목 및 사이트 주소 추출하기"
   ]
  },
  {
   "cell_type": "code",
   "execution_count": null,
   "metadata": {},
   "outputs": [],
   "source": [
    "# 검색 결과 중에서 큰 제목 & 해당 사이트 주소만 추출할 때 \n",
    "\n",
    "for one in news_titles :\n",
    "    print(one.attrs['@@@'])\n",
    "    print(one.attrs['@@@'])\n",
    "    print()\n",
    "    "
   ]
  },
  {
   "cell_type": "markdown",
   "metadata": {},
   "source": [
    "### ▶ 검색어를 입력 받아 뉴스 검색 하기"
   ]
  },
  {
   "cell_type": "code",
   "execution_count": null,
   "metadata": {},
   "outputs": [],
   "source": [
    "\n",
    "base_url ='https://search.naver.com/search.naver?where=news&sm=tab_jum&query='\n",
    "\n",
    "keyword = input('검색어를 입력하세요 : ')\n",
    "\n",
    "url= @@@ + @@@\n",
    "\n",
    "print()\n",
    "print(url)\n"
   ]
  },
  {
   "cell_type": "markdown",
   "metadata": {},
   "source": [
    "### ▶ 해당 페이지를 가져오기"
   ]
  },
  {
   "cell_type": "code",
   "execution_count": null,
   "metadata": {
    "jupyter": {
     "outputs_hidden": true
    }
   },
   "outputs": [],
   "source": [
    "\n",
    "req = @@@.get(url)    # 해당 페이지를 가져옴\n",
    "\n",
    "soup = bs(@@@ , 'html.parser')\n",
    "\n",
    "print(soup)\n"
   ]
  },
  {
   "cell_type": "markdown",
   "metadata": {},
   "source": [
    "### ▶ 뉴스 headline 을 속성값으로 검색하고 추출"
   ]
  },
  {
   "cell_type": "code",
   "execution_count": null,
   "metadata": {
    "jupyter": {
     "outputs_hidden": true
    }
   },
   "outputs": [],
   "source": [
    "\n",
    "news_titles = soup.@@@(attrs='news_tit')\n",
    "\n",
    "print(news_titles)\n"
   ]
  },
  {
   "cell_type": "code",
   "execution_count": null,
   "metadata": {},
   "outputs": [],
   "source": [
    "# 검색 결과 중에서 큰 제목 & 해당 사이트 주소만 추출할 때 \n",
    "\n",
    "for one in news_titles :\n",
    "    print(one.@@@['title'])\n",
    "    print(one.@@@['href'])\n",
    "    print()\n",
    "    \n",
    "    "
   ]
  },
  {
   "cell_type": "code",
   "execution_count": null,
   "metadata": {},
   "outputs": [],
   "source": []
  },
  {
   "cell_type": "markdown",
   "metadata": {},
   "source": [
    "## 수고하셨습니다. 😀"
   ]
  }
 ],
 "metadata": {
  "kernelspec": {
   "display_name": "Python 3",
   "language": "python",
   "name": "python3"
  },
  "language_info": {
   "codemirror_mode": {
    "name": "ipython",
    "version": 3
   },
   "file_extension": ".py",
   "mimetype": "text/x-python",
   "name": "python",
   "nbconvert_exporter": "python",
   "pygments_lexer": "ipython3",
   "version": "3.7.4"
  }
 },
 "nbformat": 4,
 "nbformat_minor": 4
}
