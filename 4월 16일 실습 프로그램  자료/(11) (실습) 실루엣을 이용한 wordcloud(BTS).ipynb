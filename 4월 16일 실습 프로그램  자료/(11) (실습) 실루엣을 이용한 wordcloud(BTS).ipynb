{
 "cells": [
  {
   "cell_type": "markdown",
   "metadata": {},
   "source": [
    "<span style=\"color:blue\">    \n",
    "\n",
    "\n",
    "## 위키피디아에서 자료를 가져온 후 워드클라우드로 그리기\n",
    "\n",
    "### ▶ 관련 사이트: https://pypi.org/project/Wikipedia-API/\n",
    "    \n",
    "### ▶ 필요한 라이브러리 설치\n",
    "###  -  pip install wikipedia-api\n",
    "\n",
    "</span>\n"
   ]
  },
  {
   "cell_type": "code",
   "execution_count": null,
   "metadata": {},
   "outputs": [],
   "source": [
    "## 기본\n",
    "import numpy as np                    # numpy 패키지 가져오기\n",
    "import pandas as pd                   # pandas 패키지 가져오기\n",
    "import matplotlib.pyplot as plt       # 시각화 패키지 가져오기\n",
    "\n",
    "## Text 데이터 처리\n",
    "\n",
    "from konlpy.tag import Okt\n",
    "from konlpy.tag import Kkma\n",
    "from konlpy.tag import Komoran\n",
    "from konlpy.tag import Hannanum\n",
    "\n",
    "\n",
    "import requests \n",
    "from bs4 import BeautifulSoup\n",
    "\n",
    "import @@@          # wikipedia api 패키지 가져오기 \n",
    "\n",
    "from wordcloud  import WordCloud\n",
    "from wordcloud  import ImageColorGenerator\n",
    "from collections import Counter\n",
    "\n",
    "import warnings\n",
    "warnings.filterwarnings('ignore')\n"
   ]
  },
  {
   "cell_type": "code",
   "execution_count": null,
   "metadata": {},
   "outputs": [],
   "source": [
    "#한국 wikipedia 사이트로 접속하도록 세팅하기 \n",
    "\n",
    "wiki = @@@.Wikipedia(\n",
    "              language='ko', \n",
    "              extract_format=wikipediaapi.ExtractFormat.WIKI) \n"
   ]
  },
  {
   "cell_type": "markdown",
   "metadata": {},
   "source": [
    "### ▶ 검색어 지정\n",
    "\n",
    "#### - 해당 페이지가 있는지 먼저 확인해야 함\n"
   ]
  },
  {
   "cell_type": "code",
   "execution_count": null,
   "metadata": {
    "jupyter": {
     "outputs_hidden": true
    },
    "scrolled": true
   },
   "outputs": [],
   "source": [
    "# 위키피디아에서 검색 단어 페이지를 가져옴 \n",
    "\n",
    "\n",
    "p_wiki = wiki.@@@(\"BTS\") \n",
    "\n",
    "print(\"Page Exists ??? :  \", p_wiki.exists())\n",
    "print()\n",
    "\n",
    "print(p_wiki.@@@)\n"
   ]
  },
  {
   "cell_type": "markdown",
   "metadata": {},
   "source": [
    "### ▶ 명사만 추출하는 함수 만들기"
   ]
  },
  {
   "cell_type": "code",
   "execution_count": null,
   "metadata": {},
   "outputs": [],
   "source": [
    "# 두음절 이상만 추출\n",
    "\n",
    "\n",
    "okt = Okt()\n",
    "\n",
    "def tokenizer(text) :\n",
    "    nouns = okt.@@@(text)\n",
    "    return [noun for noun in nouns if len(noun) > 1]\n"
   ]
  },
  {
   "cell_type": "code",
   "execution_count": null,
   "metadata": {},
   "outputs": [],
   "source": [
    "# 단어의 출현 횟수 카운트\n",
    "\n",
    "\n",
    "counts = Counter(tokenizer(p_wiki.@@@))\n",
    "\n",
    "words = counts.most_common(100)\n",
    "                 \n",
    "print(words)\n"
   ]
  },
  {
   "cell_type": "markdown",
   "metadata": {},
   "source": [
    "### ▶ 실루엣을 이용한 워드클라우드 그리기"
   ]
  },
  {
   "cell_type": "code",
   "execution_count": null,
   "metadata": {},
   "outputs": [],
   "source": [
    "# 최적의 결과를 얻으려면 명암 대비가 높은 이미지를 선택해야 함 \n",
    "# 이미지 주위 배경이 투명한 경우는 피해야 함  \n",
    "\n",
    "\n",
    "cloud_img = plt.@@@('@@@')\n",
    "\n",
    "wordcloud = WordCloud(font_path='C:/Windows/Fonts/malgun.ttf',\n",
    "                      background_color='white',\n",
    "#                       random_state = 1,\n",
    "#                       colormap = 'Accent_r',\n",
    "                      color_func = ImageColorGenerator(@@@),   # img의 color 를 이용\n",
    "                      mask = @@@)      # 읽어드린 그림 이미지에 맞게 그림 \n",
    "\n",
    "print(dict(words))\n",
    "\n",
    "cloud = wordcloud.generate_from_frequencies(dict(words))  \n",
    "\n",
    "fig = plt.figure(figsize=(12, 10))\n",
    "\n",
    "plt.axis('off')\n",
    "\n",
    "plt.imshow(cloud)\n",
    "\n",
    "plt.show()\n",
    "\n"
   ]
  },
  {
   "cell_type": "code",
   "execution_count": null,
   "metadata": {},
   "outputs": [],
   "source": []
  },
  {
   "cell_type": "markdown",
   "metadata": {},
   "source": [
    "## 수고하셨습니다.  😀"
   ]
  }
 ],
 "metadata": {
  "kernelspec": {
   "display_name": "Python 3",
   "language": "python",
   "name": "python3"
  },
  "language_info": {
   "codemirror_mode": {
    "name": "ipython",
    "version": 3
   },
   "file_extension": ".py",
   "mimetype": "text/x-python",
   "name": "python",
   "nbconvert_exporter": "python",
   "pygments_lexer": "ipython3",
   "version": "3.7.4"
  }
 },
 "nbformat": 4,
 "nbformat_minor": 4
}
