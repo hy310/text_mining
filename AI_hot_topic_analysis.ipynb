{
 "cells": [
  {
   "cell_type": "markdown",
   "metadata": {},
   "source": [
    "<span style=\"color:purple\">\n",
    "\n",
    "## ■ AI topic 중 \"pose estimation\" 관련 논문 scraping 및 hot topic 분석\n",
    "    \n",
    "</span>\n",
    "\n",
    "#### Google Scholar 를 통한 논문 검색\n",
    "\n",
    "- AI 는 최신 기술, 최신 연구 내용이 중요하고 계속 새로운 SOTA(state-of-the-art) 알고리즘이 나오고 있기 때문에 follow-up 해가며 update 해주는 것이 중요하다.\n",
    "- 중복 연구를 피하면서 현재 연구에 도움이 되는 유의미한 논문을 찾아야 한다.\n",
    "- 따라서 많은 수로 인용된 논문들을 선별하여 우수 논문을 찾고, 우수 논문들이 다루는 topic 에 대해 알아본다.\n",
    "- 연도별로 논문을 분류해 pose estimation 관련하여 어떤 연도에 가장 연구가 활발히 이루어졌는지 알아본다.\n"
   ]
  },
  {
   "cell_type": "markdown",
   "metadata": {},
   "source": [
    "- 영어 논문이기 때문에 nltk 의 Penn Treebank Tagset 을 사용하여 POS Tagging 을 진행한다.\n",
    "- 논문은 네이버, 다음, 구글보다 google scholar 를 통해 더 질 좋은 검색을 할 수 있다."
   ]
  },
  {
   "cell_type": "code",
   "execution_count": 2,
   "metadata": {},
   "outputs": [],
   "source": [
    "## 기본\n",
    "import numpy as np                    # numpy 패키지 가져오기\n",
    "import pandas as pd                   # pandas 패키지 가져오기\n",
    "import matplotlib.pyplot as plt       # 시각화 패키지 가져오기\n",
    "\n",
    "## Text 데이터 처리\n",
    "from nltk.tag import pos_tag\n",
    "from nltk.tokenize import word_tokenize\n",
    "\n",
    "from collections import Counter\n",
    "from wordcloud import WordCloud\n",
    "\n",
    "from bs4 import BeautifulSoup\n",
    "import requests\n",
    "\n",
    "import re\n",
    "\n",
    "import warnings\n",
    "warnings.filterwarnings('ignore')\n"
   ]
  },
  {
   "cell_type": "markdown",
   "metadata": {},
   "source": [
    "## (1) 논문 검색\n",
    "###  ■ 구글 scholar 검색창에서 'pose estimation'  입력\n",
    "#### 필요한 부분을 정규표현식을 사용하여 추출\n",
    "\n"
   ]
  },
  {
   "cell_type": "code",
   "execution_count": 3,
   "metadata": {
    "jupyter": {
     "outputs_hidden": true
    }
   },
   "outputs": [],
   "source": [
    "url ='https://scholar.google.com/scholar?hl=ko&as_sdt=0%2C5&q=pose+estimation&btnG='\n",
    "req = requests.get(url)    # 해당 페이지를 가져옴\n",
    "page = BeautifulSoup(req.text , 'html.parser')"
   ]
  },
  {
   "cell_type": "markdown",
   "metadata": {},
   "source": [
    "### ▶ 논문 제목 추출"
   ]
  },
  {
   "cell_type": "code",
   "execution_count": 4,
   "metadata": {
    "jupyter": {
     "outputs_hidden": true
    }
   },
   "outputs": [],
   "source": [
    "titles = page.find_all(attrs='gs_rt')"
   ]
  },
  {
   "cell_type": "markdown",
   "metadata": {},
   "source": [
    "###### 검색된 title의 크기를 확인한다."
   ]
  },
  {
   "cell_type": "code",
   "execution_count": 5,
   "metadata": {},
   "outputs": [
    {
     "name": "stdout",
     "output_type": "stream",
     "text": [
      "10\n"
     ]
    }
   ],
   "source": [
    "print(len(titles))"
   ]
  },
  {
   "cell_type": "markdown",
   "metadata": {},
   "source": [
    "###### 검색된 title을 각각 프린트 한다."
   ]
  },
  {
   "cell_type": "code",
   "execution_count": 6,
   "metadata": {
    "scrolled": true
   },
   "outputs": [
    {
     "name": "stdout",
     "output_type": "stream",
     "text": [
      "Pose estimation from corresponding point data\n",
      "\n",
      "Deeppose: Human pose estimation via deep neural networks\n",
      "\n",
      "Stacked hourglass networks for human pose estimation\n",
      "\n",
      "Head pose estimation in computer vision: A survey\n",
      "\n",
      "Rmpe: Regional multi-person pose estimation\n",
      "\n",
      "Fast pose estimation with parameter-sensitive hashing\n",
      "\n",
      "Linear pose estimation from points or lines\n",
      "\n",
      "Articulated pose estimation with flexible mixtures-of-parts\n",
      "\n",
      "Realtime multi-person 2d pose estimation using part affinity fields\n",
      "\n",
      "3d human pose estimation= 2d pose estimation+ matching\n",
      "\n"
     ]
    }
   ],
   "source": [
    "for title in titles :\n",
    "    print(title.text)\n",
    "    print()"
   ]
  },
  {
   "cell_type": "markdown",
   "metadata": {},
   "source": [
    "### ▶ 논문 인용횟수 추출\n",
    "- 정규표현식을 이용해 논문 인용횟수를 추출한다."
   ]
  },
  {
   "cell_type": "code",
   "execution_count": 7,
   "metadata": {},
   "outputs": [
    {
     "name": "stdout",
     "output_type": "stream",
     "text": [
      "['899', '2028', '2765', '1551', '622', '1009', '511', '1342', '3605', '318']\n"
     ]
    }
   ],
   "source": [
    "cite = page.select('div.gs_fl')\n",
    "num = re.compile(\"[0-9]+\")\n",
    "cite_final = []\n",
    "\n",
    "for n in cite:\n",
    "    if num.search(n.get_text()) :\n",
    "        cite_final.append(num.search(n.get_text()).group())\n",
    "        \n",
    "print(cite_final)"
   ]
  },
  {
   "cell_type": "markdown",
   "metadata": {},
   "source": [
    "### ▶ 논문 저자 추출\n",
    "- 정규표현식을 이용해 논문 저자를 추출한다."
   ]
  },
  {
   "cell_type": "code",
   "execution_count": 8,
   "metadata": {},
   "outputs": [
    {
     "name": "stdout",
     "output_type": "stream",
     "text": [
      "['RM Haralick', 'A Toshev', 'A Newell', 'E Murphy', 'HS Fang', 'G Shakhnarovich', 'A Ansar', 'Y Yang', 'Z Cao', 'CH Chen']\n"
     ]
    }
   ],
   "source": [
    "author = page.select('div.gs_a')\n",
    "\n",
    "first = re.compile(r\"\\w*\\s*\\w+\")\n",
    "author_final = []\n",
    "\n",
    "for a in author:\n",
    "    if first.search(a.get_text()) :\n",
    "        author_final.append(first.search(a.get_text()).group())\n",
    "\n",
    "print(author_final)"
   ]
  },
  {
   "cell_type": "markdown",
   "metadata": {},
   "source": [
    "### ▶ 논문 작성연도 추출\n",
    "- 정규표현식을 이용해 논문 작성연도를 추출한다."
   ]
  },
  {
   "cell_type": "code",
   "execution_count": 9,
   "metadata": {},
   "outputs": [
    {
     "name": "stdout",
     "output_type": "stream",
     "text": [
      "['1989', '2014', '2016', '2008', '2017', '2003', '2003', '2011', '2017', '2017']\n"
     ]
    }
   ],
   "source": [
    "year = page.select('div.gs_a')\n",
    "\n",
    "yr = re.compile('\\d\\d\\d\\d')\n",
    "year_final = []\n",
    "\n",
    "for y in year:\n",
    "    if yr.search(y.get_text()) :\n",
    "        year_final.append(yr.search(y.get_text()).group())\n",
    "        \n",
    "print(year_final)"
   ]
  },
  {
   "cell_type": "markdown",
   "metadata": {},
   "source": [
    "## (2) 스크래핑\n",
    "\n",
    "\n",
    "##### ▶ 첫 페이지부터 원하는 페이지 까지 스크래핑하는 함수 정의"
   ]
  },
  {
   "cell_type": "code",
   "execution_count": 10,
   "metadata": {},
   "outputs": [],
   "source": [
    "# 해드라인 검색 및 추출 함수를 정의\n",
    "# 검색 키워드 & 스타트 페이지 & 검색 마지막 페이지를 parameter(매개변수) 로 받음\n",
    "# 파이썬은 매개변수가 여러개 인 경우 뒤의 매개 변수부터 디폴트값을 가질 수 있음 \n",
    "\n",
    "\n",
    "title_list = []\n",
    "cite_list = []\n",
    "author_list = []\n",
    "year_list = []\n",
    "\n",
    "def web_scraping(keyword, end, start = 0):    # 시작 페이지의 default 값은 0(즉, 첫 페이지 부터 시작) \n",
    "    while 1:\n",
    "\n",
    "        if start > (end-1) * 10 :    # 스타트 페이지가 마지막 페이지보다 크면 while 문을 빠져 나감 \n",
    "            break \n",
    "        \n",
    "        url ='https://scholar.google.com/scholar?start={}&q={}'.format(start,keyword)\n",
    "\n",
    "        req = requests.get(url)    # 해당 페이지를 가져옴\n",
    "\n",
    "        page = BeautifulSoup(req.text, 'html.parser')\n",
    "\n",
    "        titles = page.find_all(attrs='gs_rt')     # 헤드라인 기사를 가져옴     \n",
    "        for one in titles:\n",
    "            title_list.append(one.text)\n",
    "        \n",
    "        cite = page.select('div.gs_fl')\n",
    "        num = re.compile(\"[0-9]+\")\n",
    "        for n in cite:\n",
    "            if num.search(n.get_text()) :\n",
    "                cite_list.append(num.search(n.get_text()).group())\n",
    "                \n",
    "        author = page.select('div.gs_a')\n",
    "        first = re.compile(r\"\\w*\\s*\\w+\")\n",
    "        for a in author:\n",
    "            if first.search(a.get_text()) :\n",
    "                author_list.append(first.search(a.get_text()).group())\n",
    "                \n",
    "        year = page.select('div.gs_a')\n",
    "        yr = re.compile('\\d\\d\\d\\d')\n",
    "        for y in year:\n",
    "            if yr.search(y.get_text()) :\n",
    "                year_list.append(yr.search(y.get_text()).group())\n",
    "\n",
    "        start += 10\n",
    "    \n",
    "    print(title_list)\n",
    "    print(cite_list)\n",
    "    print(author_list)\n",
    "    print(year_list)"
   ]
  },
  {
   "cell_type": "markdown",
   "metadata": {},
   "source": [
    "### ▶ 위 함수를 호출"
   ]
  },
  {
   "cell_type": "code",
   "execution_count": 12,
   "metadata": {
    "jupyter": {
     "outputs_hidden": true
    },
    "scrolled": true
   },
   "outputs": [
    {
     "name": "stdout",
     "output_type": "stream",
     "text": [
      "검색어를 입력하세요 : pose estimation\n",
      "\n",
      "스크래핑할 마지막 페이지를 입력하세요 : 5\n",
      "['Pose estimation from corresponding point data', 'Deeppose: Human pose estimation via deep neural networks', 'Stacked hourglass networks for human pose estimation', 'Head pose estimation in computer vision: A survey', 'Rmpe: Regional multi-person pose estimation', 'Fast pose estimation with parameter-sensitive hashing', 'Linear pose estimation from points or lines', 'Articulated pose estimation with flexible mixtures-of-parts', 'Realtime multi-person 2d pose estimation using part affinity fields', '3d human pose estimation= 2d pose estimation+ matching', '2d human pose estimation: New benchmark and state of the art analysis', 'Vision-based hand pose estimation: A review', 'A simple yet effective baseline for 3d human pose estimation', 'Multiposenet: Fast multi-person pose estimation using pose residual network', 'Robust pose estimation from a planar target', 'Deepercut: A deeper, stronger, and faster multi-person pose estimation model', 'Densepose: Dense human pose estimation in the wild', 'Algorithms for plane-based pose estimation', 'Simple baselines for human pose estimation and tracking', 'Recognizing human actions as the evolution of pose estimation maps', 'Face detection, pose estimation, and landmark localization in the wild', '[PDF][PDF] Clustered Pose and Nonlinear Appearance Models for Human Pose Estimation.', 'Towards accurate multi-person pose estimation in the wild', 'Deep high-resolution representation learning for human pose estimation', 'Recurrent human pose estimation', 'Pifpaf: Composite fields for human pose estimation', 'Progressive search space reduction for human pose estimation', 'Posetrack: A benchmark for human pose estimation and tracking', 'Fast human pose estimation', '[PDF][PDF] Analysis and solutions of the three point perspective pose estimation problem.', 'Review and analysis of solutions of the three point perspective pose estimation problem', 'Human pose estimation with iterative error feedback', 'Flowing convnets for human pose estimation in videos', 'Monocular 3d pose estimation and tracking by detection', 'OpenPose: realtime multi-person 2D pose estimation using Part Affinity Fields', 'Fast and globally convergent pose estimation from video images', 'Fast animal pose estimation using deep neural networks', 'Pose machines: Articulated pose estimation via inference machines', 'Learning feature pyramids for human pose estimation', 'Efficient human pose estimation from single depth images', 'Real time hand pose estimation using depth sensors', 'Detect-and-track: Efficient pose estimation in videos', 'Learning to refine human pose estimation', 'Posetrack: Joint multi-person pose estimation and tracking', 'Pose estimation for augmented reality: a hands-on survey', 'Learning pose grammar to encode human body configuration for 3d pose estimation', 'Human pose estimation via convolutional part heatmap regression', 'Structured feature learning for pose estimation', 'Worldwide pose estimation using 3d point clouds', \"Does human action recognition benefit from pose estimation?''\"]\n",
      "['899', '2028', '2765', '1551', '622', '1009', '511', '1342', '3605', '318', '1424', '993', '581', '120', '414', '754', '576', '175', '562', '124', '2507', '673', '462', '774', '279', '109', '845', '176', '57', '469', '766', '560', '468', '583', '1313', '997', '175', '263', '304', '598', '419', '142', '59', '150', '321', '155', '438', '222', '391', '212']\n",
      "['RM Haralick', 'A Toshev', 'A Newell', 'E Murphy', 'HS Fang', 'G Shakhnarovich', 'A Ansar', 'Y Yang', 'Z Cao', 'CH Chen', 'M Andriluka', 'A Erol', 'J Martinez', 'M Kocabas', 'G Schweighofer', 'E Insafutdinov', 'RA Güler', 'P Sturm', 'B Xiao', 'M Liu', 'X Zhu', 'S Johnson', 'G Papandreou', 'K Sun', 'V Belagiannis', 'S Kreiss', 'V Ferrari', 'M Andriluka', 'F Zhang', 'RM Haralick', 'BM Haralick', 'J Carreira', 'T Pfister', 'M Andriluka', 'Z Cao', 'CP Lu', 'TD Pereira', 'V Ramakrishna', 'W Yang', 'J Shotton', 'C Keskin', 'R Girdhar', 'M Fieraru', 'U Iqbal', 'E Marchand', 'HS Fang', 'A Bulat', 'X Chu', 'Y Li', 'A Yao']\n",
      "['1989', '2014', '2016', '2008', '2017', '2003', '2003', '2011', '2017', '2017', '2014', '2007', '2017', '2018', '2006', '2016', '2018', '2000', '2018', '2018', '2012', '2010', '2017', '2019', '2017', '2019', '2008', '2018', '2019', '1991', '1994', '2016', '2015', '2010', '2019', '2000', '2019', '2014', '2017', '2012', '2013', '2018', '2018', '2017', '2015', '2018', '2016', '2016', '2012', '2011']\n"
     ]
    }
   ],
   "source": [
    "# 검색어를 입력 받음 \n",
    "keyword = input('검색어를 입력하세요 : ')\n",
    "print()\n",
    "\n",
    "end_page = int(input('스크래핑할 마지막 페이지를 입력하세요 : '))\n",
    "\n",
    "web_scraping(keyword, end_page)       #  end 페이지 까지 스크래핑을 해온다.\n"
   ]
  },
  {
   "cell_type": "markdown",
   "metadata": {},
   "source": [
    "##### 문자열인 인용횟수를 정수형 리스트로 변환"
   ]
  },
  {
   "cell_type": "code",
   "execution_count": 13,
   "metadata": {},
   "outputs": [],
   "source": [
    "cite_list2 = list(map(int, cite_list))"
   ]
  },
  {
   "cell_type": "markdown",
   "metadata": {},
   "source": [
    "##### 수집해 온 갯수 확인 "
   ]
  },
  {
   "cell_type": "code",
   "execution_count": 14,
   "metadata": {},
   "outputs": [
    {
     "name": "stdout",
     "output_type": "stream",
     "text": [
      "50\n",
      "50\n",
      "50\n",
      "50\n"
     ]
    }
   ],
   "source": [
    "print(len(title_list))\n",
    "print(len(cite_list2))\n",
    "print(len(author_list))\n",
    "print(len(year_list))"
   ]
  },
  {
   "cell_type": "markdown",
   "metadata": {},
   "source": [
    "## (3) 논문을 dataframe 으로 정리하기\n",
    "\n",
    "\n",
    "###### ▶ author, title, year, cite 를 column 으로 dataframe 을 만들어 'pose estimation' 관련 논문을 보기 좋게 표로 정리한다.\n",
    "###### ▶ rank 를 이용해 인용횟수가 많은 순위대로 정렬한다."
   ]
  },
  {
   "cell_type": "code",
   "execution_count": 15,
   "metadata": {},
   "outputs": [],
   "source": [
    "data = pd.DataFrame(zip(author_list, title_list, year_list, cite_list2), columns = ['author', 'title', 'year',  'cite'])\n",
    "data['rank'] = data['cite'].rank(method='min', ascending=False)\n",
    "data_sorted = data.sort_values('rank')"
   ]
  },
  {
   "cell_type": "code",
   "execution_count": 16,
   "metadata": {
    "scrolled": false
   },
   "outputs": [
    {
     "data": {
      "text/html": [
       "<div>\n",
       "<style scoped>\n",
       "    .dataframe tbody tr th:only-of-type {\n",
       "        vertical-align: middle;\n",
       "    }\n",
       "\n",
       "    .dataframe tbody tr th {\n",
       "        vertical-align: top;\n",
       "    }\n",
       "\n",
       "    .dataframe thead th {\n",
       "        text-align: right;\n",
       "    }\n",
       "</style>\n",
       "<table border=\"1\" class=\"dataframe\">\n",
       "  <thead>\n",
       "    <tr style=\"text-align: right;\">\n",
       "      <th></th>\n",
       "      <th>author</th>\n",
       "      <th>title</th>\n",
       "      <th>year</th>\n",
       "      <th>cite</th>\n",
       "      <th>rank</th>\n",
       "    </tr>\n",
       "  </thead>\n",
       "  <tbody>\n",
       "    <tr>\n",
       "      <td>8</td>\n",
       "      <td>Z Cao</td>\n",
       "      <td>Realtime multi-person 2d pose estimation using...</td>\n",
       "      <td>2017</td>\n",
       "      <td>3605</td>\n",
       "      <td>1.0</td>\n",
       "    </tr>\n",
       "    <tr>\n",
       "      <td>2</td>\n",
       "      <td>A Newell</td>\n",
       "      <td>Stacked hourglass networks for human pose esti...</td>\n",
       "      <td>2016</td>\n",
       "      <td>2765</td>\n",
       "      <td>2.0</td>\n",
       "    </tr>\n",
       "    <tr>\n",
       "      <td>20</td>\n",
       "      <td>X Zhu</td>\n",
       "      <td>Face detection, pose estimation, and landmark ...</td>\n",
       "      <td>2012</td>\n",
       "      <td>2507</td>\n",
       "      <td>3.0</td>\n",
       "    </tr>\n",
       "    <tr>\n",
       "      <td>1</td>\n",
       "      <td>A Toshev</td>\n",
       "      <td>Deeppose: Human pose estimation via deep neura...</td>\n",
       "      <td>2014</td>\n",
       "      <td>2028</td>\n",
       "      <td>4.0</td>\n",
       "    </tr>\n",
       "    <tr>\n",
       "      <td>3</td>\n",
       "      <td>E Murphy</td>\n",
       "      <td>Head pose estimation in computer vision: A survey</td>\n",
       "      <td>2008</td>\n",
       "      <td>1551</td>\n",
       "      <td>5.0</td>\n",
       "    </tr>\n",
       "    <tr>\n",
       "      <td>10</td>\n",
       "      <td>M Andriluka</td>\n",
       "      <td>2d human pose estimation: New benchmark and st...</td>\n",
       "      <td>2014</td>\n",
       "      <td>1424</td>\n",
       "      <td>6.0</td>\n",
       "    </tr>\n",
       "    <tr>\n",
       "      <td>7</td>\n",
       "      <td>Y Yang</td>\n",
       "      <td>Articulated pose estimation with flexible mixt...</td>\n",
       "      <td>2011</td>\n",
       "      <td>1342</td>\n",
       "      <td>7.0</td>\n",
       "    </tr>\n",
       "    <tr>\n",
       "      <td>34</td>\n",
       "      <td>Z Cao</td>\n",
       "      <td>OpenPose: realtime multi-person 2D pose estima...</td>\n",
       "      <td>2019</td>\n",
       "      <td>1313</td>\n",
       "      <td>8.0</td>\n",
       "    </tr>\n",
       "    <tr>\n",
       "      <td>5</td>\n",
       "      <td>G Shakhnarovich</td>\n",
       "      <td>Fast pose estimation with parameter-sensitive ...</td>\n",
       "      <td>2003</td>\n",
       "      <td>1009</td>\n",
       "      <td>9.0</td>\n",
       "    </tr>\n",
       "    <tr>\n",
       "      <td>35</td>\n",
       "      <td>CP Lu</td>\n",
       "      <td>Fast and globally convergent pose estimation f...</td>\n",
       "      <td>2000</td>\n",
       "      <td>997</td>\n",
       "      <td>10.0</td>\n",
       "    </tr>\n",
       "    <tr>\n",
       "      <td>11</td>\n",
       "      <td>A Erol</td>\n",
       "      <td>Vision-based hand pose estimation: A review</td>\n",
       "      <td>2007</td>\n",
       "      <td>993</td>\n",
       "      <td>11.0</td>\n",
       "    </tr>\n",
       "    <tr>\n",
       "      <td>0</td>\n",
       "      <td>RM Haralick</td>\n",
       "      <td>Pose estimation from corresponding point data</td>\n",
       "      <td>1989</td>\n",
       "      <td>899</td>\n",
       "      <td>12.0</td>\n",
       "    </tr>\n",
       "    <tr>\n",
       "      <td>26</td>\n",
       "      <td>V Ferrari</td>\n",
       "      <td>Progressive search space reduction for human p...</td>\n",
       "      <td>2008</td>\n",
       "      <td>845</td>\n",
       "      <td>13.0</td>\n",
       "    </tr>\n",
       "    <tr>\n",
       "      <td>23</td>\n",
       "      <td>K Sun</td>\n",
       "      <td>Deep high-resolution representation learning f...</td>\n",
       "      <td>2019</td>\n",
       "      <td>774</td>\n",
       "      <td>14.0</td>\n",
       "    </tr>\n",
       "    <tr>\n",
       "      <td>30</td>\n",
       "      <td>BM Haralick</td>\n",
       "      <td>Review and analysis of solutions of the three ...</td>\n",
       "      <td>1994</td>\n",
       "      <td>766</td>\n",
       "      <td>15.0</td>\n",
       "    </tr>\n",
       "    <tr>\n",
       "      <td>15</td>\n",
       "      <td>E Insafutdinov</td>\n",
       "      <td>Deepercut: A deeper, stronger, and faster mult...</td>\n",
       "      <td>2016</td>\n",
       "      <td>754</td>\n",
       "      <td>16.0</td>\n",
       "    </tr>\n",
       "    <tr>\n",
       "      <td>21</td>\n",
       "      <td>S Johnson</td>\n",
       "      <td>[PDF][PDF] Clustered Pose and Nonlinear Appear...</td>\n",
       "      <td>2010</td>\n",
       "      <td>673</td>\n",
       "      <td>17.0</td>\n",
       "    </tr>\n",
       "    <tr>\n",
       "      <td>4</td>\n",
       "      <td>HS Fang</td>\n",
       "      <td>Rmpe: Regional multi-person pose estimation</td>\n",
       "      <td>2017</td>\n",
       "      <td>622</td>\n",
       "      <td>18.0</td>\n",
       "    </tr>\n",
       "    <tr>\n",
       "      <td>39</td>\n",
       "      <td>J Shotton</td>\n",
       "      <td>Efficient human pose estimation from single de...</td>\n",
       "      <td>2012</td>\n",
       "      <td>598</td>\n",
       "      <td>19.0</td>\n",
       "    </tr>\n",
       "    <tr>\n",
       "      <td>33</td>\n",
       "      <td>M Andriluka</td>\n",
       "      <td>Monocular 3d pose estimation and tracking by d...</td>\n",
       "      <td>2010</td>\n",
       "      <td>583</td>\n",
       "      <td>20.0</td>\n",
       "    </tr>\n",
       "    <tr>\n",
       "      <td>12</td>\n",
       "      <td>J Martinez</td>\n",
       "      <td>A simple yet effective baseline for 3d human p...</td>\n",
       "      <td>2017</td>\n",
       "      <td>581</td>\n",
       "      <td>21.0</td>\n",
       "    </tr>\n",
       "    <tr>\n",
       "      <td>16</td>\n",
       "      <td>RA Güler</td>\n",
       "      <td>Densepose: Dense human pose estimation in the ...</td>\n",
       "      <td>2018</td>\n",
       "      <td>576</td>\n",
       "      <td>22.0</td>\n",
       "    </tr>\n",
       "    <tr>\n",
       "      <td>18</td>\n",
       "      <td>B Xiao</td>\n",
       "      <td>Simple baselines for human pose estimation and...</td>\n",
       "      <td>2018</td>\n",
       "      <td>562</td>\n",
       "      <td>23.0</td>\n",
       "    </tr>\n",
       "    <tr>\n",
       "      <td>31</td>\n",
       "      <td>J Carreira</td>\n",
       "      <td>Human pose estimation with iterative error fee...</td>\n",
       "      <td>2016</td>\n",
       "      <td>560</td>\n",
       "      <td>24.0</td>\n",
       "    </tr>\n",
       "    <tr>\n",
       "      <td>6</td>\n",
       "      <td>A Ansar</td>\n",
       "      <td>Linear pose estimation from points or lines</td>\n",
       "      <td>2003</td>\n",
       "      <td>511</td>\n",
       "      <td>25.0</td>\n",
       "    </tr>\n",
       "    <tr>\n",
       "      <td>29</td>\n",
       "      <td>RM Haralick</td>\n",
       "      <td>[PDF][PDF] Analysis and solutions of the three...</td>\n",
       "      <td>1991</td>\n",
       "      <td>469</td>\n",
       "      <td>26.0</td>\n",
       "    </tr>\n",
       "    <tr>\n",
       "      <td>32</td>\n",
       "      <td>T Pfister</td>\n",
       "      <td>Flowing convnets for human pose estimation in ...</td>\n",
       "      <td>2015</td>\n",
       "      <td>468</td>\n",
       "      <td>27.0</td>\n",
       "    </tr>\n",
       "    <tr>\n",
       "      <td>22</td>\n",
       "      <td>G Papandreou</td>\n",
       "      <td>Towards accurate multi-person pose estimation ...</td>\n",
       "      <td>2017</td>\n",
       "      <td>462</td>\n",
       "      <td>28.0</td>\n",
       "    </tr>\n",
       "    <tr>\n",
       "      <td>46</td>\n",
       "      <td>A Bulat</td>\n",
       "      <td>Human pose estimation via convolutional part h...</td>\n",
       "      <td>2016</td>\n",
       "      <td>438</td>\n",
       "      <td>29.0</td>\n",
       "    </tr>\n",
       "    <tr>\n",
       "      <td>40</td>\n",
       "      <td>C Keskin</td>\n",
       "      <td>Real time hand pose estimation using depth sen...</td>\n",
       "      <td>2013</td>\n",
       "      <td>419</td>\n",
       "      <td>30.0</td>\n",
       "    </tr>\n",
       "    <tr>\n",
       "      <td>14</td>\n",
       "      <td>G Schweighofer</td>\n",
       "      <td>Robust pose estimation from a planar target</td>\n",
       "      <td>2006</td>\n",
       "      <td>414</td>\n",
       "      <td>31.0</td>\n",
       "    </tr>\n",
       "    <tr>\n",
       "      <td>48</td>\n",
       "      <td>Y Li</td>\n",
       "      <td>Worldwide pose estimation using 3d point clouds</td>\n",
       "      <td>2012</td>\n",
       "      <td>391</td>\n",
       "      <td>32.0</td>\n",
       "    </tr>\n",
       "    <tr>\n",
       "      <td>44</td>\n",
       "      <td>E Marchand</td>\n",
       "      <td>Pose estimation for augmented reality: a hands...</td>\n",
       "      <td>2015</td>\n",
       "      <td>321</td>\n",
       "      <td>33.0</td>\n",
       "    </tr>\n",
       "    <tr>\n",
       "      <td>9</td>\n",
       "      <td>CH Chen</td>\n",
       "      <td>3d human pose estimation= 2d pose estimation+ ...</td>\n",
       "      <td>2017</td>\n",
       "      <td>318</td>\n",
       "      <td>34.0</td>\n",
       "    </tr>\n",
       "    <tr>\n",
       "      <td>38</td>\n",
       "      <td>W Yang</td>\n",
       "      <td>Learning feature pyramids for human pose estim...</td>\n",
       "      <td>2017</td>\n",
       "      <td>304</td>\n",
       "      <td>35.0</td>\n",
       "    </tr>\n",
       "    <tr>\n",
       "      <td>24</td>\n",
       "      <td>V Belagiannis</td>\n",
       "      <td>Recurrent human pose estimation</td>\n",
       "      <td>2017</td>\n",
       "      <td>279</td>\n",
       "      <td>36.0</td>\n",
       "    </tr>\n",
       "    <tr>\n",
       "      <td>37</td>\n",
       "      <td>V Ramakrishna</td>\n",
       "      <td>Pose machines: Articulated pose estimation via...</td>\n",
       "      <td>2014</td>\n",
       "      <td>263</td>\n",
       "      <td>37.0</td>\n",
       "    </tr>\n",
       "    <tr>\n",
       "      <td>47</td>\n",
       "      <td>X Chu</td>\n",
       "      <td>Structured feature learning for pose estimation</td>\n",
       "      <td>2016</td>\n",
       "      <td>222</td>\n",
       "      <td>38.0</td>\n",
       "    </tr>\n",
       "    <tr>\n",
       "      <td>49</td>\n",
       "      <td>A Yao</td>\n",
       "      <td>Does human action recognition benefit from pos...</td>\n",
       "      <td>2011</td>\n",
       "      <td>212</td>\n",
       "      <td>39.0</td>\n",
       "    </tr>\n",
       "    <tr>\n",
       "      <td>27</td>\n",
       "      <td>M Andriluka</td>\n",
       "      <td>Posetrack: A benchmark for human pose estimati...</td>\n",
       "      <td>2018</td>\n",
       "      <td>176</td>\n",
       "      <td>40.0</td>\n",
       "    </tr>\n",
       "    <tr>\n",
       "      <td>36</td>\n",
       "      <td>TD Pereira</td>\n",
       "      <td>Fast animal pose estimation using deep neural ...</td>\n",
       "      <td>2019</td>\n",
       "      <td>175</td>\n",
       "      <td>41.0</td>\n",
       "    </tr>\n",
       "    <tr>\n",
       "      <td>17</td>\n",
       "      <td>P Sturm</td>\n",
       "      <td>Algorithms for plane-based pose estimation</td>\n",
       "      <td>2000</td>\n",
       "      <td>175</td>\n",
       "      <td>41.0</td>\n",
       "    </tr>\n",
       "    <tr>\n",
       "      <td>45</td>\n",
       "      <td>HS Fang</td>\n",
       "      <td>Learning pose grammar to encode human body con...</td>\n",
       "      <td>2018</td>\n",
       "      <td>155</td>\n",
       "      <td>43.0</td>\n",
       "    </tr>\n",
       "    <tr>\n",
       "      <td>43</td>\n",
       "      <td>U Iqbal</td>\n",
       "      <td>Posetrack: Joint multi-person pose estimation ...</td>\n",
       "      <td>2017</td>\n",
       "      <td>150</td>\n",
       "      <td>44.0</td>\n",
       "    </tr>\n",
       "    <tr>\n",
       "      <td>41</td>\n",
       "      <td>R Girdhar</td>\n",
       "      <td>Detect-and-track: Efficient pose estimation in...</td>\n",
       "      <td>2018</td>\n",
       "      <td>142</td>\n",
       "      <td>45.0</td>\n",
       "    </tr>\n",
       "    <tr>\n",
       "      <td>19</td>\n",
       "      <td>M Liu</td>\n",
       "      <td>Recognizing human actions as the evolution of ...</td>\n",
       "      <td>2018</td>\n",
       "      <td>124</td>\n",
       "      <td>46.0</td>\n",
       "    </tr>\n",
       "    <tr>\n",
       "      <td>13</td>\n",
       "      <td>M Kocabas</td>\n",
       "      <td>Multiposenet: Fast multi-person pose estimatio...</td>\n",
       "      <td>2018</td>\n",
       "      <td>120</td>\n",
       "      <td>47.0</td>\n",
       "    </tr>\n",
       "    <tr>\n",
       "      <td>25</td>\n",
       "      <td>S Kreiss</td>\n",
       "      <td>Pifpaf: Composite fields for human pose estima...</td>\n",
       "      <td>2019</td>\n",
       "      <td>109</td>\n",
       "      <td>48.0</td>\n",
       "    </tr>\n",
       "    <tr>\n",
       "      <td>42</td>\n",
       "      <td>M Fieraru</td>\n",
       "      <td>Learning to refine human pose estimation</td>\n",
       "      <td>2018</td>\n",
       "      <td>59</td>\n",
       "      <td>49.0</td>\n",
       "    </tr>\n",
       "    <tr>\n",
       "      <td>28</td>\n",
       "      <td>F Zhang</td>\n",
       "      <td>Fast human pose estimation</td>\n",
       "      <td>2019</td>\n",
       "      <td>57</td>\n",
       "      <td>50.0</td>\n",
       "    </tr>\n",
       "  </tbody>\n",
       "</table>\n",
       "</div>"
      ],
      "text/plain": [
       "             author                                              title  year  \\\n",
       "8             Z Cao  Realtime multi-person 2d pose estimation using...  2017   \n",
       "2          A Newell  Stacked hourglass networks for human pose esti...  2016   \n",
       "20            X Zhu  Face detection, pose estimation, and landmark ...  2012   \n",
       "1          A Toshev  Deeppose: Human pose estimation via deep neura...  2014   \n",
       "3          E Murphy  Head pose estimation in computer vision: A survey  2008   \n",
       "10      M Andriluka  2d human pose estimation: New benchmark and st...  2014   \n",
       "7            Y Yang  Articulated pose estimation with flexible mixt...  2011   \n",
       "34            Z Cao  OpenPose: realtime multi-person 2D pose estima...  2019   \n",
       "5   G Shakhnarovich  Fast pose estimation with parameter-sensitive ...  2003   \n",
       "35            CP Lu  Fast and globally convergent pose estimation f...  2000   \n",
       "11           A Erol        Vision-based hand pose estimation: A review  2007   \n",
       "0       RM Haralick      Pose estimation from corresponding point data  1989   \n",
       "26        V Ferrari  Progressive search space reduction for human p...  2008   \n",
       "23            K Sun  Deep high-resolution representation learning f...  2019   \n",
       "30      BM Haralick  Review and analysis of solutions of the three ...  1994   \n",
       "15   E Insafutdinov  Deepercut: A deeper, stronger, and faster mult...  2016   \n",
       "21        S Johnson  [PDF][PDF] Clustered Pose and Nonlinear Appear...  2010   \n",
       "4           HS Fang        Rmpe: Regional multi-person pose estimation  2017   \n",
       "39        J Shotton  Efficient human pose estimation from single de...  2012   \n",
       "33      M Andriluka  Monocular 3d pose estimation and tracking by d...  2010   \n",
       "12       J Martinez  A simple yet effective baseline for 3d human p...  2017   \n",
       "16         RA Güler  Densepose: Dense human pose estimation in the ...  2018   \n",
       "18           B Xiao  Simple baselines for human pose estimation and...  2018   \n",
       "31       J Carreira  Human pose estimation with iterative error fee...  2016   \n",
       "6           A Ansar        Linear pose estimation from points or lines  2003   \n",
       "29      RM Haralick  [PDF][PDF] Analysis and solutions of the three...  1991   \n",
       "32        T Pfister  Flowing convnets for human pose estimation in ...  2015   \n",
       "22     G Papandreou  Towards accurate multi-person pose estimation ...  2017   \n",
       "46          A Bulat  Human pose estimation via convolutional part h...  2016   \n",
       "40         C Keskin  Real time hand pose estimation using depth sen...  2013   \n",
       "14   G Schweighofer        Robust pose estimation from a planar target  2006   \n",
       "48             Y Li    Worldwide pose estimation using 3d point clouds  2012   \n",
       "44       E Marchand  Pose estimation for augmented reality: a hands...  2015   \n",
       "9           CH Chen  3d human pose estimation= 2d pose estimation+ ...  2017   \n",
       "38           W Yang  Learning feature pyramids for human pose estim...  2017   \n",
       "24    V Belagiannis                    Recurrent human pose estimation  2017   \n",
       "37    V Ramakrishna  Pose machines: Articulated pose estimation via...  2014   \n",
       "47            X Chu    Structured feature learning for pose estimation  2016   \n",
       "49            A Yao  Does human action recognition benefit from pos...  2011   \n",
       "27      M Andriluka  Posetrack: A benchmark for human pose estimati...  2018   \n",
       "36       TD Pereira  Fast animal pose estimation using deep neural ...  2019   \n",
       "17          P Sturm         Algorithms for plane-based pose estimation  2000   \n",
       "45          HS Fang  Learning pose grammar to encode human body con...  2018   \n",
       "43          U Iqbal  Posetrack: Joint multi-person pose estimation ...  2017   \n",
       "41        R Girdhar  Detect-and-track: Efficient pose estimation in...  2018   \n",
       "19            M Liu  Recognizing human actions as the evolution of ...  2018   \n",
       "13        M Kocabas  Multiposenet: Fast multi-person pose estimatio...  2018   \n",
       "25         S Kreiss  Pifpaf: Composite fields for human pose estima...  2019   \n",
       "42        M Fieraru           Learning to refine human pose estimation  2018   \n",
       "28          F Zhang                         Fast human pose estimation  2019   \n",
       "\n",
       "    cite  rank  \n",
       "8   3605   1.0  \n",
       "2   2765   2.0  \n",
       "20  2507   3.0  \n",
       "1   2028   4.0  \n",
       "3   1551   5.0  \n",
       "10  1424   6.0  \n",
       "7   1342   7.0  \n",
       "34  1313   8.0  \n",
       "5   1009   9.0  \n",
       "35   997  10.0  \n",
       "11   993  11.0  \n",
       "0    899  12.0  \n",
       "26   845  13.0  \n",
       "23   774  14.0  \n",
       "30   766  15.0  \n",
       "15   754  16.0  \n",
       "21   673  17.0  \n",
       "4    622  18.0  \n",
       "39   598  19.0  \n",
       "33   583  20.0  \n",
       "12   581  21.0  \n",
       "16   576  22.0  \n",
       "18   562  23.0  \n",
       "31   560  24.0  \n",
       "6    511  25.0  \n",
       "29   469  26.0  \n",
       "32   468  27.0  \n",
       "22   462  28.0  \n",
       "46   438  29.0  \n",
       "40   419  30.0  \n",
       "14   414  31.0  \n",
       "48   391  32.0  \n",
       "44   321  33.0  \n",
       "9    318  34.0  \n",
       "38   304  35.0  \n",
       "24   279  36.0  \n",
       "37   263  37.0  \n",
       "47   222  38.0  \n",
       "49   212  39.0  \n",
       "27   176  40.0  \n",
       "36   175  41.0  \n",
       "17   175  41.0  \n",
       "45   155  43.0  \n",
       "43   150  44.0  \n",
       "41   142  45.0  \n",
       "19   124  46.0  \n",
       "13   120  47.0  \n",
       "25   109  48.0  \n",
       "42    59  49.0  \n",
       "28    57  50.0  "
      ]
     },
     "execution_count": 16,
     "metadata": {},
     "output_type": "execute_result"
    }
   ],
   "source": [
    "data_sorted"
   ]
  },
  {
   "cell_type": "markdown",
   "metadata": {},
   "source": [
    "## (4) 데이터 분석 결과 wordcloud 및 그래프 생성"
   ]
  },
  {
   "cell_type": "markdown",
   "metadata": {},
   "source": [
    "\n",
    "## [1] 인용횟수가 많은 논문의 keyword 분석 - wordcloud 생성"
   ]
  },
  {
   "cell_type": "code",
   "execution_count": 17,
   "metadata": {},
   "outputs": [],
   "source": [
    "title_cite = pd.DataFrame(zip(title_list, cite_list2), columns = ['title', 'cite'])"
   ]
  },
  {
   "cell_type": "markdown",
   "metadata": {},
   "source": [
    "###### pose estimation 검색 단어 자체와 'PDF' 라는 불용어는 자체 stop words 로 설정해 keyword에서 제외"
   ]
  },
  {
   "cell_type": "code",
   "execution_count": 18,
   "metadata": {},
   "outputs": [],
   "source": [
    "stopwords = [\"PDF\", \"pose\", \"estimation\", \"Pose\", \"Estimation\"]\n",
    "\n",
    "for i in range(0, 50):\n",
    "    word_tag = pos_tag(word_tokenize(title_cite['title'][i]))\n",
    "    words = []\n",
    "    for word, tag in word_tag:\n",
    "        if tag in ['NN', 'NNS', 'NNP', 'NNPS'] and word not in stopwords: \n",
    "            words.append(word)\n",
    "            title_cite['title'][i] = words\n",
    "        else : \n",
    "            title_cite['title'][i] = \"none\"\n",
    "\n",
    "# 리스트 형 문자열로 변환\n",
    "for i in range(0,50) :\n",
    "    t = title_cite['title'][i]\n",
    "    if (t == 'none') :\n",
    "        title_cite['title'][i] = 'none'\n",
    "    else :\n",
    "        strt = \", \".join(t)\n",
    "        title_cite['title'][i] = strt"
   ]
  },
  {
   "cell_type": "markdown",
   "metadata": {},
   "source": [
    "###### wordcloud 생성을 위한 기준 dictionary 생성 (해당 논문의 keyword : 인용횟수 ) "
   ]
  },
  {
   "cell_type": "code",
   "execution_count": 19,
   "metadata": {},
   "outputs": [],
   "source": [
    "dict1 = []\n",
    "dict2 = []\n",
    "for i in range(0,50) :\n",
    "    t = title_cite['title'][i]\n",
    "    c = title_cite['cite'][i]\n",
    "    if (t != 'none') :\n",
    "        dict1.append(t)\n",
    "        dict2.append(c)\n",
    "\n",
    "cloud_list = dict(zip(dict1, dict2))"
   ]
  },
  {
   "cell_type": "markdown",
   "metadata": {},
   "source": [
    "### ▶ 결과  [인용횟수가 많은 논문의 최빈 keyword 값]\n",
    "#### : DeepPose, Realtime, affinity, face detection, localization, networks"
   ]
  },
  {
   "cell_type": "code",
   "execution_count": 20,
   "metadata": {},
   "outputs": [
    {
     "data": {
      "image/png": "[encoded data removed]",
      "text/plain": [
       "<Figure size 720x576 with 1 Axes>"
      ]
     },
     "metadata": {
      "needs_background": "light"
     },
     "output_type": "display_data"
    }
   ],
   "source": [
    "cloud_img = plt.imread('ai2.jpg')       # word cloud 이미지는 인공지능 이미지 사용\n",
    "wordcloud2 = WordCloud(font_path='C:/Windows/Fonts/malgun.ttf',\n",
    "                      colormap = 'Accent_r',\n",
    "                      width=800,\n",
    "                      height=600,\n",
    "                      mask = cloud_img)\n",
    "cloud = wordcloud2.generate_from_frequencies(cloud_list)\n",
    "plt.figure(figsize=(10, 8))\n",
    "plt.axis('off')   \n",
    "plt.imshow(cloud)\n",
    "plt.show()"
   ]
  },
  {
   "cell_type": "markdown",
   "metadata": {},
   "source": [
    "## [2] 인용횟수 별 논문 작성 연도 plot"
   ]
  },
  {
   "cell_type": "code",
   "execution_count": 21,
   "metadata": {
    "scrolled": true
   },
   "outputs": [
    {
     "data": {
      "text/plain": [
       "<matplotlib.axes._subplots.AxesSubplot at 0x22918627548>"
      ]
     },
     "execution_count": 21,
     "metadata": {},
     "output_type": "execute_result"
    },
    {
     "data": {
      "image/png": "[encoded data removed]",
      "text/plain": [
       "<Figure size 432x288 with 1 Axes>"
      ]
     },
     "metadata": {
      "needs_background": "light"
     },
     "output_type": "display_data"
    }
   ],
   "source": [
    "author_df = pd.DataFrame(zip(year_list, cite_list2), columns = ['year',  'cite'])\n",
    "author_df2 = author_df.groupby('year').sum()\n",
    "author_df2.plot.bar()"
   ]
  },
  {
   "cell_type": "markdown",
   "metadata": {},
   "source": [
    "### ▶ 결과  [인용횟수가 가장 많았던 연도] \n",
    "#### : 2017년도에 pose estimation 관련 가장 활발한 논문 인용이 있었다."
   ]
  },
  {
   "cell_type": "markdown",
   "metadata": {},
   "source": [
    "## [3] 인용이 많이 된 상위 20개 논문을 뽑아 keyword 분석하기"
   ]
  },
  {
   "cell_type": "code",
   "execution_count": 22,
   "metadata": {
    "scrolled": true
   },
   "outputs": [],
   "source": [
    "top = data_sorted[:20]\n",
    "top_title = []\n",
    "for title in top['title'] :\n",
    "    top_title.append(title)"
   ]
  },
  {
   "cell_type": "markdown",
   "metadata": {},
   "source": [
    "#### 형태소 분석"
   ]
  },
  {
   "cell_type": "code",
   "execution_count": 23,
   "metadata": {
    "jupyter": {
     "outputs_hidden": true
    }
   },
   "outputs": [
    {
     "name": "stdout",
     "output_type": "stream",
     "text": [
      "[[('Realtime', 'NNP'), ('multi-person', 'JJ'), ('2d', 'CD'), ('pose', 'JJ'), ('estimation', 'NN'), ('using', 'VBG'), ('part', 'NN'), ('affinity', 'NN'), ('fields', 'NNS')], [('Stacked', 'JJ'), ('hourglass', 'NN'), ('networks', 'NNS'), ('for', 'IN'), ('human', 'JJ'), ('pose', 'JJ'), ('estimation', 'NN')], [('Face', 'NNP'), ('detection', 'NN'), (',', ','), ('pose', 'JJ'), ('estimation', 'NN'), (',', ','), ('and', 'CC'), ('landmark', 'JJS'), ('localization', 'NN'), ('in', 'IN'), ('the', 'DT'), ('wild', 'NN')], [('Deeppose', 'NN'), (':', ':'), ('Human', 'NNP'), ('pose', 'VBP'), ('estimation', 'NN'), ('via', 'IN'), ('deep', 'JJ'), ('neural', 'JJ'), ('networks', 'NNS')], [('Head', 'NNP'), ('pose', 'JJ'), ('estimation', 'NN'), ('in', 'IN'), ('computer', 'NN'), ('vision', 'NN'), (':', ':'), ('A', 'DT'), ('survey', 'NN')], [('2d', 'CD'), ('human', 'JJ'), ('pose', 'JJ'), ('estimation', 'NN'), (':', ':'), ('New', 'NNP'), ('benchmark', 'NN'), ('and', 'CC'), ('state', 'NN'), ('of', 'IN'), ('the', 'DT'), ('art', 'NN'), ('analysis', 'NN')], [('Articulated', 'VBN'), ('pose', 'JJ'), ('estimation', 'NN'), ('with', 'IN'), ('flexible', 'JJ'), ('mixtures-of-parts', 'NNS')], [('OpenPose', 'NN'), (':', ':'), ('realtime', 'JJ'), ('multi-person', 'JJ'), ('2D', 'CD'), ('pose', 'JJ'), ('estimation', 'NN'), ('using', 'VBG'), ('Part', 'NNP'), ('Affinity', 'NNP'), ('Fields', 'NNP')], [('Fast', 'NNP'), ('pose', 'JJ'), ('estimation', 'NN'), ('with', 'IN'), ('parameter-sensitive', 'JJ'), ('hashing', 'NN')], [('Fast', 'NNP'), ('and', 'CC'), ('globally', 'RB'), ('convergent', 'JJ'), ('pose', 'JJ'), ('estimation', 'NN'), ('from', 'IN'), ('video', 'NN'), ('images', 'NNS')], [('Vision-based', 'JJ'), ('hand', 'NN'), ('pose', 'JJ'), ('estimation', 'NN'), (':', ':'), ('A', 'DT'), ('review', 'NN')], [('Pose', 'JJ'), ('estimation', 'NN'), ('from', 'IN'), ('corresponding', 'VBG'), ('point', 'NN'), ('data', 'NNS')], [('Progressive', 'NNP'), ('search', 'NN'), ('space', 'NN'), ('reduction', 'NN'), ('for', 'IN'), ('human', 'JJ'), ('pose', 'JJ'), ('estimation', 'NN')], [('Deep', 'JJ'), ('high-resolution', 'NN'), ('representation', 'NN'), ('learning', 'VBG'), ('for', 'IN'), ('human', 'JJ'), ('pose', 'JJ'), ('estimation', 'NN')], [('Review', 'NNP'), ('and', 'CC'), ('analysis', 'NN'), ('of', 'IN'), ('solutions', 'NNS'), ('of', 'IN'), ('the', 'DT'), ('three', 'CD'), ('point', 'NN'), ('perspective', 'NN'), ('pose', 'JJ'), ('estimation', 'NN'), ('problem', 'NN')], [('Deepercut', 'NN'), (':', ':'), ('A', 'DT'), ('deeper', 'NN'), (',', ','), ('stronger', 'JJR'), (',', ','), ('and', 'CC'), ('faster', 'RBR'), ('multi-person', 'JJ'), ('pose', 'JJ'), ('estimation', 'NN'), ('model', 'NN')], [('[', 'JJ'), ('PDF', 'NNP'), (']', 'NNP'), ('[', 'NNP'), ('PDF', 'NNP'), (']', 'NNP'), ('Clustered', 'NNP'), ('Pose', 'NNP'), ('and', 'CC'), ('Nonlinear', 'NNP'), ('Appearance', 'NNP'), ('Models', 'NNP'), ('for', 'IN'), ('Human', 'NNP'), ('Pose', 'NNP'), ('Estimation', 'NNP'), ('.', '.')], [('Rmpe', 'NN'), (':', ':'), ('Regional', 'JJ'), ('multi-person', 'NN'), ('pose', 'NN'), ('estimation', 'NN')], [('Efficient', 'JJ'), ('human', 'JJ'), ('pose', 'JJ'), ('estimation', 'NN'), ('from', 'IN'), ('single', 'JJ'), ('depth', 'NN'), ('images', 'NNS')], [('Monocular', 'JJ'), ('3d', 'CD'), ('pose', 'JJ'), ('estimation', 'NN'), ('and', 'CC'), ('tracking', 'NN'), ('by', 'IN'), ('detection', 'NN')]]\n"
     ]
    }
   ],
   "source": [
    "sentences_tag = []\n",
    "\n",
    "for sentence in top_title:\n",
    "    word_tag = pos_tag(word_tokenize(sentence))\n",
    "    sentences_tag.append(word_tag)\n",
    "\n",
    "print(sentences_tag)"
   ]
  },
  {
   "cell_type": "markdown",
   "metadata": {},
   "source": [
    "#### 명사 추출"
   ]
  },
  {
   "cell_type": "code",
   "execution_count": 24,
   "metadata": {
    "jupyter": {
     "outputs_hidden": true
    }
   },
   "outputs": [
    {
     "name": "stdout",
     "output_type": "stream",
     "text": [
      "['Realtime', 'part', 'affinity', 'fields', 'hourglass', 'networks', 'Face', 'detection', 'localization', 'wild', 'Deeppose', 'Human', 'networks', 'Head', 'computer', 'vision', 'survey', 'New', 'benchmark', 'state', 'art', 'analysis', 'mixtures-of-parts', 'OpenPose', 'Part', 'Affinity', 'Fields', 'Fast', 'hashing', 'Fast', 'video', 'images', 'hand', 'review', 'point', 'data', 'Progressive', 'search', 'space', 'reduction', 'high-resolution', 'representation', 'Review', 'analysis', 'solutions', 'point', 'perspective', 'problem', 'Deepercut', 'deeper', 'model', ']', '[', ']', 'Clustered', 'Nonlinear', 'Appearance', 'Models', 'Human', 'Rmpe', 'multi-person', 'depth', 'images', 'tracking', 'detection']\n"
     ]
    }
   ],
   "source": [
    "# 형태소 분석 후 명사만 추출\n",
    "\n",
    "noun_list = []\n",
    "\n",
    "stopwords = [\"PDF\", \"pose\", \"estimation\", \"Pose\", \"Estimation\"]     # pose estimation 자체 단어와 PDF 단어는 제외\n",
    "\n",
    "for sentence in sentences_tag:\n",
    "    for word, tag in sentence:\n",
    "        if tag in ['NN', 'NNS', 'NNP', 'NNPS'] and word not in stopwords:             # okt = Okt() 인 경우  if tag in ['Noun']:\n",
    "            noun_list.append(word)\n",
    "            \n",
    "print(noun_list)\n"
   ]
  },
  {
   "cell_type": "markdown",
   "metadata": {},
   "source": [
    "##### 두음절 이상 단어만 추출"
   ]
  },
  {
   "cell_type": "code",
   "execution_count": 25,
   "metadata": {},
   "outputs": [
    {
     "name": "stdout",
     "output_type": "stream",
     "text": [
      "▶ 전체 명사의 수 =  65\n",
      "\n",
      "▶ 두음절 이상의 명사의 수 =  62\n",
      "\n",
      "['Realtime', 'part', 'affinity', 'fields', 'hourglass', 'networks', 'Face', 'detection', 'localization', 'wild', 'Deeppose', 'Human', 'networks', 'Head', 'computer', 'vision', 'survey', 'New', 'benchmark', 'state', 'art', 'analysis', 'mixtures-of-parts', 'OpenPose', 'Part', 'Affinity', 'Fields', 'Fast', 'hashing', 'Fast', 'video', 'images', 'hand', 'review', 'point', 'data', 'Progressive', 'search', 'space', 'reduction', 'high-resolution', 'representation', 'Review', 'analysis', 'solutions', 'point', 'perspective', 'problem', 'Deepercut', 'deeper', 'model', 'Clustered', 'Nonlinear', 'Appearance', 'Models', 'Human', 'Rmpe', 'multi-person', 'depth', 'images', 'tracking', 'detection']\n"
     ]
    }
   ],
   "source": [
    "print('▶ 전체 명사의 수 = ', len(noun_list))\n",
    "print() \n",
    "noun_list = [word for word in noun_list if len(word) > 1]    # 명사중에서 두음절 이상의 단어  추출\n",
    "\n",
    "print('▶ 두음절 이상의 명사의 수 = ', len(noun_list))\n",
    "print() \n",
    "print(noun_list[:100])   # 처음부터 나오는 순서대로 100개 단어 출력 "
   ]
  },
  {
   "cell_type": "markdown",
   "metadata": {},
   "source": [
    "##### 추출된 단어들의 출현 횟수를 확인"
   ]
  },
  {
   "cell_type": "code",
   "execution_count": 26,
   "metadata": {},
   "outputs": [
    {
     "name": "stdout",
     "output_type": "stream",
     "text": [
      "[('networks', 2), ('detection', 2), ('Human', 2), ('analysis', 2), ('Fast', 2), ('images', 2), ('point', 2), ('Realtime', 1), ('part', 1), ('affinity', 1), ('fields', 1), ('hourglass', 1), ('Face', 1), ('localization', 1), ('wild', 1), ('Deeppose', 1), ('Head', 1), ('computer', 1), ('vision', 1), ('survey', 1), ('New', 1), ('benchmark', 1), ('state', 1), ('art', 1), ('mixtures-of-parts', 1), ('OpenPose', 1), ('Part', 1), ('Affinity', 1), ('Fields', 1), ('hashing', 1), ('video', 1), ('hand', 1), ('review', 1), ('data', 1), ('Progressive', 1), ('search', 1), ('space', 1), ('reduction', 1), ('high-resolution', 1), ('representation', 1), ('Review', 1), ('solutions', 1), ('perspective', 1), ('problem', 1), ('Deepercut', 1), ('deeper', 1), ('model', 1), ('Clustered', 1), ('Nonlinear', 1), ('Appearance', 1)]\n"
     ]
    }
   ],
   "source": [
    "counts = Counter(noun_list)\n",
    "words = counts.most_common(50)     # 가장 많이 출현한 횟수 순으로 50개 단어만 추출 한 후 word clouding  \n",
    "print(words)\n"
   ]
  },
  {
   "cell_type": "markdown",
   "metadata": {},
   "source": [
    "##### 단어 출현 횟수에 근거하여 word cloud 를 생성"
   ]
  },
  {
   "cell_type": "code",
   "execution_count": 27,
   "metadata": {},
   "outputs": [
    {
     "name": "stdout",
     "output_type": "stream",
     "text": [
      "{'networks': 2, 'detection': 2, 'Human': 2, 'analysis': 2, 'Fast': 2, 'images': 2, 'point': 2, 'Realtime': 1, 'part': 1, 'affinity': 1, 'fields': 1, 'hourglass': 1, 'Face': 1, 'localization': 1, 'wild': 1, 'Deeppose': 1, 'Head': 1, 'computer': 1, 'vision': 1, 'survey': 1, 'New': 1, 'benchmark': 1, 'state': 1, 'art': 1, 'mixtures-of-parts': 1, 'OpenPose': 1, 'Part': 1, 'Affinity': 1, 'Fields': 1, 'hashing': 1, 'video': 1, 'hand': 1, 'review': 1, 'data': 1, 'Progressive': 1, 'search': 1, 'space': 1, 'reduction': 1, 'high-resolution': 1, 'representation': 1, 'Review': 1, 'solutions': 1, 'perspective': 1, 'problem': 1, 'Deepercut': 1, 'deeper': 1, 'model': 1, 'Clustered': 1, 'Nonlinear': 1, 'Appearance': 1}\n"
     ]
    },
    {
     "data": {
      "image/png": "[encoded data removed]",
      "text/plain": [
       "<Figure size 720x576 with 1 Axes>"
      ]
     },
     "metadata": {
      "needs_background": "light"
     },
     "output_type": "display_data"
    }
   ],
   "source": [
    "cloud_img = plt.imread('ai2.jpg') \n",
    "wordcloud = WordCloud(font_path='C:/Windows/Fonts/malgun.ttf',\n",
    "                      colormap = 'Accent_r',\n",
    "                      width=800,\n",
    "                      height=600,\n",
    "                     mask=cloud_img)\n",
    "\n",
    "print(dict(words))\n",
    "cloud = wordcloud.generate_from_frequencies(dict(words))\n",
    "plt.figure(figsize=(10, 8))\n",
    "plt.axis('off')   \n",
    "plt.imshow(cloud)\n",
    "plt.show()"
   ]
  },
  {
   "cell_type": "markdown",
   "metadata": {},
   "source": [
    "### ▶ 결과  [pose estimation 검색 결과 전반적인 keyword 값]\n",
    "#### : Human, detection, networks, fast, analysis, localization face, point, hourglass\n",
    "##### 가장 인용이 많이 된 논문들의 keyword <DeepPose, Realtime, affinity, face detection, localization, networks> 와 비슷하지만 살짝 다른 양상\n",
    "\n",
    "- 인용이 많이 된 논문들의 keyword 들은 전반적으로 최신 알고리즘이나 조금 더 trendy 한 keyword 를 가지고 있고, 전체 keyword 출현 횟수로 분석한 keyword 는 비교적 전문적인 용어보다 일반적인 단어들이 더 많이 나왔다.\n",
    "- 최신의 trendy 한 keyword 를 분석하기 위해서는 전체적인 키워드 분석보다는 인용이 많이 된 논문들을 선별해 keyword 분석을 하는 것이 더 효과적이다."
   ]
  },
  {
   "cell_type": "code",
   "execution_count": null,
   "metadata": {},
   "outputs": [],
   "source": []
  },
  {
   "cell_type": "code",
   "execution_count": null,
   "metadata": {},
   "outputs": [],
   "source": []
  }
 ],
 "metadata": {
  "kernelspec": {
   "display_name": "Python 3",
   "language": "python",
   "name": "python3"
  },
  "language_info": {
   "codemirror_mode": {
    "name": "ipython",
    "version": 3
   },
   "file_extension": ".py",
   "mimetype": "text/x-python",
   "name": "python",
   "nbconvert_exporter": "python",
   "pygments_lexer": "ipython3",
   "version": "3.7.4"
  }
 },
 "nbformat": 4,
 "nbformat_minor": 4
}
