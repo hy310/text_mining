{
 "cells": [
  {
   "cell_type": "markdown",
   "metadata": {},
   "source": [
    "# 03.05 (01) Python 이해(1)\n",
    "\n",
    "##### 휴먼기계바이오공학부\n",
    "##### 1770088 이해영"
   ]
  },
  {
   "cell_type": "code",
   "execution_count": 2,
   "metadata": {
    "scrolled": true
   },
   "outputs": [
    {
     "name": "stdout",
     "output_type": "stream",
     "text": [
      "Python 3.7.4\n"
     ]
    }
   ],
   "source": [
    "!python --version"
   ]
  },
  {
   "cell_type": "markdown",
   "metadata": {},
   "source": [
    "\n",
    "   - 영문자(대, 소문자 구분), 숫자, 언더바(_) 를 사용할 수 있음\n",
    "   - 첫 자리에는 숫자를 사용할 수 없음\n",
    "   - 파이썬 키워드는 변수명으로 사용 불가"
   ]
  },
  {
   "cell_type": "markdown",
   "metadata": {},
   "source": [
    "### 1. Data Type : 숫자형 "
   ]
  },
  {
   "cell_type": "code",
   "execution_count": 3,
   "metadata": {},
   "outputs": [],
   "source": [
    "a = 123\n",
    "b = -178\n",
    "c = 0\n",
    "\n",
    "d = 1.2\n",
    "e = -3.45\n",
    "\n",
    "f = 4.24E10       # e와 E 둘 중 어느 것을 사용해도 무방 \n",
    "g = 4.24e-10\n"
   ]
  },
  {
   "cell_type": "code",
   "execution_count": 4,
   "metadata": {},
   "outputs": [
    {
     "name": "stdout",
     "output_type": "stream",
     "text": [
      "a-d =  121.8  a*b =  -21894   b/e =  51.59420289855072\n"
     ]
    }
   ],
   "source": [
    "print(\"a-d = \", a-d, \" a*b = \", a*b, \"  b/e = \", b/e)"
   ]
  },
  {
   "cell_type": "markdown",
   "metadata": {},
   "source": [
    "###  2. x의 y제곱을 나타내는 ** 연산자 "
   ]
  },
  {
   "cell_type": "code",
   "execution_count": 5,
   "metadata": {},
   "outputs": [
    {
     "name": "stdout",
     "output_type": "stream",
     "text": [
      "81\n"
     ]
    }
   ],
   "source": [
    "a = 3\n",
    "b = 4\n",
    "c = a ** b\n",
    "\n",
    "print(c)"
   ]
  },
  {
   "cell_type": "markdown",
   "metadata": {},
   "source": [
    "### 3. 나눗셈 후 몫을 반환하는 // 연산자"
   ]
  },
  {
   "cell_type": "code",
   "execution_count": 6,
   "metadata": {},
   "outputs": [
    {
     "name": "stdout",
     "output_type": "stream",
     "text": [
      "1.75\n",
      "\n",
      "\n",
      "1\n"
     ]
    }
   ],
   "source": [
    "d = 7 / 4\n",
    "\n",
    "d2 = 7 // 4\n",
    "\n",
    "print(d)\n",
    "print(\"\\n\")\n",
    "print(d2)"
   ]
  },
  {
   "cell_type": "markdown",
   "metadata": {},
   "source": [
    "### 4.나눗셈 후 나머지를 반환하는 % 연산자"
   ]
  },
  {
   "cell_type": "code",
   "execution_count": 7,
   "metadata": {},
   "outputs": [
    {
     "name": "stdout",
     "output_type": "stream",
     "text": [
      "1\n",
      "\n",
      "\n",
      "3\n"
     ]
    }
   ],
   "source": [
    "k = 7 % 3\n",
    "\n",
    "k2 = 3 % 7\n",
    "\n",
    "print(k)\n",
    "print(\"\\n\")\n",
    "print(k2)"
   ]
  },
  {
   "cell_type": "markdown",
   "metadata": {},
   "source": [
    "### 5. Data Type : 문자열 & 관련 함수들"
   ]
  },
  {
   "cell_type": "code",
   "execution_count": 8,
   "metadata": {},
   "outputs": [
    {
     "name": "stdout",
     "output_type": "stream",
     "text": [
      "Python is fun!\n"
     ]
    }
   ],
   "source": [
    "head = \"Python\"\n",
    "tail = \" is fun!\"\n",
    "\n",
    "print(head+tail)"
   ]
  },
  {
   "cell_type": "code",
   "execution_count": 9,
   "metadata": {},
   "outputs": [
    {
     "name": "stdout",
     "output_type": "stream",
     "text": [
      "==================================================\n",
      "Python Program\n",
      "==================================================\n"
     ]
    }
   ],
   "source": [
    "print(\"=\" * 50)\n",
    "print(\"Python Program\")\n",
    "print(\"=\" * 50)"
   ]
  },
  {
   "cell_type": "code",
   "execution_count": 10,
   "metadata": {},
   "outputs": [
    {
     "data": {
      "text/plain": [
       "17"
      ]
     },
     "execution_count": 10,
     "metadata": {},
     "output_type": "execute_result"
    }
   ],
   "source": [
    "a = \"Life is too short\"\n",
    "\n",
    "len(a)"
   ]
  },
  {
   "cell_type": "markdown",
   "metadata": {},
   "source": [
    "##### 문자열 indexing"
   ]
  },
  {
   "cell_type": "code",
   "execution_count": 11,
   "metadata": {},
   "outputs": [
    {
     "name": "stdout",
     "output_type": "stream",
     "text": [
      "L s n\n",
      "Life\n"
     ]
    }
   ],
   "source": [
    "a = \"Life is too short, you need Python\"\n",
    "print(a[0], a[12], a[-1])\n",
    "b = a[0] + a[1] + a[2] + a[3]\n",
    "print(b)"
   ]
  },
  {
   "cell_type": "code",
   "execution_count": 12,
   "metadata": {},
   "outputs": [
    {
     "name": "stdout",
     "output_type": "stream",
     "text": [
      "2\n"
     ]
    }
   ],
   "source": [
    "a = \"hobby\"\n",
    "print(a.count('b'))   # \"b\" 의 갯수를 출력"
   ]
  },
  {
   "cell_type": "code",
   "execution_count": 13,
   "metadata": {},
   "outputs": [
    {
     "name": "stdout",
     "output_type": "stream",
     "text": [
      "14\n",
      "-1\n",
      "2\n"
     ]
    },
    {
     "ename": "ValueError",
     "evalue": "substring not found",
     "output_type": "error",
     "traceback": [
      "\u001b[1;31m---------------------------------------------------------------------------\u001b[0m",
      "\u001b[1;31mValueError\u001b[0m                                Traceback (most recent call last)",
      "\u001b[1;32m<ipython-input-13-cc9a488c17e4>\u001b[0m in \u001b[0;36m<module>\u001b[1;34m\u001b[0m\n\u001b[0;32m      4\u001b[0m \u001b[0mprint\u001b[0m\u001b[1;33m(\u001b[0m\u001b[0ma\u001b[0m\u001b[1;33m.\u001b[0m\u001b[0mfind\u001b[0m\u001b[1;33m(\u001b[0m\u001b[1;34m'k'\u001b[0m\u001b[1;33m)\u001b[0m\u001b[1;33m)\u001b[0m      \u001b[1;31m# 없으면 -1 를 return\u001b[0m\u001b[1;33m\u001b[0m\u001b[1;33m\u001b[0m\u001b[0m\n\u001b[0;32m      5\u001b[0m \u001b[0mprint\u001b[0m\u001b[1;33m(\u001b[0m\u001b[0ma\u001b[0m\u001b[1;33m.\u001b[0m\u001b[0mindex\u001b[0m\u001b[1;33m(\u001b[0m\u001b[1;34m't'\u001b[0m\u001b[1;33m)\u001b[0m\u001b[1;33m)\u001b[0m\u001b[1;33m\u001b[0m\u001b[1;33m\u001b[0m\u001b[0m\n\u001b[1;32m----> 6\u001b[1;33m \u001b[0mprint\u001b[0m\u001b[1;33m(\u001b[0m\u001b[0ma\u001b[0m\u001b[1;33m.\u001b[0m\u001b[0mindex\u001b[0m\u001b[1;33m(\u001b[0m\u001b[1;34m'k'\u001b[0m\u001b[1;33m)\u001b[0m\u001b[1;33m)\u001b[0m     \u001b[1;31m# 없으면 에러를 출력\u001b[0m\u001b[1;33m\u001b[0m\u001b[1;33m\u001b[0m\u001b[0m\n\u001b[0m",
      "\u001b[1;31mValueError\u001b[0m: substring not found"
     ]
    }
   ],
   "source": [
    "a = \"Python is the best choice\"\n",
    "\n",
    "print(a.find('b'))      # find 아주 많이 사용\n",
    "print(a.find('k'))      # 없으면 -1 를 return\n",
    "print(a.index('t'))\n",
    "print(a.index('k'))     # 없으면 에러를 출력"
   ]
  },
  {
   "cell_type": "code",
   "execution_count": 14,
   "metadata": {},
   "outputs": [
    {
     "name": "stdout",
     "output_type": "stream",
     "text": [
      "a.b.c.d\n",
      "a*a*b*b\n",
      "HELLO\n",
      "world\n"
     ]
    }
   ],
   "source": [
    "# 문자열 삽입 (join)\n",
    "\n",
    "x = \".\".join('abcd')\n",
    "y = \"*\".join('aabb')\n",
    "\n",
    "print(x)\n",
    "print(y)\n",
    "\n",
    "# 소문자를 대문자로 바꾸기(upper)    대문자를 소문자로 바꾸기(lower)\n",
    "a = \"hello\"\n",
    "b = \"WORLD\"\n",
    "\n",
    "print(a.upper())\n",
    "print(b.lower())"
   ]
  },
  {
   "cell_type": "code",
   "execution_count": 15,
   "metadata": {},
   "outputs": [
    {
     "name": "stdout",
     "output_type": "stream",
     "text": [
      "Your leg is too short\n"
     ]
    }
   ],
   "source": [
    "# 문자열 바꾸기 (replace)\n",
    "\n",
    "a = \"Life is too short\"\n",
    "a2 = a.replace(\"Life\", \"Your leg\")\n",
    "\n",
    "print(a2)"
   ]
  },
  {
   "cell_type": "code",
   "execution_count": 16,
   "metadata": {},
   "outputs": [
    {
     "name": "stdout",
     "output_type": "stream",
     "text": [
      "['Life', 'is', 'too', 'short']\n",
      "['a', 'b', 'c', 'd']\n"
     ]
    },
    {
     "data": {
      "text/plain": [
       "list"
      ]
     },
     "execution_count": 16,
     "metadata": {},
     "output_type": "execute_result"
    }
   ],
   "source": [
    "# 문자열 나누기 (split)   (엄청 많이 사용)\n",
    "\n",
    "b = \"Life-is-too-short\"\n",
    "b2 = b.split(\"-\")\n",
    "\n",
    "print(b2)\n",
    "\n",
    "c = \"a:b:c:d\"\n",
    "c2 = c.split(\":\")\n",
    "\n",
    "print(c2)\n",
    "type(c2)\n",
    "\n",
    "## split 은 list 로 반환된다!!! <중요>"
   ]
  },
  {
   "cell_type": "markdown",
   "metadata": {},
   "source": [
    "### 6. Data Type : List\n",
    "#### - 순서가 있는 수정가능한 원소의 집합 (수정, 삭제, 추가가 가능)\n",
    "\n",
    "#### - List 는 [ ] 대괄호로 작성되어지며, 내부 원소는 , 로 구분\n",
    "\n",
    "#### - Index 는 0 부터 시작하며 마지막 원소는 n-1로 접근"
   ]
  },
  {
   "cell_type": "code",
   "execution_count": 17,
   "metadata": {},
   "outputs": [],
   "source": [
    "a = [10, 20, 30, 40, 50]"
   ]
  },
  {
   "cell_type": "code",
   "execution_count": 18,
   "metadata": {},
   "outputs": [
    {
     "name": "stdout",
     "output_type": "stream",
     "text": [
      "a[0] =  10  a[1] =  20  a[4] =  50\n",
      "\n",
      "\n",
      "a[-1] =  50  a[-2] =  40  a[-5] =  10\n"
     ]
    }
   ],
   "source": [
    "print(\"a[0] = \", a[0], \" a[1] = \", a[1], \" a[4] = \", a[4])\n",
    "print(\"\\n\")\n",
    "print(\"a[-1] = \", a[-1], \" a[-2] = \", a[-2], \" a[-5] = \", a[-5])"
   ]
  },
  {
   "cell_type": "code",
   "execution_count": 19,
   "metadata": {},
   "outputs": [],
   "source": [
    "# 여러가지 data 타입이 함께 list 에 포함 가능\n",
    "b = [10, 20, \"Hello\", \"World\", [True, 3.14]]"
   ]
  },
  {
   "cell_type": "code",
   "execution_count": 20,
   "metadata": {},
   "outputs": [
    {
     "name": "stdout",
     "output_type": "stream",
     "text": [
      "b[2] =  Hello  b[3] =  World  b[4] =  [True, 3.14]\n",
      "\n",
      "\n",
      "b[-1][-1] =  3.14  b[-1]b[-2] =  True\n"
     ]
    }
   ],
   "source": [
    "print(\"b[2] = \", b[2], \" b[3] = \", b[3], \" b[4] = \", b[4])\n",
    "print(\"\\n\")\n",
    "print(\"b[-1][-1] = \", b[-1][-1], \" b[-1]b[-2] = \", b[-1][-2])"
   ]
  },
  {
   "cell_type": "markdown",
   "metadata": {},
   "source": [
    "#### List를 만든 후 data 를 추가(마지막 원소 뒤에 추가됨)"
   ]
  },
  {
   "cell_type": "code",
   "execution_count": 21,
   "metadata": {},
   "outputs": [
    {
     "name": "stdout",
     "output_type": "stream",
     "text": [
      "[100, 200, 'Hello']\n"
     ]
    }
   ],
   "source": [
    "c = []\n",
    "c.append(100) , c.append(200), c.append(\"Hello\")\n",
    "print(c)"
   ]
  },
  {
   "cell_type": "markdown",
   "metadata": {},
   "source": [
    "#### List 에서 원소 제거 방법"
   ]
  },
  {
   "cell_type": "code",
   "execution_count": 22,
   "metadata": {},
   "outputs": [
    {
     "name": "stdout",
     "output_type": "stream",
     "text": [
      "[100, 'Hello']\n"
     ]
    }
   ],
   "source": [
    "del c[1]    # index 1 의 원소를 제거\n",
    "print(c)"
   ]
  },
  {
   "cell_type": "code",
   "execution_count": 23,
   "metadata": {},
   "outputs": [
    {
     "name": "stdout",
     "output_type": "stream",
     "text": [
      "['Hello']\n"
     ]
    }
   ],
   "source": [
    "c.remove(100)   # list 내에서 100 이라는 원소를 제거\n",
    "                # 인덱스가 아니라 내용물을 제거\n",
    "print(c)"
   ]
  },
  {
   "cell_type": "markdown",
   "metadata": {},
   "source": [
    "## 중요 : List 에서 구간 선택하기\n",
    "\n",
    "- 리스트[처음인덱스 : 마지막인덱스]\n",
    "- [0:2] : 인덱스 0부터 2-1까지\n",
    "- [1:] : 인덱스 1부터 끝까지\n",
    "- [:3] : 인덱스 처음부터 3-1까지\n",
    "- [:] : 인덱스 처음부터 끝까지\n",
    "- [:-2] : 인덱스 처음부터 -2-1 까지"
   ]
  },
  {
   "cell_type": "code",
   "execution_count": 24,
   "metadata": {},
   "outputs": [
    {
     "name": "stdout",
     "output_type": "stream",
     "text": [
      "a[0:2] =  [10, 20]   a[1:] =  [20, 30, 40, 50]\n",
      "\n",
      "\n",
      "a[:3] =  [10, 20, 30]   a[:-2] =  [10, 20, 30]\n",
      "\n",
      "\n",
      "a[:] =  [10, 20, 30, 40, 50]\n"
     ]
    }
   ],
   "source": [
    "a = [10, 20, 30, 40, 50]\n",
    "print(\"a[0:2] = \", a[0:2], \"  a[1:] = \", a[1:])\n",
    "print(\"\\n\")\n",
    "print(\"a[:3] = \", a[:3], \"  a[:-2] = \", a[:-2])\n",
    "print(\"\\n\")\n",
    "print(\"a[:] = \", a[:])"
   ]
  },
  {
   "cell_type": "markdown",
   "metadata": {},
   "source": [
    "#### List-List 간 merge"
   ]
  },
  {
   "cell_type": "code",
   "execution_count": 26,
   "metadata": {},
   "outputs": [
    {
     "name": "stdout",
     "output_type": "stream",
     "text": [
      "[2, 4, 6, 3, 5, 7]\n"
     ]
    }
   ],
   "source": [
    "m = [2,4,6]\n",
    "n = [3,5,7]\n",
    "k = m+n\n",
    "print(k)"
   ]
  },
  {
   "cell_type": "markdown",
   "metadata": {},
   "source": [
    "#### List 를 반복하는 경우"
   ]
  },
  {
   "cell_type": "code",
   "execution_count": 27,
   "metadata": {},
   "outputs": [
    {
     "name": "stdout",
     "output_type": "stream",
     "text": [
      "[2, 4, 6, 2, 4, 6, 2, 4, 6]\n"
     ]
    }
   ],
   "source": [
    "m3 = m*3\n",
    "print(m3)"
   ]
  },
  {
   "cell_type": "code",
   "execution_count": 28,
   "metadata": {},
   "outputs": [
    {
     "ename": "TypeError",
     "evalue": "can't multiply sequence by non-int of type 'list'",
     "output_type": "error",
     "traceback": [
      "\u001b[1;31m---------------------------------------------------------------------------\u001b[0m",
      "\u001b[1;31mTypeError\u001b[0m                                 Traceback (most recent call last)",
      "\u001b[1;32m<ipython-input-28-6f76aecdf9fa>\u001b[0m in \u001b[0;36m<module>\u001b[1;34m\u001b[0m\n\u001b[1;32m----> 1\u001b[1;33m \u001b[0mprint\u001b[0m\u001b[1;33m(\u001b[0m\u001b[0mm\u001b[0m\u001b[1;33m*\u001b[0m\u001b[0mn\u001b[0m\u001b[1;33m)\u001b[0m\u001b[1;33m\u001b[0m\u001b[1;33m\u001b[0m\u001b[0m\n\u001b[0m",
      "\u001b[1;31mTypeError\u001b[0m: can't multiply sequence by non-int of type 'list'"
     ]
    }
   ],
   "source": [
    "print(m*n) # 리스트 안 각 곱셈은 안됨"
   ]
  },
  {
   "cell_type": "markdown",
   "metadata": {},
   "source": [
    "#### 원소 수정 & List 길이 구하기"
   ]
  },
  {
   "cell_type": "code",
   "execution_count": 29,
   "metadata": {},
   "outputs": [
    {
     "name": "stdout",
     "output_type": "stream",
     "text": [
      "수정 전 리스트 :  [10, 20, 30, 40, 50]\n",
      "수정 후 리스트 :  [10, 20, 700, 40, 50]\n"
     ]
    }
   ],
   "source": [
    "a = [10, 20, 30, 40, 50]\n",
    "print(\"수정 전 리스트 : \", a)\n",
    "a[2] = 700\n",
    "print(\"수정 후 리스트 : \", a)"
   ]
  },
  {
   "cell_type": "code",
   "execution_count": 30,
   "metadata": {},
   "outputs": [
    {
     "name": "stdout",
     "output_type": "stream",
     "text": [
      "5\n"
     ]
    }
   ],
   "source": [
    "print(len(a))"
   ]
  },
  {
   "cell_type": "markdown",
   "metadata": {},
   "source": [
    "#### list-sort() 함수\n",
    "\n",
    "#### - 숫자열과 문자열이 섞여 있는 경우에는 에러가 발생"
   ]
  },
  {
   "cell_type": "code",
   "execution_count": 31,
   "metadata": {},
   "outputs": [
    {
     "name": "stdout",
     "output_type": "stream",
     "text": [
      "[10, 20, 30, 40, 50]\n",
      "\n",
      "\n",
      "['a', 'c', 'f', 'm', 'z']\n"
     ]
    }
   ],
   "source": [
    "d = [50, 40, 20, 30, 10]    # 모두 숫자열인 경우\n",
    "\n",
    "d2 = [\"z\", \"c\", \"a\", \"f\", \"m\"]     # 모두 문자열인 경우\n",
    "\n",
    "d.sort(), d2.sort()\n",
    "\n",
    "print(d)\n",
    "print(\"\\n\")\n",
    "print(d2)"
   ]
  },
  {
   "cell_type": "code",
   "execution_count": 32,
   "metadata": {},
   "outputs": [
    {
     "ename": "TypeError",
     "evalue": "'<' not supported between instances of 'str' and 'int'",
     "output_type": "error",
     "traceback": [
      "\u001b[1;31m---------------------------------------------------------------------------\u001b[0m",
      "\u001b[1;31mTypeError\u001b[0m                                 Traceback (most recent call last)",
      "\u001b[1;32m<ipython-input-32-c2546dbb8d34>\u001b[0m in \u001b[0;36m<module>\u001b[1;34m\u001b[0m\n\u001b[0;32m      2\u001b[0m \u001b[1;31m# 하나의 리스트 안에 숫자와 문자가 섞여 있는 경우 - 에러가 발생\u001b[0m\u001b[1;33m\u001b[0m\u001b[1;33m\u001b[0m\u001b[1;33m\u001b[0m\u001b[0m\n\u001b[0;32m      3\u001b[0m \u001b[0md3\u001b[0m \u001b[1;33m=\u001b[0m \u001b[1;33m[\u001b[0m\u001b[1;36m50\u001b[0m\u001b[1;33m,\u001b[0m\u001b[1;36m40\u001b[0m\u001b[1;33m,\u001b[0m\u001b[1;36m20\u001b[0m\u001b[1;33m,\u001b[0m\u001b[1;36m10\u001b[0m\u001b[1;33m,\u001b[0m\u001b[1;36m30\u001b[0m\u001b[1;33m,\u001b[0m\u001b[1;34m'z'\u001b[0m\u001b[1;33m,\u001b[0m \u001b[1;34m'c'\u001b[0m\u001b[1;33m,\u001b[0m \u001b[1;34m'a'\u001b[0m\u001b[1;33m]\u001b[0m\u001b[1;33m\u001b[0m\u001b[1;33m\u001b[0m\u001b[0m\n\u001b[1;32m----> 4\u001b[1;33m \u001b[0md3\u001b[0m\u001b[1;33m.\u001b[0m\u001b[0msort\u001b[0m\u001b[1;33m(\u001b[0m\u001b[1;33m)\u001b[0m\u001b[1;33m\u001b[0m\u001b[1;33m\u001b[0m\u001b[0m\n\u001b[0m\u001b[0;32m      5\u001b[0m \u001b[0mprint\u001b[0m\u001b[1;33m(\u001b[0m\u001b[0md3\u001b[0m\u001b[1;33m)\u001b[0m\u001b[1;33m\u001b[0m\u001b[1;33m\u001b[0m\u001b[0m\n",
      "\u001b[1;31mTypeError\u001b[0m: '<' not supported between instances of 'str' and 'int'"
     ]
    }
   ],
   "source": [
    "# 숫자열, 문자열 섞여있을 때 == 안된다\n",
    "# 하나의 리스트 안에 숫자와 문자가 섞여 있는 경우 - 에러가 발생\n",
    "d3 = [50,40,20,10,30,'z', 'c', 'a']\n",
    "d3.sort()\n",
    "print(d3)"
   ]
  },
  {
   "cell_type": "markdown",
   "metadata": {},
   "source": [
    "### Data Type : Tuple"
   ]
  },
  {
   "cell_type": "markdown",
   "metadata": {},
   "source": [
    "- Tuple 은 () 로 정의\n",
    "- 일단 정의되면, Tuple 은 내용 수정, 삭제 불가\n",
    "- indexing 은 [ ] 사용"
   ]
  },
  {
   "cell_type": "code",
   "execution_count": 33,
   "metadata": {},
   "outputs": [
    {
     "name": "stdout",
     "output_type": "stream",
     "text": [
      "() (1,) 1 (1, 2, 3) (1, 2, 3) ('a', 'b', ('ab', 'cd'))\n"
     ]
    }
   ],
   "source": [
    "a1 = ()\n",
    "a2 = (1, )  \n",
    "a22 = (1)  # 뒤에 콤마 안붙였더니 튜플이 아닌 integer 로 인식\n",
    "a3 = (1, 2, 3)\n",
    "a4 = 1,2,3\n",
    "a5 = ('a', 'b', ('ab', 'cd'))\n",
    "print(a1, a2, a22, a3, a4, a5)"
   ]
  },
  {
   "cell_type": "code",
   "execution_count": 34,
   "metadata": {},
   "outputs": [
    {
     "ename": "TypeError",
     "evalue": "'tuple' object doesn't support item deletion",
     "output_type": "error",
     "traceback": [
      "\u001b[1;31m---------------------------------------------------------------------------\u001b[0m",
      "\u001b[1;31mTypeError\u001b[0m                                 Traceback (most recent call last)",
      "\u001b[1;32m<ipython-input-34-d3acdb0b5325>\u001b[0m in \u001b[0;36m<module>\u001b[1;34m\u001b[0m\n\u001b[0;32m      1\u001b[0m \u001b[0mb1\u001b[0m \u001b[1;33m=\u001b[0m \u001b[1;33m(\u001b[0m\u001b[1;36m1\u001b[0m\u001b[1;33m,\u001b[0m \u001b[1;36m2\u001b[0m\u001b[1;33m,\u001b[0m \u001b[1;34m'a'\u001b[0m\u001b[1;33m,\u001b[0m \u001b[1;34m'b'\u001b[0m\u001b[1;33m)\u001b[0m\u001b[1;33m\u001b[0m\u001b[1;33m\u001b[0m\u001b[0m\n\u001b[0;32m      2\u001b[0m \u001b[1;33m\u001b[0m\u001b[0m\n\u001b[1;32m----> 3\u001b[1;33m \u001b[1;32mdel\u001b[0m \u001b[0mb1\u001b[0m\u001b[1;33m[\u001b[0m\u001b[1;36m0\u001b[0m\u001b[1;33m]\u001b[0m   \u001b[1;31m# 튜플 값 삭제 불가\u001b[0m\u001b[1;33m\u001b[0m\u001b[1;33m\u001b[0m\u001b[0m\n\u001b[0m",
      "\u001b[1;31mTypeError\u001b[0m: 'tuple' object doesn't support item deletion"
     ]
    }
   ],
   "source": [
    "b1 = (1, 2, 'a', 'b')\n",
    "\n",
    "del b1[0]   # 튜플 값 삭제 불가"
   ]
  },
  {
   "cell_type": "code",
   "execution_count": 35,
   "metadata": {},
   "outputs": [
    {
     "ename": "TypeError",
     "evalue": "'tuple' object does not support item assignment",
     "output_type": "error",
     "traceback": [
      "\u001b[1;31m---------------------------------------------------------------------------\u001b[0m",
      "\u001b[1;31mTypeError\u001b[0m                                 Traceback (most recent call last)",
      "\u001b[1;32m<ipython-input-35-cb97ba6fa4dc>\u001b[0m in \u001b[0;36m<module>\u001b[1;34m\u001b[0m\n\u001b[1;32m----> 1\u001b[1;33m \u001b[0mb1\u001b[0m\u001b[1;33m[\u001b[0m\u001b[1;36m0\u001b[0m\u001b[1;33m]\u001b[0m \u001b[1;33m=\u001b[0m \u001b[1;36m3\u001b[0m  \u001b[1;31m# 수정 불가\u001b[0m\u001b[1;33m\u001b[0m\u001b[1;33m\u001b[0m\u001b[0m\n\u001b[0m",
      "\u001b[1;31mTypeError\u001b[0m: 'tuple' object does not support item assignment"
     ]
    }
   ],
   "source": [
    "b1[0] = 3  # 수정 불가"
   ]
  },
  {
   "cell_type": "markdown",
   "metadata": {},
   "source": [
    "### 8.Data Type : Dictionary\n",
    "\n",
    "#### - Dictionary는 Key와 Value를 한 쌍으로 갖는 자료형 이며, “ { } “ 로 정의 \n",
    "#### - Indexing 대신 Key 를 사용하여 Value 값에 접근 (e.g. Dictionary이름[Key] )\n",
    "#### - 기본 구조: { Key1:Value1,  Key2:Value2,  Key3:Value3, .......}\n",
    "#### - 중복되는 Key 값을 설정하면 하나를 제외한 나머지 것들이 모두 무시됨\n",
    "#### - Key에 List type은 쓸 수 없음"
   ]
  },
  {
   "cell_type": "markdown",
   "metadata": {},
   "source": [
    "##### Dictionary 자료형 만들기"
   ]
  },
  {
   "cell_type": "code",
   "execution_count": 4,
   "metadata": {},
   "outputs": [
    {
     "name": "stdout",
     "output_type": "stream",
     "text": [
      "{'name': 'john', 'birth': '1212', 'phone': '01012345678'} {1: 'Hello'} {'a': [1, 2, 3]} {'b': (5, 6, 7)}\n"
     ]
    }
   ],
   "source": [
    "dic = {'name':'john',  'birth': '1212',   'phone':'01012345678' }   \n",
    "#  문자열에는 '' 와 \"\" 사용 가능 \n",
    "\n",
    "a = {1: \"Hello\"}    # Key로 정수 값을 사용한 예\n",
    "\n",
    "a1 = { 'a': [1,2,3] }   # Value에 리스트도 사용 가능\n",
    "\n",
    "a2 = { 'b': (5,6,7) }   # Value에 Tuple도 사용 가능\n",
    "\n",
    "print(dic, a, a1, a2)"
   ]
  },
  {
   "cell_type": "markdown",
   "metadata": {},
   "source": [
    "##### Dictionary 내 원소 추가하기"
   ]
  },
  {
   "cell_type": "code",
   "execution_count": 8,
   "metadata": {},
   "outputs": [
    {
     "name": "stdout",
     "output_type": "stream",
     "text": [
      "{1: 'a'}\n",
      "{1: 'a', 2: 'b', 'name': 'Luke', 3: [1, 2, 3]}\n"
     ]
    }
   ],
   "source": [
    "dic = { 1: 'a' }\n",
    "\n",
    "print(dic)\n",
    "\n",
    "dic[2] = 'b'        # Key와 Value가 각각 2와 'b'인 원소가 추가\n",
    "\n",
    "dic['name'] = 'Luke'      # Key 값이 name 이고, Value 값으로 Luke 를 추가\n",
    "\n",
    "dic[3] = [1, 2, 3]   # Key 값이 3 이고, Value 값으로 리스트 를 추가\n",
    "\n",
    "print(dic)\n"
   ]
  },
  {
   "cell_type": "markdown",
   "metadata": {},
   "source": [
    "##### Dictionary 내 원소 제거하기"
   ]
  },
  {
   "cell_type": "code",
   "execution_count": 9,
   "metadata": {},
   "outputs": [
    {
     "name": "stdout",
     "output_type": "stream",
     "text": [
      "{2: 'b', 3: [1, 2, 3]}\n"
     ]
    }
   ],
   "source": [
    "del dic['name']     # Key 값이 name 인 원소를 제거 할 때  \n",
    "\n",
    "del dic[1]          # Key 값이 1 인 원소를 제거\n",
    "\n",
    "print(dic)"
   ]
  },
  {
   "cell_type": "code",
   "execution_count": 10,
   "metadata": {},
   "outputs": [
    {
     "name": "stdout",
     "output_type": "stream",
     "text": [
      "{}\n"
     ]
    }
   ],
   "source": [
    "# Dictionary 안의 모든 원소를 삭제할 때\n",
    "\n",
    "dic.clear()    \n",
    "    \n",
    "print(dic)"
   ]
  },
  {
   "cell_type": "markdown",
   "metadata": {},
   "source": [
    "##### Dictionary  사용하는 방법"
   ]
  },
  {
   "cell_type": "code",
   "execution_count": 21,
   "metadata": {},
   "outputs": [
    {
     "name": "stdout",
     "output_type": "stream",
     "text": [
      "Luke\n",
      "Luke\n",
      "Key가 없네요\n"
     ]
    }
   ],
   "source": [
    "dic = { 1: 'a', 2: 'b', 'name': 'Luke', 3: [1, 2, 3] }\n",
    "\n",
    "# dic['nokey']는 Key 오류를 발생시키고 dic.get('nokey')는 None을 return\n",
    "\n",
    "print ( dic['name']  )\n",
    "\n",
    "print (  dic.get('name') )\n",
    "\n",
    "c = dic.get('nokey', 'Key가 없네요')  # get(찾고자 하는 key, default value)\n",
    "\n",
    "print(c)"
   ]
  },
  {
   "cell_type": "code",
   "execution_count": 22,
   "metadata": {},
   "outputs": [
    {
     "data": {
      "text/plain": [
       "dict_keys([1, 2, 'name', 3])"
      ]
     },
     "execution_count": 22,
     "metadata": {},
     "output_type": "execute_result"
    }
   ],
   "source": [
    "dic.keys()        #  Dictionary 내 key 값을 알고자 할 때"
   ]
  },
  {
   "cell_type": "code",
   "execution_count": 23,
   "metadata": {},
   "outputs": [
    {
     "data": {
      "text/plain": [
       "[1, 2, 'name', 3]"
      ]
     },
     "execution_count": 23,
     "metadata": {},
     "output_type": "execute_result"
    }
   ],
   "source": [
    "list(dic.keys())   #  Dictionary  key 값을 리스트로 변환하기"
   ]
  },
  {
   "cell_type": "code",
   "execution_count": 24,
   "metadata": {},
   "outputs": [
    {
     "data": {
      "text/plain": [
       "dict_values(['a', 'b', 'Luke', [1, 2, 3]])"
      ]
     },
     "execution_count": 24,
     "metadata": {},
     "output_type": "execute_result"
    }
   ],
   "source": [
    "dic.values()           #  Dictionary 내 value 값을 알고자 할 때"
   ]
  },
  {
   "cell_type": "code",
   "execution_count": 25,
   "metadata": {},
   "outputs": [
    {
     "data": {
      "text/plain": [
       "dict_items([(1, 'a'), (2, 'b'), ('name', 'Luke'), (3, [1, 2, 3])])"
      ]
     },
     "execution_count": 25,
     "metadata": {},
     "output_type": "execute_result"
    }
   ],
   "source": [
    "dic.items()        # Key, Value 의 값을 동시에 알고자 할 때 -Tuple 로 반환"
   ]
  },
  {
   "cell_type": "code",
   "execution_count": 26,
   "metadata": {},
   "outputs": [
    {
     "data": {
      "text/plain": [
       "True"
      ]
     },
     "execution_count": 26,
     "metadata": {},
     "output_type": "execute_result"
    }
   ],
   "source": [
    "#### 매우 중요!\n",
    "# 해당 Key가 Dictionary  안에 있는지 조사하기(in)\n",
    "# dictionary 의 in 은 key 에 한해서 동작\n",
    "\n",
    "'name' in dic"
   ]
  },
  {
   "cell_type": "code",
   "execution_count": 28,
   "metadata": {
    "scrolled": true
   },
   "outputs": [
    {
     "data": {
      "text/plain": [
       "False"
      ]
     },
     "execution_count": 28,
     "metadata": {},
     "output_type": "execute_result"
    }
   ],
   "source": [
    "'email' in dic"
   ]
  },
  {
   "cell_type": "code",
   "execution_count": 29,
   "metadata": {},
   "outputs": [
    {
     "data": {
      "text/plain": [
       "True"
      ]
     },
     "execution_count": 29,
     "metadata": {},
     "output_type": "execute_result"
    }
   ],
   "source": [
    "# 'A' not in B : dictionary B 에 Key A 가 없는지 확인\n",
    "\n",
    "'email' not in dic"
   ]
  },
  {
   "cell_type": "markdown",
   "metadata": {},
   "source": [
    "#### Dictionary 에서 Key 와 value 의 위치를 바꾸는 방법 /* 설명 only */\n",
    "##### (주의) value 값이 리스트일 경우 에러가 발생함"
   ]
  },
  {
   "cell_type": "code",
   "execution_count": 35,
   "metadata": {},
   "outputs": [
    {
     "name": "stdout",
     "output_type": "stream",
     "text": [
      "{'uno': 'one', 'dos': 'two', 'tres': 'three'}\n"
     ]
    }
   ],
   "source": [
    "### (이건 참고만)\n",
    "# Dictionary 의 Key 와 value 의 위치를 바꾸는 방법(1) - zip 함수 이용\n",
    "# zip 함수 : 동일한 개수로 이루어진 자료형을 묶어 주는 함수\n",
    "# (주의!!) value 값이 리스트인 경우 에러 발생\n",
    "\n",
    "eng2sp = {'one' : 'uno', 'two' : 'dos', 'three' : 'tres' }\n",
    "reverse_dic = dict(zip(eng2sp.values(), eng2sp.keys()))\n",
    "print(reverse_dic)"
   ]
  },
  {
   "cell_type": "code",
   "execution_count": 34,
   "metadata": {},
   "outputs": [
    {
     "name": "stdout",
     "output_type": "stream",
     "text": [
      "{'uno': 'one', 'dos': 'two', 'tres': 'three'}\n"
     ]
    }
   ],
   "source": [
    "### 매우 매우 굉장히 중요!! <map>!!!!!!\n",
    "\n",
    "# Dictionary 의 Key 와 value 의 위치를 바꾸는 방법(2) - map 함수 이용\n",
    "# map(function, data) 함수 : data 에 function 을 적용하는 함수 /* data 자료형은 리스트, 딕셔너리, 튜플 모두 가능\n",
    "\n",
    "eng2sp = {'one' : 'uno', 'two' : 'dos', 'three' : 'tres' }\n",
    "reverse_dic2 = dict(map(reversed, eng2sp.items()))\n",
    "print(reverse_dic2)"
   ]
  },
  {
   "cell_type": "markdown",
   "metadata": {},
   "source": [
    "## 9. If ~ Else 문\n",
    "\n",
    "### - If 와 else를 사용한 조건문의 기본 구조"
   ]
  },
  {
   "cell_type": "markdown",
   "metadata": {},
   "source": [
    "### - (주의 !!) 모든 문장에 들여쓰기(indentation)를 해주어야 함\n",
    "### - 공백(Space) 4칸 사용이 원칙 (Jupyter Notebook에서 자동으로 해 줌)\n",
    "### - 조건문 다음에 Colon(:)을 반드시 해야 함\n",
    "\n",
    "- 연산자 not x : x 가 거짓이면 참"
   ]
  },
  {
   "cell_type": "markdown",
   "metadata": {},
   "source": [
    "### (Case1 )"
   ]
  },
  {
   "cell_type": "code",
   "execution_count": 36,
   "metadata": {},
   "outputs": [
    {
     "name": "stdout",
     "output_type": "stream",
     "text": [
      "별다방에서 커피와 케익\n"
     ]
    }
   ],
   "source": [
    "money = 2000\n",
    "card = True\n",
    "\n",
    "if money >= 3000 or card:  \n",
    "    print(\"별다방에서 커피와 케익\")\n",
    "else:  \n",
    "    print(\"커피만 마시는 걸로\")\n"
   ]
  },
  {
   "cell_type": "markdown",
   "metadata": {},
   "source": [
    "### (Case 2)"
   ]
  },
  {
   "cell_type": "code",
   "execution_count": 37,
   "metadata": {},
   "outputs": [
    {
     "name": "stdout",
     "output_type": "stream",
     "text": [
      "카드를 사용하고......\n"
     ]
    }
   ],
   "source": [
    "pocket = ['paper', 'cellphone']\n",
    "card = True\n",
    "\n",
    "if 'money' in pocket: \n",
    "    print(\"현금을 사용하고.....\")\n",
    "elif card: \n",
    "    print(\"카드를 사용하고......\")\n",
    "else: \n",
    "    print(\"어떻게 할까???\")"
   ]
  },
  {
   "cell_type": "markdown",
   "metadata": {},
   "source": [
    "### pass 문 & If 문 한 줄로 작성하기 "
   ]
  },
  {
   "cell_type": "code",
   "execution_count": 38,
   "metadata": {},
   "outputs": [],
   "source": [
    "pocket = ['paper', 'money',  'cellphone',  'card']\n",
    "\n",
    "if 'money' in pocket:   \n",
    "    pass       #아무런 일도 하지 않도록 설정하고 싶을 때\n",
    "else: \n",
    "    print(\"카드를 사용......\")"
   ]
  },
  {
   "cell_type": "code",
   "execution_count": 39,
   "metadata": {},
   "outputs": [
    {
     "name": "stdout",
     "output_type": "stream",
     "text": [
      "success\n"
     ]
    }
   ],
   "source": [
    "# if문을 한 줄로 작성하기\n",
    "\n",
    "score = 90\n",
    "\n",
    "# if score >= 60:\n",
    "#     report = \"success\"\n",
    "# else:\n",
    "#     report = \"failure\"\n",
    "    \n",
    "\n",
    "report = \"success\" if score >= 60 else \"failure\" # 위 문장들을 한 줄로 \n",
    "\n",
    "print (report)\n"
   ]
  },
  {
   "cell_type": "markdown",
   "metadata": {},
   "source": [
    "## 10. While 문 - 기본 구조\n",
    "\n",
    "##### while <조건문> :\n",
    "#####          <수행할 문장1>\n",
    "#####          <수행할 문장2>\n",
    "#####   ...\n"
   ]
  },
  {
   "cell_type": "code",
   "execution_count": 40,
   "metadata": {},
   "outputs": [
    {
     "name": "stdout",
     "output_type": "stream",
     "text": [
      "나무를 1 번 찍었습니다.\n",
      "나무를 2 번 찍었습니다.\n",
      "나무를 3 번 찍었습니다.\n",
      "나무를 4 번 찍었습니다.\n",
      "나무를 5 번 찍었습니다.\n",
      "나무를 6 번 찍었습니다.\n",
      "나무를 7 번 찍었습니다.\n",
      "나무를 8 번 찍었습니다.\n",
      "나무를 9 번 찍었습니다.\n",
      "나무를 10 번 찍었습니다.\n",
      "나무가 넘어 집니다.\n"
     ]
    }
   ],
   "source": [
    "treeCut = 0\n",
    "\n",
    "while treeCut < 10:\n",
    "    treeCut = treeCut +1\n",
    "    print(\"나무를 {} 번 찍었습니다.\" .format(treeCut))     # format 은 데이터 출력 함수\n",
    "    if treeCut == 10:\n",
    "        print(\"나무가 넘어 집니다.\")"
   ]
  },
  {
   "cell_type": "markdown",
   "metadata": {},
   "source": [
    "### break 문 사용하기"
   ]
  },
  {
   "cell_type": "code",
   "execution_count": 49,
   "metadata": {},
   "outputs": [
    {
     "name": "stdout",
     "output_type": "stream",
     "text": [
      "돈을 넣어 주세요: 350.5\n"
     ]
    },
    {
     "ename": "ValueError",
     "evalue": "invalid literal for int() with base 10: '350.5'",
     "output_type": "error",
     "traceback": [
      "\u001b[1;31m-----------------------------------------------\u001b[0m",
      "\u001b[1;31mValueError\u001b[0m    Traceback (most recent call last)",
      "\u001b[1;32m<ipython-input-49-0396f78fa964>\u001b[0m in \u001b[0;36m<module>\u001b[1;34m\u001b[0m\n\u001b[0;32m      4\u001b[0m \u001b[1;33m\u001b[0m\u001b[0m\n\u001b[0;32m      5\u001b[0m \u001b[1;32mwhile\u001b[0m \u001b[1;32mTrue\u001b[0m\u001b[1;33m:\u001b[0m\u001b[1;33m\u001b[0m\u001b[1;33m\u001b[0m\u001b[0m\n\u001b[1;32m----> 6\u001b[1;33m     \u001b[0mmoney\u001b[0m \u001b[1;33m=\u001b[0m \u001b[0mint\u001b[0m\u001b[1;33m(\u001b[0m\u001b[0minput\u001b[0m\u001b[1;33m(\u001b[0m\u001b[1;34m\"돈을 넣어 주세요: \"\u001b[0m\u001b[1;33m)\u001b[0m\u001b[1;33m)\u001b[0m    \u001b[1;31m#   만약 350.5 같은 실수값을 입력하면.....\u001b[0m\u001b[1;33m\u001b[0m\u001b[1;33m\u001b[0m\u001b[0m\n\u001b[0m\u001b[0;32m      7\u001b[0m     \u001b[0mprint\u001b[0m\u001b[1;33m(\u001b[0m\u001b[1;34m\"money= \"\u001b[0m\u001b[1;33m,\u001b[0m\u001b[0mmoney\u001b[0m\u001b[1;33m)\u001b[0m\u001b[1;33m\u001b[0m\u001b[1;33m\u001b[0m\u001b[0m\n\u001b[0;32m      8\u001b[0m     \u001b[1;32mif\u001b[0m \u001b[0mmoney\u001b[0m \u001b[1;33m==\u001b[0m \u001b[1;36m500\u001b[0m \u001b[1;33m:\u001b[0m\u001b[1;33m\u001b[0m\u001b[1;33m\u001b[0m\u001b[0m\n",
      "\u001b[1;31mValueError\u001b[0m: invalid literal for int() with base 10: '350.5'"
     ]
    }
   ],
   "source": [
    "########################################### 과제 1) 실수값 입력시 에러 이유 & 해결방법\n",
    "\n",
    "coffee = 10\n",
    "\n",
    "while True:\n",
    "    money = int(input(\"돈을 넣어 주세요: \"))    #   만약 350.5 같은 실수값을 입력하면.....\n",
    "    print(\"money= \",money)\n",
    "    if money == 500 :\n",
    "        print(\"커피를 줍니다.\")\n",
    "        coffee = coffee -10\n",
    "        \n",
    "    elif money > 500:\n",
    "        print(\"거스름돈 {} 를 출력\" .format(money -500))\n",
    "        coffee = coffee -1\n",
    "    else:\n",
    "        print(\"돈을 돌려 줍니다.\")\n",
    "\n",
    "    if coffee == 0:\n",
    "        print(\"커피 Sold Out........\")\n",
    "        break         # while 문을 빠져 나갑니다.\n",
    "        "
   ]
  },
  {
   "cell_type": "code",
   "execution_count": 65,
   "metadata": {},
   "outputs": [
    {
     "name": "stdout",
     "output_type": "stream",
     "text": [
      "돈을 넣어 주세요: 350.5\n",
      "money=  350\n",
      "돈을 돌려 줍니다.\n",
      "돈을 넣어 주세요: 500\n",
      "money=  500\n",
      "커피를 줍니다.\n",
      "커피 Sold Out........\n"
     ]
    }
   ],
   "source": [
    "# 실수값 입력시 에러 발생 해결\n",
    "\n",
    "coffee = 10\n",
    "\n",
    "while True:\n",
    "    money = int(float(input(\"돈을 넣어 주세요: \")))    #   만약 350.5 같은 실수값을 입력하면.....\n",
    "    print(\"money= \",money)\n",
    "    if money == 500 :\n",
    "        print(\"커피를 줍니다.\")\n",
    "        coffee = coffee -10\n",
    "        \n",
    "    elif money > 500:\n",
    "        print(\"거스름돈 {} 를 출력\" .format(money -500))\n",
    "        coffee = coffee -1\n",
    "    else:\n",
    "        print(\"돈을 돌려 줍니다.\")\n",
    "\n",
    "    if coffee == 0:\n",
    "        print(\"커피 Sold Out........\")\n",
    "        break         # while 문을 빠져 나갑니다."
   ]
  },
  {
   "cell_type": "markdown",
   "metadata": {},
   "source": [
    "### continue  문 사용하기"
   ]
  },
  {
   "cell_type": "code",
   "execution_count": 68,
   "metadata": {},
   "outputs": [
    {
     "name": "stdout",
     "output_type": "stream",
     "text": [
      "1\n",
      "3\n",
      "5\n",
      "7\n",
      "9\n"
     ]
    }
   ],
   "source": [
    "# 10보다 작은 홀수 출력 하기\n",
    "\n",
    "a = 0\n",
    "\n",
    "while a < 10:\n",
    "    a = a + 1\n",
    "    if a % 2 == 0:      # 나머지를 반환하는 % 연산자\n",
    "        continue       # while문의 맨 처음(조건문: a<10)으로 돌아가게 하는 명령어\n",
    "    else:\n",
    "        print(a)\n"
   ]
  },
  {
   "cell_type": "markdown",
   "metadata": {},
   "source": [
    "## 11. For 문 - 기본 구조\n",
    "\n",
    "### - For 문의 전형적인 구조\n",
    "##### for 변수 in List(또는 Tuple, 문자열) :\n",
    "##### 수행할 문장 1\n",
    "##### 수행할 문장 2\n",
    "##### ...."
   ]
  },
  {
   "cell_type": "code",
   "execution_count": 69,
   "metadata": {},
   "outputs": [
    {
     "name": "stdout",
     "output_type": "stream",
     "text": [
      "one\n",
      "two\n",
      "three\n"
     ]
    }
   ],
   "source": [
    "test_list = ['one', 'two', 'three'] \n",
    "\n",
    "for i in test_list: \n",
    "    print(i)"
   ]
  },
  {
   "cell_type": "markdown",
   "metadata": {},
   "source": [
    "### For 문 - Example"
   ]
  },
  {
   "cell_type": "code",
   "execution_count": 76,
   "metadata": {},
   "outputs": [
    {
     "name": "stdout",
     "output_type": "stream",
     "text": [
      " 1 번 학생은 합격입니다. score = 93\n",
      " 2 번 학생은 불합격입니다.\n",
      " 3 번 학생은 합격입니다. score = 76\n",
      " 4 번 학생은 불합격입니다.\n",
      " 5 번 학생은 합격입니다. score = 81\n"
     ]
    }
   ],
   "source": [
    "marks = [93, 58, 76 , 67, 81]\n",
    "\n",
    "number = 0 \n",
    "\n",
    "for mark in marks: \n",
    "    number = number +1 \n",
    "    if mark >= 70: \n",
    "        print(\" {} 번 학생은 합격입니다. score = {}\" .format(number, mark))\n",
    "    else: \n",
    "        print(\" {} 번 학생은 불합격입니다.\" .format(number))\n"
   ]
  },
  {
   "cell_type": "markdown",
   "metadata": {},
   "source": [
    "### For 문 – Range 함수\n",
    "\n",
    "### - range 함수: 숫자 리스트를 자동으로 만들어 주는 함수 (중요!!!!)\n",
    "### - range(시작 숫자, 끝 숫자) 형태 : (주의) 끝 숫자는 포함되지 않음\n"
   ]
  },
  {
   "cell_type": "code",
   "execution_count": 71,
   "metadata": {},
   "outputs": [
    {
     "name": "stdout",
     "output_type": "stream",
     "text": [
      "2 4 6 8 10 12 14 16 18  \n",
      "3 6 9 12 15 18 21 24 27  \n",
      "4 8 12 16 20 24 28 32 36  \n",
      "5 10 15 20 25 30 35 40 45  \n",
      "6 12 18 24 30 36 42 48 54  \n",
      "7 14 21 28 35 42 49 56 63  \n",
      "8 16 24 32 40 48 56 64 72  \n",
      "9 18 27 36 45 54 63 72 81  \n"
     ]
    }
   ],
   "source": [
    "# 구구단 출력하기\n",
    "\n",
    "for i in range(2,10):             # ①번 for문\n",
    "    for j in range(1, 10):        # ②번 for문\n",
    "        print(i*j, end=\" \")        # end=\" \" : 한 줄에 계속해서 출력하기 위해서\n",
    "    print(' ')                     # 다음 줄부터 출력하게 해주는 문장\n"
   ]
  },
  {
   "cell_type": "code",
   "execution_count": 87,
   "metadata": {},
   "outputs": [
    {
     "name": "stdout",
     "output_type": "stream",
     "text": [
      "9.99999999999998\n"
     ]
    }
   ],
   "source": [
    "################################### 과제 2) 100 * 0.1 = 10 이 안되는 이유 & 해결방법\n",
    "\n",
    "result = 0.0\n",
    "\n",
    "for i in range(0,100) :   # 0 부터 99까지   \n",
    "    result = result + 0.1\n",
    "    \n",
    "print(result)"
   ]
  },
  {
   "cell_type": "code",
   "execution_count": 119,
   "metadata": {},
   "outputs": [
    {
     "name": "stdout",
     "output_type": "stream",
     "text": [
      "10.0\n"
     ]
    }
   ],
   "source": [
    "### 100 * 0.1 = 10 해결 (부동소수점 문제 해결)\n",
    "from decimal import Decimal\n",
    "\n",
    "result = 0.0\n",
    "\n",
    "for i in range(0,100) :   # 0 부터 99까지   \n",
    "    result = Decimal(result) + Decimal('0.1')\n",
    "    \n",
    "print(result)"
   ]
  },
  {
   "cell_type": "code",
   "execution_count": 129,
   "metadata": {},
   "outputs": [
    {
     "name": "stdout",
     "output_type": "stream",
     "text": [
      "false\n",
      "정답은  0.30000000000000004  입니다.\n"
     ]
    }
   ],
   "source": [
    "# 아래 문장은 True 혹은 False?\n",
    "\n",
    "if (0.1 + 0.2) == 0.3 :\n",
    "    print('true')\n",
    "else : \n",
    "    print('false')\n",
    "    print('정답은 ', 0.1 + 0.2, ' 입니다.')"
   ]
  },
  {
   "cell_type": "markdown",
   "metadata": {},
   "source": [
    "### For 문 – List comprehension "
   ]
  },
  {
   "cell_type": "code",
   "execution_count": 130,
   "metadata": {},
   "outputs": [
    {
     "name": "stdout",
     "output_type": "stream",
     "text": [
      "[3, 6, 9, 12, 15, 18, 21, 24, 27]\n"
     ]
    }
   ],
   "source": [
    "a = [1,2,3,4,5,6,7,8,9]\n",
    "result = [ ]\n",
    "\n",
    "for num in a:\n",
    "    result.append(num*3)\n",
    "\n",
    "print(result)"
   ]
  },
  {
   "cell_type": "code",
   "execution_count": 131,
   "metadata": {},
   "outputs": [
    {
     "name": "stdout",
     "output_type": "stream",
     "text": [
      "[3, 6, 9, 12, 15, 18, 21, 24, 27]\n"
     ]
    }
   ],
   "source": [
    "a = [1,2,3,4,5,6,7,8,9]\n",
    "result = [ ]\n",
    "\n",
    "result = [num * 3 for num in a]    # 위와 같은 결과의 logic 을 한 줄로 작성하기\n",
    "\n",
    "print(result)"
   ]
  },
  {
   "cell_type": "code",
   "execution_count": 133,
   "metadata": {},
   "outputs": [
    {
     "name": "stdout",
     "output_type": "stream",
     "text": [
      "[6, 12, 18, 24]\n"
     ]
    }
   ],
   "source": [
    "a = [1,2,3,4,5,6,7,8,9]\n",
    "result = [ ]\n",
    "\n",
    "result = [num * 3 for num in a if num % 2 == 0]     # 리스트내 짝수에 3을 곱하기\n",
    "\n",
    "print(result)"
   ]
  },
  {
   "cell_type": "code",
   "execution_count": null,
   "metadata": {},
   "outputs": [],
   "source": []
  }
 ],
 "metadata": {
  "kernelspec": {
   "display_name": "Python 3",
   "language": "python",
   "name": "python3"
  },
  "language_info": {
   "codemirror_mode": {
    "name": "ipython",
    "version": 3
   },
   "file_extension": ".py",
   "mimetype": "text/x-python",
   "name": "python",
   "nbconvert_exporter": "python",
   "pygments_lexer": "ipython3",
   "version": "3.7.4"
  }
 },
 "nbformat": 4,
 "nbformat_minor": 2
}
